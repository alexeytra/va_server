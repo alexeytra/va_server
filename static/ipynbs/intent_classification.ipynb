{
  "nbformat": 4,
  "nbformat_minor": 0,
  "metadata": {
    "colab": {
      "name": "intent_classification.ipynb",
      "provenance": [],
      "collapsed_sections": [
        "sIiol48voCCA",
        "_PXrtHRBlFPb",
        "h3TGZEK9Xx2r"
      ]
    },
    "kernelspec": {
      "name": "python3",
      "display_name": "Python 3"
    }
  },
  "cells": [
    {
      "cell_type": "code",
      "metadata": {
        "id": "WErpZ73imgLJ",
        "colab": {
          "base_uri": "https://localhost:8080/"
        },
        "outputId": "86592e1f-2d94-4c1a-fdaf-7ad74a027a3a"
      },
      "source": [
        "import glob\n",
        "from google.colab import drive\n",
        "drive.mount('/content/drive')"
      ],
      "execution_count": 1,
      "outputs": [
        {
          "output_type": "stream",
          "text": [
            "Mounted at /content/drive\n"
          ],
          "name": "stdout"
        }
      ]
    },
    {
      "cell_type": "markdown",
      "metadata": {
        "id": "pwxih8ij-PpT"
      },
      "source": [
        "https://towardsdatascience.com/multi-class-text-classification-with-scikit-learn-12f1e60e0a9f"
      ]
    },
    {
      "cell_type": "markdown",
      "metadata": {
        "id": "TF27qZ7Afuwb"
      },
      "source": [
        "# Text preprocessing"
      ]
    },
    {
      "cell_type": "code",
      "metadata": {
        "id": "lmtlWUpDAkAQ",
        "colab": {
          "base_uri": "https://localhost:8080/",
          "height": 204
        },
        "outputId": "10287d59-21b8-4ec3-96c5-858d64d7952e"
      },
      "source": [
        "import numpy as np\n",
        "import tensorflow as tf\n",
        "import random\n",
        "import json\n",
        "import pickle\n",
        "import pandas as pd\n",
        "from sklearn.cluster import MiniBatchKMeans\n",
        "from sklearn.feature_extraction.text import TfidfVectorizer\n",
        "from sklearn.decomposition import PCA\n",
        "import matplotlib.pyplot as plt\n",
        "from io import StringIO\n",
        "from sklearn.feature_extraction.text import TfidfVectorizer\n",
        "from sklearn.model_selection import train_test_split\n",
        "from sklearn.feature_extraction.text import CountVectorizer\n",
        "from sklearn.naive_bayes import MultinomialNB\n",
        "from sklearn.feature_extraction.text import TfidfTransformer\n",
        "\n",
        "drive_path = '/content/drive/My Drive/diplom_data/'\n",
        "\n",
        "with open( drive_path + 'intents.json') as file:\n",
        "    data = json.load(file)\n",
        "\n",
        "intents = {\n",
        "    'pattern': [],\n",
        "    'label': []\n",
        "}\n",
        "\n",
        "labels = []\n",
        "for intent in data[\"intents\"]:\n",
        "  for pattern in intent[\"patterns\"]:\n",
        "    intents['pattern'].append(pattern)\n",
        "    intents['label'].append(intent[\"tag\"])\n",
        "\n",
        "    if intent[\"tag\"] not in labels:\n",
        "       labels.append(intent[\"tag\"])\n",
        "\n",
        "df = pd.DataFrame(list(zip(intents['pattern'], intents['label'])), columns=['text', 'label'])\n",
        "df.head()"
      ],
      "execution_count": 2,
      "outputs": [
        {
          "output_type": "execute_result",
          "data": {
            "text/html": [
              "<div>\n",
              "<style scoped>\n",
              "    .dataframe tbody tr th:only-of-type {\n",
              "        vertical-align: middle;\n",
              "    }\n",
              "\n",
              "    .dataframe tbody tr th {\n",
              "        vertical-align: top;\n",
              "    }\n",
              "\n",
              "    .dataframe thead th {\n",
              "        text-align: right;\n",
              "    }\n",
              "</style>\n",
              "<table border=\"1\" class=\"dataframe\">\n",
              "  <thead>\n",
              "    <tr style=\"text-align: right;\">\n",
              "      <th></th>\n",
              "      <th>text</th>\n",
              "      <th>label</th>\n",
              "    </tr>\n",
              "  </thead>\n",
              "  <tbody>\n",
              "    <tr>\n",
              "      <th>0</th>\n",
              "      <td>Привет</td>\n",
              "      <td>greeting</td>\n",
              "    </tr>\n",
              "    <tr>\n",
              "      <th>1</th>\n",
              "      <td>Есть кто-нибудь</td>\n",
              "      <td>greeting</td>\n",
              "    </tr>\n",
              "    <tr>\n",
              "      <th>2</th>\n",
              "      <td>Приветики</td>\n",
              "      <td>greeting</td>\n",
              "    </tr>\n",
              "    <tr>\n",
              "      <th>3</th>\n",
              "      <td>Ауу</td>\n",
              "      <td>greeting</td>\n",
              "    </tr>\n",
              "    <tr>\n",
              "      <th>4</th>\n",
              "      <td>Здравствуй</td>\n",
              "      <td>greeting</td>\n",
              "    </tr>\n",
              "  </tbody>\n",
              "</table>\n",
              "</div>"
            ],
            "text/plain": [
              "              text     label\n",
              "0           Привет  greeting\n",
              "1  Есть кто-нибудь  greeting\n",
              "2        Приветики  greeting\n",
              "3              Ауу  greeting\n",
              "4       Здравствуй  greeting"
            ]
          },
          "metadata": {
            "tags": []
          },
          "execution_count": 2
        }
      ]
    },
    {
      "cell_type": "code",
      "metadata": {
        "id": "6uaNkiLPGtIH"
      },
      "source": [
        "import random\n",
        "def get_answer(tag):\n",
        "  responses = ''\n",
        "  add_info = ''\n",
        "  for tg in data[\"intents\"]:\n",
        "    if tg['tag'] == tag:\n",
        "      responses = tg['response']\n",
        "      add_info = tg['add_info']\n",
        "  response = random.choice(responses)\n",
        "  return (response, add_info)"
      ],
      "execution_count": 25,
      "outputs": []
    },
    {
      "cell_type": "code",
      "metadata": {
        "id": "tewb1PNLLVFp"
      },
      "source": [
        "texts = df['text'].values\n",
        "labels = df['label'].values\n",
        "\n",
        "with open(\"texts.txt\", \"w\") as file:\n",
        "  for text in texts:\n",
        "    file.write(text + '\\n')"
      ],
      "execution_count": null,
      "outputs": []
    },
    {
      "cell_type": "markdown",
      "metadata": {
        "id": "5YGfYN5JQYA-"
      },
      "source": [
        "# Accurancy test"
      ]
    },
    {
      "cell_type": "code",
      "metadata": {
        "id": "X84tPGZ3STs0"
      },
      "source": [
        "from sklearn.metrics import accuracy_score\n",
        "def model_accurancy_clust(predict):\n",
        "  y_true = []\n",
        "  y_pred = []\n",
        "  for label in df['label']:\n",
        "    y_true.append(label)\n",
        "  for text in df['text']:\n",
        "    y_pred.append(labels[predict(vec.transform([text]))[0]])\n",
        "\n",
        "  print('y_true = ', y_true)\n",
        "  print('y_pred = ', y_pred)\n",
        "  return accuracy_score(y_true, y_pred)"
      ],
      "execution_count": null,
      "outputs": []
    },
    {
      "cell_type": "code",
      "metadata": {
        "id": "OcvVU80lW8pC"
      },
      "source": [
        "from sklearn.metrics import accuracy_score\n",
        "def model_accurancy(predict):\n",
        "  y_true = []\n",
        "  y_pred = []\n",
        "  for label in df['label']:\n",
        "    y_true.append(label)\n",
        "  for text in df['text']:\n",
        "    y_pred.append(predict(text))\n",
        "\n",
        "  print('y_true = ', y_true)\n",
        "  print('y_pred = ', y_pred)\n",
        "  return accuracy_score(y_true, y_pred)"
      ],
      "execution_count": null,
      "outputs": []
    },
    {
      "cell_type": "markdown",
      "metadata": {
        "id": "RdIHUzCxDpGI"
      },
      "source": [
        "# Text clustering"
      ]
    },
    {
      "cell_type": "code",
      "metadata": {
        "id": "WEQKHRmLDsuJ",
        "colab": {
          "base_uri": "https://localhost:8080/"
        },
        "outputId": "d3e1897c-4df2-42d9-efc4-4c2fc3ac306a"
      },
      "source": [
        "# for reproducibility\n",
        "random_state = 0 \n",
        "vec = TfidfVectorizer()\n",
        "vec.fit(df.text.values)\n",
        "features = vec.transform(df.text.values)\n",
        "print(\"Count clust \" + str(len(labels)))\n",
        "cls = MiniBatchKMeans(n_clusters=len(labels), random_state=random_state)\n",
        "cls.fit(features)\n",
        "cls.predict(features)\n",
        "cls.labels_"
      ],
      "execution_count": null,
      "outputs": [
        {
          "output_type": "stream",
          "text": [
            "Count clust 38\n"
          ],
          "name": "stdout"
        },
        {
          "output_type": "execute_result",
          "data": {
            "text/plain": [
              "array([27,  9, 15, 27, 36,  0,  0, 23, 15, 23, 14, 14, 17, 17, 28, 28, 32,\n",
              "       37, 15, 30, 33,  8,  8, 24, 15, 35,  5, 15,  5,  5, 15,  2,  3,  2,\n",
              "       31, 31, 15, 10, 10, 10, 10, 12, 12,  4, 20, 15, 20, 34,  2, 34, 34,\n",
              "       34, 21, 12, 20, 20,  7,  7, 19, 19, 19,  2,  7,  2,  2,  7, 15, 24,\n",
              "       12,  1, 12,  1, 20, 20,  6, 21, 13, 21, 25, 15, 25, 26, 26, 26, 11,\n",
              "       11, 15, 11, 22, 22, 15, 18, 18, 18, 18,  0, 16, 13, 16,  2, 15, 29,\n",
              "       29,  2, 15,  1, 21, 13,  1, 12,  1,  1, 12], dtype=int32)"
            ]
          },
          "metadata": {
            "tags": []
          },
          "execution_count": 15
        }
      ]
    },
    {
      "cell_type": "code",
      "metadata": {
        "id": "H1yt_klQEPi0",
        "colab": {
          "base_uri": "https://localhost:8080/",
          "height": 282
        },
        "outputId": "11ba3e99-3f38-44fd-d686-6154db1022a2"
      },
      "source": [
        "#visualization\n",
        "# reduce the features to 2D\n",
        "pca = PCA(n_components=2, random_state=random_state)\n",
        "reduced_features = pca.fit_transform(features.toarray())\n",
        "\n",
        "# reduce the cluster centers to 2D\n",
        "reduced_cluster_centers = pca.transform(cls.cluster_centers_)\n",
        "plt.scatter(reduced_features[:,0], reduced_features[:,1], c=cls.predict(features))\n",
        "plt.scatter(reduced_cluster_centers[:, 0], reduced_cluster_centers[:,1], marker='x', s=150, c='b')"
      ],
      "execution_count": null,
      "outputs": [
        {
          "output_type": "execute_result",
          "data": {
            "text/plain": [
              "<matplotlib.collections.PathCollection at 0x7f35073bb630>"
            ]
          },
          "metadata": {
            "tags": []
          },
          "execution_count": 6
        },
        {
          "output_type": "display_data",
          "data": {
            "image/png": "[encoded data removed]",
            "text/plain": [
              "<Figure size 432x288 with 1 Axes>"
            ]
          },
          "metadata": {
            "tags": [],
            "needs_background": "light"
          }
        }
      ]
    },
    {
      "cell_type": "code",
      "metadata": {
        "id": "iEICnI4MEei0",
        "colab": {
          "base_uri": "https://localhost:8080/"
        },
        "outputId": "6eb407e1-ea96-4fb5-f9e0-f468e4977bb6"
      },
      "source": [
        "#Оценка\n",
        "# from sklearn.metrics import homogeneity_score\n",
        "# homogeneity_score(df.label, cls.predict(features))\n",
        "\n",
        "print(model_accurancy_clust(cls.predict))"
      ],
      "execution_count": null,
      "outputs": [
        {
          "output_type": "stream",
          "text": [
            "y_true =  ['greeting', 'greeting', 'greeting', 'greeting', 'greeting_ques', 'greeting_ques', 'greeting_ques', 'thanks', 'thanks', 'thanks', 'greeting_day', 'greeting_day', 'greeting_morning', 'greeting_morning', 'greeting_evening', 'greeting_evening', 'goodbye', 'goodbye', 'goodbye', 'goodbye', 'age', 'age', 'age', 'name', 'name', 'name', 'what_can_you_do', 'what_can_you_do', 'what_can_you_do', 'what_can_you_do', 'general_info_address', 'general_info_address', 'general_info_address', 'general_info_address', 'general_info_website', 'general_info_website', 'general_info_lk', 'general_info_lk', 'general_info_lk', 'general_info_lk', 'general_info_lk', 'general_phone_num', 'general_phone_num', 'general_phone_num', 'general_email', 'general_email', 'general_email', 'select_commit_address', 'select_commit_address', 'select_commit_phone_num', 'select_commit_phone_num', 'select_commit_work', 'select_commit_work', 'kaf_phone_num', 'kaf_email', 'kaf_email', 'kaf_teachers', 'kaf_teachers', 'kaf_chief', 'kaf_chief', 'kaf_chief', 'kaf_location', 'kaf_location', 'fac_location', 'fac_location', 'fac_location', 'fac_chief', 'fac_chief', 'fac_phone_num', 'fac_phone_num', 'fac_phone_num', 'fac_phone_num', 'fac_email', 'fac_email', 'fac_email', 'fac_work_time', 'fac_work_time', 'fac_work_time', 'class_location', 'class_location', 'class_location', 'esstu_news', 'esstu_news', 'esstu_news', 'which_week', 'which_week', 'which_week', 'which_week', 'academic_leave', 'academic_leave', 'academic_leave', 'scholarship', 'scholarship', 'scholarship', 'scholarship', 'doctor_schedule', 'doctor_schedule', 'doctor_schedule', 'doctor_schedule', 'location_doctor_office', 'location_doctor_office', 'location_doctor_office', 'location_doctor_office', 'location_student_hospital', 'location_student_hospital', 'location_student_hospital', 'work_hours_hospital', 'work_hours_hospital', 'work_hours_hospital', 'phone_number_student_hospital', 'phone_number_student_hospital', 'phone_number_student_hospital', 'phone_number_student_hospital']\n",
            "y_pred =  ['fac_work_time', 'what_can_you_do', 'select_commit_address', 'fac_work_time', 'work_hours_hospital', 'greeting', 'greeting', 'fac_location', 'select_commit_address', 'fac_location', 'general_email', 'general_email', 'select_commit_work', 'select_commit_work', 'class_location', 'class_location', 'scholarship', 'phone_number_student_hospital', 'select_commit_address', 'which_week', 'doctor_schedule', 'name', 'name', 'fac_chief', 'select_commit_address', 'location_student_hospital', 'greeting_evening', 'select_commit_address', 'greeting_evening', 'greeting_evening', 'select_commit_address', 'thanks', 'greeting_day', 'thanks', 'academic_leave', 'academic_leave', 'select_commit_address', 'general_info_address', 'general_info_address', 'general_info_address', 'general_info_address', 'general_info_lk', 'general_info_lk', 'greeting_morning', 'kaf_teachers', 'select_commit_address', 'kaf_teachers', 'location_doctor_office', 'thanks', 'location_doctor_office', 'location_doctor_office', 'location_doctor_office', 'kaf_chief', 'general_info_lk', 'kaf_teachers', 'kaf_teachers', 'age', 'age', 'kaf_email', 'kaf_email', 'kaf_email', 'thanks', 'age', 'thanks', 'thanks', 'age', 'select_commit_address', 'fac_chief', 'general_info_lk', 'greeting_ques', 'general_info_lk', 'greeting_ques', 'kaf_teachers', 'kaf_teachers', 'goodbye', 'kaf_chief', 'general_phone_num', 'kaf_chief', 'fac_phone_num', 'select_commit_address', 'fac_phone_num', 'fac_email', 'fac_email', 'fac_email', 'general_info_website', 'general_info_website', 'select_commit_address', 'general_info_website', 'kaf_location', 'kaf_location', 'select_commit_address', 'kaf_phone_num', 'kaf_phone_num', 'kaf_phone_num', 'kaf_phone_num', 'greeting', 'select_commit_phone_num', 'general_phone_num', 'select_commit_phone_num', 'thanks', 'select_commit_address', 'esstu_news', 'esstu_news', 'thanks', 'select_commit_address', 'greeting_ques', 'kaf_chief', 'general_phone_num', 'greeting_ques', 'general_info_lk', 'greeting_ques', 'greeting_ques', 'general_info_lk']\n",
            "0.008849557522123894\n"
          ],
          "name": "stdout"
        }
      ]
    },
    {
      "cell_type": "code",
      "metadata": {
        "id": "-G-NzS4FGZPc",
        "colab": {
          "base_uri": "https://localhost:8080/"
        },
        "outputId": "dd5e5aaa-c6be-4a26-8228-715dc7edcac8"
      },
      "source": [
        "features = vec.transform([\"Спасибо\"])\n",
        "result = cls.predict(features)[0]\n",
        "print(labels[result])"
      ],
      "execution_count": null,
      "outputs": [
        {
          "output_type": "stream",
          "text": [
            "fac_location\n"
          ],
          "name": "stdout"
        }
      ]
    },
    {
      "cell_type": "markdown",
      "metadata": {
        "id": "ZbUOKIb5ReuK"
      },
      "source": [
        "# Naive Bayes classifier"
      ]
    },
    {
      "cell_type": "code",
      "metadata": {
        "id": "oWgMifMwRkW0",
        "colab": {
          "base_uri": "https://localhost:8080/"
        },
        "outputId": "f8c8b00e-8133-4b7e-d8c8-9805d088c392"
      },
      "source": [
        "def data_prepare():\n",
        "    col = ['text', 'label']\n",
        "    y=df\n",
        "    y = y[col]\n",
        "    y = y[pd.notnull(y['label'])]\n",
        "    y.columns = ['text', 'label']\n",
        "    y['category_id'] = y['text'].factorize()[0]\n",
        "    category_id_df = y[['text', 'category_id']].drop_duplicates().sort_values('category_id')\n",
        "    category_to_id = dict(category_id_df.values)\n",
        "    id_to_category = dict(category_id_df[['category_id', 'text']].values)\n",
        "    return y\n",
        "\n",
        "print(data_prepare())"
      ],
      "execution_count": null,
      "outputs": [
        {
          "output_type": "stream",
          "text": [
            "                                              text  ... category_id\n",
            "0                                           Привет  ...           0\n",
            "1                                  Есть кто-нибудь  ...           1\n",
            "2                                        Приветики  ...           2\n",
            "3                                              Ауу  ...           3\n",
            "4                                        Как дела?  ...           4\n",
            "..                                             ...  ...         ...\n",
            "108          Время работы студенческой поликлиники  ...         106\n",
            "109        Номер телефона студенческой поликлиники  ...         107\n",
            "110               Телефон студенческой поликлиники  ...         108\n",
            "111           Какой номер студенческой поликлиники  ...         109\n",
            "112  Какой номер телефона студенческой поликлиники  ...         110\n",
            "\n",
            "[113 rows x 3 columns]\n"
          ],
          "name": "stdout"
        }
      ]
    },
    {
      "cell_type": "code",
      "metadata": {
        "id": "dlZJFSHuSOf9"
      },
      "source": [
        "\n",
        "def naive_algo():\n",
        "    tfidf = TfidfVectorizer(sublinear_tf=True, min_df=5, norm='l2', ngram_range=(1, 2))\n",
        "    df = data_prepare()\n",
        "    features = tfidf.fit_transform(df.text).toarray()\n",
        "    labels = df.category_id\n",
        "    # print(features.shape)\n",
        "    X_train, X_test, y_train, y_test = train_test_split(df['text'], df['label'], random_state = 0)\n",
        "    count_vect = CountVectorizer()\n",
        "    X_train_counts = count_vect.fit_transform(X_train)\n",
        "    tfidf_transformer = TfidfTransformer()\n",
        "    X_train_tfidf = tfidf_transformer.fit_transform(X_train_counts)\n",
        "\n",
        "    clf = MultinomialNB(alpha = 0.1).fit(X_train_tfidf, y_train)\n",
        "    return clf,count_vect\n"
      ],
      "execution_count": null,
      "outputs": []
    },
    {
      "cell_type": "code",
      "metadata": {
        "id": "zEh4q0MWSQ5k"
      },
      "source": [
        "def predict(question):\n",
        "    clf, count_vect = naive_algo()\n",
        "    intent = clf.predict(count_vect.transform([question]))\n",
        "    intent = str(intent).strip(\"['']\")\n",
        "    print(clf.predict_proba(count_vect.transform([question])))\n",
        "    # print(intent)\n",
        "    return intent"
      ],
      "execution_count": null,
      "outputs": []
    },
    {
      "cell_type": "code",
      "metadata": {
        "id": "4VaoNJ0bSSPg"
      },
      "source": [
        "while True:\n",
        "  ques = input(\"Enter your question \")\n",
        "  if ques == 'q':\n",
        "    break\n",
        "  response_add_info = get_answer(predict(ques))\n",
        "  print(response_add_info[0] + ' ' + response_add_info[1])"
      ],
      "execution_count": null,
      "outputs": []
    },
    {
      "cell_type": "code",
      "metadata": {
        "id": "vawpsmSYXdpV"
      },
      "source": [
        "model_accurancy(predict)"
      ],
      "execution_count": null,
      "outputs": []
    },
    {
      "cell_type": "markdown",
      "metadata": {
        "id": "sIiol48voCCA"
      },
      "source": [
        "# SVM"
      ]
    },
    {
      "cell_type": "code",
      "metadata": {
        "id": "tUQcegyDoEwq"
      },
      "source": [
        "from sklearn.svm import SVC, LinearSVC# Support Vector Machine\n",
        "from sklearn.pipeline import Pipeline #pipeline to implement steps in series\n",
        "from gensim import parsing \n",
        "\n",
        "tfidf = TfidfVectorizer(sublinear_tf=True, min_df=5, norm='l2', ngram_range=(1, 2))\n",
        "df = data_prepare()\n",
        "features = tfidf.fit_transform(df.text).toarray()\n",
        "labels = df.category_id\n",
        "# print(features.shape)\n",
        "X_train, X_test, y_train, y_test = train_test_split(df['text'], df['label'], random_state = 0)\n",
        "count_vect = CountVectorizer()\n",
        "X_train_counts = count_vect.fit_transform(X_train)\n",
        "tfidf_transformer = TfidfTransformer()\n",
        "X_train_tfidf = tfidf_transformer.fit_transform(X_train_counts)\n",
        "\n",
        "clf = LinearSVC()\n",
        "\n",
        "#train model\n",
        "clf.fit(X_train_tfidf, y_train)\n",
        "\n",
        "def svm_predict(question): \n",
        "  return clf.predict(count_vect.transform([question]))[0]\n",
        "\n",
        "# print(X_test)\n",
        "# predicted = text_clf.predict(X_test)\n",
        "# print(predicted)"
      ],
      "execution_count": null,
      "outputs": []
    },
    {
      "cell_type": "code",
      "metadata": {
        "id": "lQBIKLYpujyP",
        "colab": {
          "base_uri": "https://localhost:8080/"
        },
        "outputId": "edfdcb46-8e69-4a4e-a502-0610c0f85a5b"
      },
      "source": [
        "#predict class form test data \n",
        "while True:\n",
        "  question = input(\"Enter your question \")\n",
        "  if question == 'q':\n",
        "    break\n",
        "  response_add_info = get_answer(svm_predict(question))\n",
        "  print(response_add_info[0] + ' ' + response_add_info[1])\n"
      ],
      "execution_count": null,
      "outputs": [
        {
          "output_type": "stream",
          "text": [
            "Enter your question й\n",
            "Пока \n",
            "Enter your question q\n"
          ],
          "name": "stdout"
        }
      ]
    },
    {
      "cell_type": "code",
      "metadata": {
        "id": "ZV8RadQkcU-s",
        "colab": {
          "base_uri": "https://localhost:8080/"
        },
        "outputId": "a7f00cea-7323-44c7-bc01-4d76c7814991"
      },
      "source": [
        "model_accurancy(svm_predict)"
      ],
      "execution_count": null,
      "outputs": [
        {
          "output_type": "stream",
          "text": [
            "y_true =  ['greeting', 'greeting', 'greeting', 'greeting', 'greeting_ques', 'greeting_ques', 'greeting_ques', 'thanks', 'thanks', 'thanks', 'greeting_day', 'greeting_day', 'greeting_morning', 'greeting_morning', 'greeting_evening', 'greeting_evening', 'goodbye', 'goodbye', 'goodbye', 'goodbye', 'age', 'age', 'age', 'name', 'name', 'name', 'what_can_you_do', 'what_can_you_do', 'what_can_you_do', 'what_can_you_do', 'general_info_address', 'general_info_address', 'general_info_address', 'general_info_address', 'general_info_website', 'general_info_website', 'general_info_lk', 'general_info_lk', 'general_info_lk', 'general_info_lk', 'general_info_lk', 'general_phone_num', 'general_phone_num', 'general_phone_num', 'general_email', 'general_email', 'general_email', 'select_commit_address', 'select_commit_address', 'select_commit_phone_num', 'select_commit_phone_num', 'select_commit_work', 'select_commit_work', 'kaf_phone_num', 'kaf_email', 'kaf_email', 'kaf_teachers', 'kaf_teachers', 'kaf_chief', 'kaf_chief', 'kaf_chief', 'kaf_location', 'kaf_location', 'fac_location', 'fac_location', 'fac_location', 'fac_chief', 'fac_chief', 'fac_phone_num', 'fac_phone_num', 'fac_phone_num', 'fac_phone_num', 'fac_email', 'fac_email', 'fac_email', 'fac_work_time', 'fac_work_time', 'fac_work_time', 'class_location', 'class_location', 'class_location', 'esstu_news', 'esstu_news', 'esstu_news', 'which_week', 'which_week', 'which_week', 'which_week', 'academic_leave', 'academic_leave', 'academic_leave', 'scholarship', 'scholarship', 'scholarship', 'scholarship', 'doctor_schedule', 'doctor_schedule', 'doctor_schedule', 'doctor_schedule', 'location_doctor_office', 'location_doctor_office', 'location_doctor_office', 'location_doctor_office', 'location_student_hospital', 'location_student_hospital', 'location_student_hospital', 'work_hours_hospital', 'work_hours_hospital', 'work_hours_hospital', 'phone_number_student_hospital', 'phone_number_student_hospital', 'phone_number_student_hospital', 'phone_number_student_hospital']\n",
            "y_pred =  ['greeting', 'greeting', 'goodbye', 'goodbye', 'greeting_ques', 'greeting_ques', 'greeting_ques', 'thanks', 'what_can_you_do', 'thanks', 'greeting_day', 'greeting_day', 'greeting_morning', 'greeting_morning', 'greeting_evening', 'greeting_evening', 'goodbye', 'goodbye', 'goodbye', 'goodbye', 'age', 'age', 'age', 'name', 'name', 'name', 'what_can_you_do', 'what_can_you_do', 'what_can_you_do', 'what_can_you_do', 'general_info_address', 'general_info_address', 'general_info_address', 'general_info_address', 'general_info_website', 'general_info_website', 'general_info_lk', 'general_info_lk', 'general_info_lk', 'general_info_lk', 'general_info_lk', 'general_phone_num', 'fac_phone_num', 'general_info_address', 'general_email', 'general_phone_num', 'general_email', 'select_commit_address', 'select_commit_address', 'select_commit_phone_num', 'select_commit_phone_num', 'select_commit_work', 'select_commit_work', 'kaf_phone_num', 'kaf_email', 'kaf_email', 'kaf_email', 'kaf_teachers', 'kaf_chief', 'kaf_chief', 'kaf_chief', 'kaf_location', 'kaf_location', 'general_info_address', 'fac_location', 'fac_location', 'fac_chief', 'fac_chief', 'fac_phone_num', 'fac_phone_num', 'fac_phone_num', 'fac_phone_num', 'fac_email', 'fac_email', 'fac_email', 'fac_work_time', 'work_hours_hospital', 'fac_work_time', 'class_location', 'class_location', 'class_location', 'esstu_news', 'esstu_news', 'esstu_news', 'which_week', 'which_week', 'which_week', 'which_week', 'academic_leave', 'academic_leave', 'academic_leave', 'scholarship', 'scholarship', 'scholarship', 'scholarship', 'doctor_schedule', 'doctor_schedule', 'work_hours_hospital', 'doctor_schedule', 'location_doctor_office', 'location_doctor_office', 'location_doctor_office', 'location_doctor_office', 'location_student_hospital', 'class_location', 'phone_number_student_hospital', 'work_hours_hospital', 'work_hours_hospital', 'phone_number_student_hospital', 'phone_number_student_hospital', 'phone_number_student_hospital', 'phone_number_student_hospital', 'phone_number_student_hospital']\n"
          ],
          "name": "stdout"
        },
        {
          "output_type": "execute_result",
          "data": {
            "text/plain": [
              "0.8849557522123894"
            ]
          },
          "metadata": {
            "tags": []
          },
          "execution_count": 41
        }
      ]
    },
    {
      "cell_type": "markdown",
      "metadata": {
        "id": "_PXrtHRBlFPb"
      },
      "source": [
        "# Simple NN\n",
        "\n",
        "https://www.tensorflow.org/tutorials/keras/text_classification_with_hub\n",
        "\n",
        "https://www.tensorflow.org/tutorials/keras/text_classification"
      ]
    },
    {
      "cell_type": "code",
      "metadata": {
        "id": "SCsNoqupf4eN",
        "colab": {
          "base_uri": "https://localhost:8080/"
        },
        "outputId": "0443ac18-bc11-427f-d80e-7242348aaa8c"
      },
      "source": [
        "import numpy as np\n",
        "import tensorflow as tf\n",
        "\n",
        "print(\"Version: \", tf.__version__)\n",
        "print(\"Eager mode: \", tf.executing_eagerly())\n",
        "print(\"GPU is\", \"available\" if tf.config.experimental.list_physical_devices(\"GPU\") else \"NOT AVAILABLE\")\n",
        "\n"
      ],
      "execution_count": null,
      "outputs": [
        {
          "output_type": "stream",
          "text": [
            "Version:  2.4.0\n",
            "Eager mode:  True\n",
            "GPU is NOT AVAILABLE\n"
          ],
          "name": "stdout"
        }
      ]
    },
    {
      "cell_type": "code",
      "metadata": {
        "id": "OrLn039NNdw_"
      },
      "source": [
        "from keras.models import Sequential\n",
        "from keras import layers\n",
        "from keras.preprocessing.text import Tokenizer\n",
        "from keras.preprocessing.sequence import pad_sequences\n",
        "from sklearn.model_selection import train_test_split\n",
        "from sklearn.preprocessing import LabelBinarizer\n",
        "\n",
        "texts = df['text'].values\n",
        "labels = df['label'].values\n",
        "\n",
        "maxlen = len(max(texts, key=len).split()) + 10\n",
        "embedding_dim = 300\n",
        "\n",
        "num_samples = pd.Series(labels, name='A').unique()\n",
        "\n",
        "sentences_train, sentences_test, y_train, y_test = train_test_split(texts, labels, test_size=0.01, random_state=1000)\n",
        "# print(sentences_train, y_train)\n",
        "\n",
        "tokenizer = Tokenizer(num_words=1000)\n",
        "tokenizer.fit_on_texts(sentences_train)\n",
        "\n",
        "encoder = LabelBinarizer()\n",
        "\n",
        "X_train = tokenizer.texts_to_sequences(sentences_train)\n",
        "X_test = tokenizer.texts_to_sequences(sentences_test)\n",
        "\n",
        "\n",
        "encoder.fit(y_train)\n",
        "y_train = encoder.transform(y_train)\n",
        "y_test = encoder.transform(y_test)\n",
        "\n",
        "vocab_size = len(tokenizer.word_index) + 1 \n",
        "\n",
        "\n",
        "X_train = pad_sequences(X_train, padding='post', maxlen=maxlen)\n",
        "X_test = pad_sequences(X_test, padding='post', maxlen=maxlen)\n"
      ],
      "execution_count": null,
      "outputs": []
    },
    {
      "cell_type": "code",
      "metadata": {
        "id": "9I7exunzWcBB",
        "colab": {
          "base_uri": "https://localhost:8080/"
        },
        "outputId": "859f80a2-2c2b-45f5-9c6b-e2f2b40c7be7"
      },
      "source": [
        "model = Sequential()\n",
        "model.add(layers.Embedding(input_dim=vocab_size, \n",
        "                           output_dim=embedding_dim, \n",
        "                           input_length=maxlen))\n",
        "model.add(layers.GlobalMaxPool1D())\n",
        "model.add(layers.Dense(80, activation='relu'))\n",
        "model.add(layers.Dense(32, activation='relu'))\n",
        "# model.add(layers.Dropout(0.3))\n",
        "model.add(layers.Dense(num_samples.size, activation='softmax'))\n",
        "model.compile(optimizer='adam',\n",
        "              loss='categorical_crossentropy',\n",
        "              metrics=['categorical_accuracy'])\n",
        "model.summary()"
      ],
      "execution_count": null,
      "outputs": [
        {
          "output_type": "stream",
          "text": [
            "Model: \"sequential_4\"\n",
            "_________________________________________________________________\n",
            "Layer (type)                 Output Shape              Param #   \n",
            "=================================================================\n",
            "embedding_3 (Embedding)      (None, 17, 300)           54600     \n",
            "_________________________________________________________________\n",
            "global_max_pooling1d_1 (Glob (None, 300)               0         \n",
            "_________________________________________________________________\n",
            "dense_5 (Dense)              (None, 80)                24080     \n",
            "_________________________________________________________________\n",
            "dense_6 (Dense)              (None, 32)                2592      \n",
            "_________________________________________________________________\n",
            "dense_7 (Dense)              (None, 39)                1287      \n",
            "=================================================================\n",
            "Total params: 82,559\n",
            "Trainable params: 82,559\n",
            "Non-trainable params: 0\n",
            "_________________________________________________________________\n"
          ],
          "name": "stdout"
        }
      ]
    },
    {
      "cell_type": "markdown",
      "metadata": {
        "id": "0UFv7scWNKQw"
      },
      "source": [
        "https://www.tensorflow.org/guide/keras/save_and_serialize - сохранение модели"
      ]
    },
    {
      "cell_type": "code",
      "metadata": {
        "id": "QuQ3G3U5XM88"
      },
      "source": [
        "history = model.fit(X_train, y_train, epochs=20, verbose=1,  batch_size=10)\n",
        "loss, accuracy = model.evaluate(X_train, y_train, verbose=False)\n",
        "print(\"Training Accuracy: {:.4f}\".format(accuracy))\n",
        "loss, accuracy = model.evaluate(X_test, y_test, verbose=False)\n",
        "print(\"Testing Accuracy:  {:.4f}\".format(accuracy))\n",
        "model.save(drive_path + 'saved_models/intent_classifier.h5')\n"
      ],
      "execution_count": null,
      "outputs": []
    },
    {
      "cell_type": "code",
      "metadata": {
        "id": "rqbEfzA4dSmA"
      },
      "source": [
        "text_labels = encoder.classes_\n",
        "while True:\n",
        "  question = input(\"Вопрос >> \")\n",
        "  if question == 'q' or question == 'й':\n",
        "    break\n",
        "  tok_question = tokenizer.texts_to_sequences([question])\n",
        "  pad_question = pad_sequences(tok_question, padding='post', maxlen=maxlen)\n",
        "  print(pad_question)\n",
        "  response_add_info = model.predict(np.array(pad_question))\n",
        "  print(text_labels[np.argmax(response_add_info[0])] + \" >> \" + str(np.argmax(response_add_info[0])))\n",
        "  print(response_add_info[0])\n",
        "  print(get_answer(text_labels[np.argmax(response_add_info[0])]))\n",
        "  result_index = np.argmax(response_add_info[0])\n",
        "  print(\"Result index = \", result_index)\n",
        "  print('Predict % ', response_add_info[0][result_index])\n",
        "\n",
        "\n",
        "# prediction = model.predict(np.array([x_t]))"
      ],
      "execution_count": null,
      "outputs": []
    },
    {
      "cell_type": "markdown",
      "metadata": {
        "id": "lFFDEUmJBRmV"
      },
      "source": [
        "# NN v.2 RNN(LTSM)"
      ]
    },
    {
      "cell_type": "code",
      "metadata": {
        "id": "vBr7KSDJFPg9",
        "colab": {
          "base_uri": "https://localhost:8080/"
        },
        "outputId": "0f4a690d-f8e5-4116-db2a-0d7ea4c6db88"
      },
      "source": [
        "!pip3 install navec\n",
        "!wget https://storage.yandexcloud.net/natasha-navec/packs/navec_hudlit_v1_12B_500K_300d_100q.tar\n",
        "from navec import Navec\n",
        "navec_path = 'navec_hudlit_v1_12B_500K_300d_100q.tar'\n",
        "navec = Navec.load(navec_path)"
      ],
      "execution_count": 3,
      "outputs": [
        {
          "output_type": "stream",
          "text": [
            "Collecting navec\n",
            "  Downloading https://files.pythonhosted.org/packages/bc/c1/771ec5565f0ce24874d7fd325b429f9caa80517a40d2e4ce5705120591f3/navec-0.10.0-py3-none-any.whl\n",
            "Requirement already satisfied: numpy in /usr/local/lib/python3.6/dist-packages (from navec) (1.19.5)\n",
            "Installing collected packages: navec\n",
            "Successfully installed navec-0.10.0\n",
            "--2021-01-26 14:38:30--  https://storage.yandexcloud.net/natasha-navec/packs/navec_hudlit_v1_12B_500K_300d_100q.tar\n",
            "Resolving storage.yandexcloud.net (storage.yandexcloud.net)... 213.180.193.243, 2a02:6b8::1d9\n",
            "Connecting to storage.yandexcloud.net (storage.yandexcloud.net)|213.180.193.243|:443... connected.\n",
            "HTTP request sent, awaiting response... 200 OK\n",
            "Length: 53012480 (51M) [application/x-tar]\n",
            "Saving to: ‘navec_hudlit_v1_12B_500K_300d_100q.tar’\n",
            "\n",
            "navec_hudlit_v1_12B 100%[===================>]  50.56M  10.8MB/s    in 5.7s    \n",
            "\n",
            "2021-01-26 14:38:36 (8.89 MB/s) - ‘navec_hudlit_v1_12B_500K_300d_100q.tar’ saved [53012480/53012480]\n",
            "\n"
          ],
          "name": "stdout"
        }
      ]
    },
    {
      "cell_type": "code",
      "metadata": {
        "id": "BT0iUAmqC1OV",
        "colab": {
          "base_uri": "https://localhost:8080/"
        },
        "outputId": "633c45fe-e337-4fcc-b58f-5188e9728fd5"
      },
      "source": [
        "from sklearn.model_selection import train_test_split\n",
        "from keras.preprocessing.text import Tokenizer\n",
        "from keras.preprocessing.sequence import pad_sequences\n",
        "from sklearn.preprocessing import OneHotEncoder, LabelEncoder\n",
        "import pickle\n",
        "import json\n",
        "import os\n",
        "os.mkdir(\"utils\")\n",
        "\n",
        "max_num_words = 1000\n",
        "embedding_dim = 300\n",
        "\n",
        "texts = df['text'].values\n",
        "labels = df['label'].values\n",
        "train_txt, test_txt, train_label, test_labels = train_test_split(texts, labels, test_size = 0.01)\n",
        "\n",
        "ls = []\n",
        "for c in train_txt:\n",
        "    ls.append(len(c.split()))\n",
        "maxLen = int(np.percentile(ls, 98)) \n",
        "maxLen"
      ],
      "execution_count": 4,
      "outputs": [
        {
          "output_type": "execute_result",
          "data": {
            "text/plain": [
              "7"
            ]
          },
          "metadata": {
            "tags": []
          },
          "execution_count": 4
        }
      ]
    },
    {
      "cell_type": "code",
      "metadata": {
        "colab": {
          "base_uri": "https://localhost:8080/"
        },
        "id": "SdzPvKrEevvJ",
        "outputId": "78fdb2dc-4a31-4b92-d547-979fd5f5a6ae"
      },
      "source": [
        " test_txt"
      ],
      "execution_count": 5,
      "outputs": [
        {
          "output_type": "execute_result",
          "data": {
            "text/plain": [
              "array(['Ты человек', 'Скажи пожалуйста адрес кафедры',\n",
              "       'Как мне найти преподавателя'], dtype=object)"
            ]
          },
          "metadata": {
            "tags": []
          },
          "execution_count": 5
        }
      ]
    },
    {
      "cell_type": "code",
      "metadata": {
        "id": "RSiMHExIGn-M"
      },
      "source": [
        "classes = np.unique(labels)\n",
        "tokenizer = Tokenizer(num_words=max_num_words)\n",
        "tokenizer.fit_on_texts(train_txt)\n",
        "\n",
        "train_sequences = tokenizer.texts_to_sequences(train_txt)\n",
        "train_sequences = pad_sequences(train_sequences, maxlen=maxLen, padding='post')\n",
        "test_sequences = tokenizer.texts_to_sequences(test_txt)\n",
        "test_sequences = pad_sequences(test_sequences, maxlen=maxLen, padding='post')\n",
        "word_index = tokenizer.word_index\n",
        "num_words = min(max_num_words, len(word_index)) + 1"
      ],
      "execution_count": 6,
      "outputs": []
    },
    {
      "cell_type": "code",
      "metadata": {
        "id": "Vg7CiPmtHN1x"
      },
      "source": [
        "def embedding_matrix_creater(embedding_dimention, word_index):\n",
        "    embedding_matrix = np.zeros((len(word_index) + 1, embedding_dimention))\n",
        "    for word, i in word_index.items():\n",
        "        embedding_vector = navec.get(word)\n",
        "        if embedding_vector is not None:\n",
        "            embedding_matrix[i] = embedding_vector\n",
        "    return embedding_matrix\n",
        "    \n",
        "embedding_matrix = embedding_matrix_creater(embedding_dim, word_index=word_index)"
      ],
      "execution_count": 7,
      "outputs": []
    },
    {
      "cell_type": "code",
      "metadata": {
        "id": "iqmTTWmfIjY1"
      },
      "source": [
        "label_encoder = LabelEncoder()\n",
        "integer_encoded = label_encoder.fit_transform(classes)\n",
        "\n",
        "onehot_encoder = OneHotEncoder(sparse=False)\n",
        "integer_encoded = integer_encoded.reshape(len(integer_encoded), 1)\n",
        "onehot_encoder.fit(integer_encoded)\n",
        "\n",
        "train_label_encoded = label_encoder.transform(train_label)\n",
        "train_label_encoded = train_label_encoded.reshape(len(train_label_encoded), 1)\n",
        "train_label = onehot_encoder.transform(train_label_encoded)\n",
        "\n",
        "test_labels_encoded = label_encoder.transform(test_labels)\n",
        "test_labels_encoded = test_labels_encoded.reshape(len(test_labels_encoded), 1)\n",
        "test_labels = onehot_encoder.transform(test_labels_encoded)"
      ],
      "execution_count": 8,
      "outputs": []
    },
    {
      "cell_type": "code",
      "metadata": {
        "colab": {
          "base_uri": "https://localhost:8080/"
        },
        "id": "e-wDkuSOIsk0",
        "outputId": "a5ddec35-bbfd-435e-ba66-393ca6d3bd02"
      },
      "source": [
        "from keras.models import Sequential\n",
        "from keras.layers import Dense, Input, Dropout, LSTM, Activation, Bidirectional,Embedding\n",
        "\n",
        "model = Sequential()\n",
        "\n",
        "model.add(Embedding(num_words, 300, trainable=False, input_length=train_sequences.shape[1], weights=[embedding_matrix]))\n",
        "model.add(Bidirectional(LSTM(256, return_sequences=True, recurrent_dropout=0.1, dropout=0.1), 'concat'))\n",
        "# model.add(Dropout(0.3))\n",
        "model.add(LSTM(256, return_sequences=False, recurrent_dropout=0.1, dropout=0.1))\n",
        "# model.add(Dropout(0.3))\n",
        "model.add(Dense(50, activation='relu'))\n",
        "model.add(Dropout(0.3))\n",
        "model.add(Dense(classes.shape[0], activation='softmax'))\n",
        "model.summary()"
      ],
      "execution_count": 9,
      "outputs": [
        {
          "output_type": "stream",
          "text": [
            "Model: \"sequential\"\n",
            "_________________________________________________________________\n",
            "Layer (type)                 Output Shape              Param #   \n",
            "=================================================================\n",
            "embedding (Embedding)        (None, 7, 300)            63300     \n",
            "_________________________________________________________________\n",
            "bidirectional (Bidirectional (None, 7, 512)            1140736   \n",
            "_________________________________________________________________\n",
            "lstm_1 (LSTM)                (None, 256)               787456    \n",
            "_________________________________________________________________\n",
            "dense (Dense)                (None, 50)                12850     \n",
            "_________________________________________________________________\n",
            "dropout (Dropout)            (None, 50)                0         \n",
            "_________________________________________________________________\n",
            "dense_1 (Dense)              (None, 42)                2142      \n",
            "=================================================================\n",
            "Total params: 2,006,484\n",
            "Trainable params: 1,943,184\n",
            "Non-trainable params: 63,300\n",
            "_________________________________________________________________\n"
          ],
          "name": "stdout"
        }
      ]
    },
    {
      "cell_type": "code",
      "metadata": {
        "id": "Z6r-7UXRJJYV"
      },
      "source": [
        "model.compile(loss='categorical_crossentropy', \n",
        "              optimizer='adam', \n",
        "              metrics=['acc'])"
      ],
      "execution_count": 10,
      "outputs": []
    },
    {
      "cell_type": "code",
      "metadata": {
        "id": "rvmtassSJL1b",
        "colab": {
          "base_uri": "https://localhost:8080/"
        },
        "outputId": "e29dd501-6033-4c32-8234-30a2003dda3e"
      },
      "source": [
        "history = model.fit(train_sequences, train_label, epochs=20,\n",
        "          batch_size=10, shuffle=True,\n",
        "          validation_data=[test_sequences, test_labels])"
      ],
      "execution_count": 11,
      "outputs": [
        {
          "output_type": "stream",
          "text": [
            "Epoch 1/20\n",
            "24/24 [==============================] - 13s 222ms/step - loss: 3.6892 - acc: 0.0337 - val_loss: 0.0000e+00 - val_acc: 0.0000e+00\n",
            "Epoch 2/20\n",
            "24/24 [==============================] - 4s 184ms/step - loss: 3.0422 - acc: 0.2672 - val_loss: 0.0000e+00 - val_acc: 0.0000e+00\n",
            "Epoch 3/20\n",
            "24/24 [==============================] - 4s 175ms/step - loss: 2.2045 - acc: 0.3782 - val_loss: 0.0000e+00 - val_acc: 0.0000e+00\n",
            "Epoch 4/20\n",
            "24/24 [==============================] - 4s 176ms/step - loss: 1.6354 - acc: 0.5560 - val_loss: 0.0000e+00 - val_acc: 0.0000e+00\n",
            "Epoch 5/20\n",
            "24/24 [==============================] - 4s 177ms/step - loss: 1.1597 - acc: 0.6670 - val_loss: 0.0000e+00 - val_acc: 0.0000e+00\n",
            "Epoch 6/20\n",
            "24/24 [==============================] - 4s 176ms/step - loss: 0.8834 - acc: 0.7304 - val_loss: 0.0000e+00 - val_acc: 0.0000e+00\n",
            "Epoch 7/20\n",
            "24/24 [==============================] - 4s 178ms/step - loss: 0.4095 - acc: 0.9256 - val_loss: 0.0000e+00 - val_acc: 0.0000e+00\n",
            "Epoch 8/20\n",
            "24/24 [==============================] - 4s 175ms/step - loss: 0.3664 - acc: 0.9044 - val_loss: 0.0000e+00 - val_acc: 0.0000e+00\n",
            "Epoch 9/20\n",
            "24/24 [==============================] - 4s 176ms/step - loss: 0.3726 - acc: 0.8759 - val_loss: 0.0000e+00 - val_acc: 0.0000e+00\n",
            "Epoch 10/20\n",
            "24/24 [==============================] - 4s 176ms/step - loss: 0.2852 - acc: 0.9026 - val_loss: 0.0000e+00 - val_acc: 0.0000e+00\n",
            "Epoch 11/20\n",
            "24/24 [==============================] - 4s 176ms/step - loss: 0.1594 - acc: 0.9627 - val_loss: 0.0000e+00 - val_acc: 0.0000e+00\n",
            "Epoch 12/20\n",
            "24/24 [==============================] - 4s 183ms/step - loss: 0.1190 - acc: 0.9825 - val_loss: 0.0000e+00 - val_acc: 0.0000e+00\n",
            "Epoch 13/20\n",
            "24/24 [==============================] - 4s 177ms/step - loss: 0.1702 - acc: 0.9565 - val_loss: 0.0000e+00 - val_acc: 0.0000e+00\n",
            "Epoch 14/20\n",
            "24/24 [==============================] - 4s 178ms/step - loss: 0.0917 - acc: 0.9781 - val_loss: 0.0000e+00 - val_acc: 0.0000e+00\n",
            "Epoch 15/20\n",
            "24/24 [==============================] - 4s 175ms/step - loss: 0.0568 - acc: 0.9980 - val_loss: 0.0000e+00 - val_acc: 0.0000e+00\n",
            "Epoch 16/20\n",
            "24/24 [==============================] - 4s 177ms/step - loss: 0.0630 - acc: 0.9945 - val_loss: 0.0000e+00 - val_acc: 0.0000e+00\n",
            "Epoch 17/20\n",
            "24/24 [==============================] - 4s 177ms/step - loss: 0.0486 - acc: 0.9951 - val_loss: 0.0000e+00 - val_acc: 0.0000e+00\n",
            "Epoch 18/20\n",
            "24/24 [==============================] - 4s 178ms/step - loss: 0.0409 - acc: 0.9971 - val_loss: 0.0000e+00 - val_acc: 0.0000e+00\n",
            "Epoch 19/20\n",
            "24/24 [==============================] - 4s 181ms/step - loss: 0.0562 - acc: 0.9932 - val_loss: 0.0000e+00 - val_acc: 0.0000e+00\n",
            "Epoch 20/20\n",
            "24/24 [==============================] - 4s 176ms/step - loss: 0.0543 - acc: 0.9861 - val_loss: 0.0000e+00 - val_acc: 0.0000e+00\n"
          ],
          "name": "stdout"
        }
      ]
    },
    {
      "cell_type": "code",
      "metadata": {
        "colab": {
          "base_uri": "https://localhost:8080/",
          "height": 295
        },
        "id": "4jpsSjEsJVMV",
        "outputId": "5d5ff568-bca3-417e-bf84-fc476f40a656"
      },
      "source": [
        "import matplotlib.pyplot as plt\n",
        "%matplotlib inline\n",
        "plt.plot(history.history['acc'])\n",
        "plt.plot(history.history['val_acc'])\n",
        "plt.title('Model Accuracy')\n",
        "plt.ylabel('Accuracy')\n",
        "plt.xlabel('Epoch')\n",
        "plt.legend(['Train', 'Validation'], loc='upper left')\n",
        "plt.show()"
      ],
      "execution_count": 12,
      "outputs": [
        {
          "output_type": "display_data",
          "data": {
            "image/png": "[encoded data removed]",
            "text/plain": [
              "<Figure size 432x288 with 1 Axes>"
            ]
          },
          "metadata": {
            "tags": [],
            "needs_background": "light"
          }
        }
      ]
    },
    {
      "cell_type": "code",
      "metadata": {
        "colab": {
          "base_uri": "https://localhost:8080/",
          "height": 295
        },
        "id": "fWHiXoIKJZl5",
        "outputId": "e24d1529-ca37-4696-87cf-0ea6e7cc68a6"
      },
      "source": [
        "plt.plot(history.history['loss'])\n",
        "plt.plot(history.history['val_loss'])\n",
        "plt.title('Model Loss')\n",
        "plt.ylabel('Loss')\n",
        "plt.xlabel('Epoch')\n",
        "plt.legend(['Train', 'Validation'], loc='upper left')\n",
        "plt.show()"
      ],
      "execution_count": 13,
      "outputs": [
        {
          "output_type": "display_data",
          "data": {
            "image/png": "[encoded data removed]",
            "text/plain": [
              "<Figure size 432x288 with 1 Axes>"
            ]
          },
          "metadata": {
            "tags": [],
            "needs_background": "light"
          }
        }
      ]
    },
    {
      "cell_type": "code",
      "metadata": {
        "id": "1QTNVqDVJedv"
      },
      "source": [
        "model.save('models/intents.h5')\n",
        "\n",
        "with open('utils/classes.pkl', 'wb') as file:\n",
        "   pickle.dump(classes, file)\n",
        "\n",
        "with open('utils/tokenizer.pkl', 'wb') as file:\n",
        "   pickle.dump(tokenizer, file)\n",
        "\n",
        "with open('utils/label_encoder.pkl', 'wb') as file:\n",
        "   pickle.dump(label_encoder, file)"
      ],
      "execution_count": 14,
      "outputs": []
    },
    {
      "cell_type": "code",
      "metadata": {
        "id": "XKPYT7EvJgOS"
      },
      "source": [
        "class IntentClassifier:\n",
        "    def __init__(self, classes, model, tokenizer, label_encoder):\n",
        "        self.classes = classes\n",
        "        self.classifier = model\n",
        "        self.tokenizer = tokenizer\n",
        "        self.label_encoder = label_encoder\n",
        "\n",
        "    def get_intent(self, text):\n",
        "        self.text = [text]\n",
        "        self.test_keras = self.tokenizer.texts_to_sequences(self.text)\n",
        "        self.test_keras_sequence = pad_sequences(self.test_keras, maxlen=7, padding='post')\n",
        "        self.pred = self.classifier.predict(self.test_keras_sequence)\n",
        "        print(self.pred[0])\n",
        "        result_index = np.argmax(self.pred,1)\n",
        "        print(self.pred[0][result_index])\n",
        "        return label_encoder.inverse_transform(np.argmax(self.pred,1))[0]"
      ],
      "execution_count": 15,
      "outputs": []
    },
    {
      "cell_type": "code",
      "metadata": {
        "id": "n04bxBPrJiGJ"
      },
      "source": [
        "import pickle\n",
        "\n",
        "from keras.models import load_model\n",
        "\n",
        "model = load_model('models/intents.h5')\n",
        "\n",
        "with open('utils/classes.pkl', 'rb') as file:\n",
        "  classes = pickle.load(file)\n",
        "\n",
        "with open('utils/tokenizer.pkl', 'rb') as file:\n",
        "  tokenizer = pickle.load(file)\n",
        "\n",
        "with open('utils/label_encoder.pkl', 'rb') as file:\n",
        "  label_encoder = pickle.load(file)"
      ],
      "execution_count": 16,
      "outputs": []
    },
    {
      "cell_type": "code",
      "metadata": {
        "id": "IU5h31VSJjym"
      },
      "source": [
        "nlu = IntentClassifier(classes, model, tokenizer, label_encoder)"
      ],
      "execution_count": 17,
      "outputs": []
    },
    {
      "cell_type": "code",
      "metadata": {
        "colab": {
          "base_uri": "https://localhost:8080/"
        },
        "id": "zC9iWkeRJn8u",
        "outputId": "ceacf15d-822c-4ba0-8910-7d1f99906dab"
      },
      "source": [
        "q = ''\n",
        "while True:\n",
        "  q = str(input())\n",
        "  if q == 'q' or q == 'й':\n",
        "    break;\n",
        "  predicted_tag = nlu.get_intent(q)\n",
        "  print('intent name >> ' + predicted_tag)\n",
        "  response_add_info = get_answer(predicted_tag)\n",
        "  print(response_add_info[0] + ' ' + response_add_info[1])"
      ],
      "execution_count": null,
      "outputs": [
        {
          "output_type": "stream",
          "text": [
            "Привет\n",
            "[1.6332747e-08 2.7692746e-11 1.1692348e-07 8.8364711e-09 1.8551676e-06\n",
            " 5.2915984e-06 3.8022375e-07 4.8197187e-08 5.4429949e-09 4.7080071e-08\n",
            " 1.7817820e-11 1.4864854e-10 2.3183306e-07 2.0182163e-06 1.1933054e-08\n",
            " 1.4370419e-08 2.9506734e-07 7.3694804e-07 6.5571584e-09 9.9992943e-01\n",
            " 1.0937600e-06 3.5482028e-06 3.2859371e-05 9.6028052e-06 2.0915368e-07\n",
            " 8.7977750e-09 2.5004670e-07 9.1120633e-10 7.4423284e-10 2.4221919e-10\n",
            " 3.9457362e-10 6.2596121e-07 3.3514411e-08 3.7925123e-08 1.5161985e-08\n",
            " 7.0620237e-10 1.7445219e-11 2.0562236e-11 1.1163569e-05 9.6467254e-08\n",
            " 8.0040650e-09 8.8539781e-10]\n",
            "[0.9999294]\n",
            "intent name >> greeting\n",
            "Здравствуйте😃 \n"
          ],
          "name": "stdout"
        }
      ]
    },
    {
      "cell_type": "code",
      "metadata": {
        "id": "npuUnvOlJlV-",
        "colab": {
          "base_uri": "https://localhost:8080/",
          "height": 239
        },
        "outputId": "5e6b83c6-de74-48a7-fcb4-4af22a40981d"
      },
      "source": [
        "nlu.get_intent(\"Спасибо большое\")"
      ],
      "execution_count": 20,
      "outputs": [
        {
          "output_type": "stream",
          "text": [
            "[2.46231813e-10 1.61446811e-09 5.53085374e-05 1.48959828e-06\n",
            " 1.98742040e-04 9.85235893e-05 1.86449972e-06 4.34222898e-08\n",
            " 3.93427763e-10 2.38162894e-08 2.57339955e-10 6.21038936e-08\n",
            " 4.77350142e-08 1.29198554e-04 1.32496575e-06 3.65368624e-06\n",
            " 3.44559658e-06 4.90433081e-08 4.58116062e-07 5.17065055e-05\n",
            " 2.20450033e-06 3.56685888e-07 1.12256066e-06 2.72380348e-05\n",
            " 2.14568217e-06 1.07624585e-08 9.37043126e-07 1.60863408e-07\n",
            " 2.99280656e-10 6.01301009e-10 1.81792643e-08 7.35125738e-08\n",
            " 2.51493674e-07 3.10824930e-07 9.62978447e-07 9.56974944e-10\n",
            " 3.13234334e-11 1.68291681e-09 9.99403596e-01 3.40797669e-07\n",
            " 1.06354335e-07 1.43349262e-05]\n",
            "[0.9994036]\n"
          ],
          "name": "stdout"
        },
        {
          "output_type": "execute_result",
          "data": {
            "application/vnd.google.colaboratory.intrinsic+json": {
              "type": "string"
            },
            "text/plain": [
              "'thanks'"
            ]
          },
          "metadata": {
            "tags": []
          },
          "execution_count": 20
        }
      ]
    },
    {
      "cell_type": "markdown",
      "metadata": {
        "id": "h3TGZEK9Xx2r"
      },
      "source": [
        "# Work-=-"
      ]
    },
    {
      "cell_type": "code",
      "metadata": {
        "id": "6iH-qsvtYS_g"
      },
      "source": [
        "group = 'ЗУ-540'\n",
        "facult = 'МРИПК'\n",
        "\n",
        "with open(\"user4.csv\", \"r\") as f:\n",
        "  for i, line in enumerate(f):\n",
        "    lastname, firstname, login = line.split(',')\n",
        "    fin_str = login.rstrip() + '@esstu.onmicrosoft.com,' + firstname + ',' + lastname + ',' + firstname + ' ' + lastname + ' ' + group + ',Студент,' + facult + ',,,,,,,улан-удэ,,670000,Россия'\n",
        "    print(fin_str)"
      ],
      "execution_count": null,
      "outputs": []
    }
  ]
}