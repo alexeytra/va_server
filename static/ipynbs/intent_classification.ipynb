{
  "nbformat": 4,
  "nbformat_minor": 0,
  "metadata": {
    "colab": {
      "name": "intent_classification.ipynb",
      "provenance": [],
      "collapsed_sections": [
        "sIiol48voCCA",
        "_PXrtHRBlFPb",
        "h3TGZEK9Xx2r"
      ],
      "toc_visible": true
    },
    "kernelspec": {
      "name": "python3",
      "display_name": "Python 3"
    }
  },
  "cells": [
    {
      "cell_type": "code",
      "metadata": {
        "id": "WErpZ73imgLJ",
        "colab": {
          "base_uri": "https://localhost:8080/"
        },
        "outputId": "bfa5c8eb-d2dd-46fe-a9cc-835d8bb9d069"
      },
      "source": [
        "import glob\n",
        "from google.colab import drive\n",
        "drive.mount('/content/drive')"
      ],
      "execution_count": null,
      "outputs": [
        {
          "output_type": "stream",
          "text": [
            "Mounted at /content/drive\n"
          ],
          "name": "stdout"
        }
      ]
    },
    {
      "cell_type": "markdown",
      "metadata": {
        "id": "pwxih8ij-PpT"
      },
      "source": [
        "https://towardsdatascience.com/multi-class-text-classification-with-scikit-learn-12f1e60e0a9f"
      ]
    },
    {
      "cell_type": "markdown",
      "metadata": {
        "id": "TF27qZ7Afuwb"
      },
      "source": [
        "# Text preprocessing"
      ]
    },
    {
      "cell_type": "code",
      "metadata": {
        "id": "lmtlWUpDAkAQ",
        "colab": {
          "base_uri": "https://localhost:8080/",
          "height": 238
        },
        "outputId": "051efaf7-db5b-4a21-c0ce-833620402f49"
      },
      "source": [
        "import numpy as np\n",
        "import tensorflow as tf\n",
        "import random\n",
        "import json\n",
        "import pickle\n",
        "import pandas as pd\n",
        "from sklearn.cluster import MiniBatchKMeans\n",
        "from sklearn.feature_extraction.text import TfidfVectorizer\n",
        "from sklearn.decomposition import PCA\n",
        "import matplotlib.pyplot as plt\n",
        "from io import StringIO\n",
        "from sklearn.feature_extraction.text import TfidfVectorizer\n",
        "from sklearn.model_selection import train_test_split\n",
        "from sklearn.feature_extraction.text import CountVectorizer\n",
        "from sklearn.naive_bayes import MultinomialNB\n",
        "from sklearn.feature_extraction.text import TfidfTransformer\n",
        "\n",
        "drive_path = '/content/drive/My Drive/diplom_data/'\n",
        "\n",
        "def get_answer(tag):\n",
        "  responses = ''\n",
        "  add_info = ''\n",
        "  for tg in data[\"intents\"]:\n",
        "    if tg['tag'] == tag:\n",
        "      responses = tg['response']\n",
        "      add_info = tg['add_info']\n",
        "  response = random.choice(responses)\n",
        "  return (response, add_info)\n",
        "\n",
        "\n",
        "# from google drive\n",
        "with open( drive_path + 'intents.json') as file:\n",
        "  data = json.load(file)\n",
        "\n",
        "intents = {\n",
        "    'pattern': [],\n",
        "    'label': []\n",
        "}\n",
        "\n",
        "labels = []\n",
        "for intent in data[\"intents\"]:\n",
        "  for pattern in intent[\"patterns\"]:\n",
        "    intents['pattern'].append(pattern)\n",
        "    intents['label'].append(intent[\"tag\"])\n",
        "\n",
        "    if intent[\"tag\"] not in labels:\n",
        "       labels.append(intent[\"tag\"])\n",
        "\n",
        "df = pd.DataFrame(list(zip(intents['pattern'], intents['label'])), columns=['text', 'label'])\n",
        "print('Количество вопросов: ' + str(len(df['text'].values)))\n",
        "print('Количество интентов: ' + str(len(pd.Series(labels, name='A').unique())))\n",
        "df.head()"
      ],
      "execution_count": null,
      "outputs": [
        {
          "output_type": "stream",
          "text": [
            "Количество вопросов: 287\n",
            "Количество интентов: 51\n"
          ],
          "name": "stdout"
        },
        {
          "output_type": "execute_result",
          "data": {
            "text/html": [
              "<div>\n",
              "<style scoped>\n",
              "    .dataframe tbody tr th:only-of-type {\n",
              "        vertical-align: middle;\n",
              "    }\n",
              "\n",
              "    .dataframe tbody tr th {\n",
              "        vertical-align: top;\n",
              "    }\n",
              "\n",
              "    .dataframe thead th {\n",
              "        text-align: right;\n",
              "    }\n",
              "</style>\n",
              "<table border=\"1\" class=\"dataframe\">\n",
              "  <thead>\n",
              "    <tr style=\"text-align: right;\">\n",
              "      <th></th>\n",
              "      <th>text</th>\n",
              "      <th>label</th>\n",
              "    </tr>\n",
              "  </thead>\n",
              "  <tbody>\n",
              "    <tr>\n",
              "      <th>0</th>\n",
              "      <td>Привет</td>\n",
              "      <td>greeting</td>\n",
              "    </tr>\n",
              "    <tr>\n",
              "      <th>1</th>\n",
              "      <td>Есть кто-нибудь</td>\n",
              "      <td>greeting</td>\n",
              "    </tr>\n",
              "    <tr>\n",
              "      <th>2</th>\n",
              "      <td>Приветики</td>\n",
              "      <td>greeting</td>\n",
              "    </tr>\n",
              "    <tr>\n",
              "      <th>3</th>\n",
              "      <td>Ауу</td>\n",
              "      <td>greeting</td>\n",
              "    </tr>\n",
              "    <tr>\n",
              "      <th>4</th>\n",
              "      <td>Здравствуй</td>\n",
              "      <td>greeting</td>\n",
              "    </tr>\n",
              "  </tbody>\n",
              "</table>\n",
              "</div>"
            ],
            "text/plain": [
              "              text     label\n",
              "0           Привет  greeting\n",
              "1  Есть кто-нибудь  greeting\n",
              "2        Приветики  greeting\n",
              "3              Ауу  greeting\n",
              "4       Здравствуй  greeting"
            ]
          },
          "metadata": {
            "tags": []
          },
          "execution_count": 2
        }
      ]
    },
    {
      "cell_type": "code",
      "metadata": {
        "id": "tewb1PNLLVFp"
      },
      "source": [
        "texts = df['text'].values\n",
        "labels = df['label'].values\n",
        "\n",
        "with open(\"texts.txt\", \"w\") as file:\n",
        "  for text in texts:\n",
        "    file.write(text + '\\n')"
      ],
      "execution_count": null,
      "outputs": []
    },
    {
      "cell_type": "markdown",
      "metadata": {
        "id": "5YGfYN5JQYA-"
      },
      "source": [
        "# Accurancy test"
      ]
    },
    {
      "cell_type": "code",
      "metadata": {
        "id": "X84tPGZ3STs0"
      },
      "source": [
        "from sklearn.metrics import accuracy_score\n",
        "def model_accurancy_clust(predict):\n",
        "  y_true = []\n",
        "  y_pred = []\n",
        "  for label in df['label']:\n",
        "    y_true.append(label)\n",
        "  for text in df['text']:\n",
        "    y_pred.append(labels[predict(vec.transform([text]))[0]])\n",
        "\n",
        "  print('y_true = ', y_true)\n",
        "  print('y_pred = ', y_pred)\n",
        "  return accuracy_score(y_true, y_pred)"
      ],
      "execution_count": null,
      "outputs": []
    },
    {
      "cell_type": "code",
      "metadata": {
        "id": "OcvVU80lW8pC"
      },
      "source": [
        "from sklearn.metrics import accuracy_score\n",
        "def model_accurancy(predict):\n",
        "  y_true = []\n",
        "  y_pred = []\n",
        "  for label in df['label']:\n",
        "    y_true.append(label)\n",
        "  for text in df['text']:\n",
        "    y_pred.append(predict(text))\n",
        "\n",
        "  print('y_true = ', y_true)\n",
        "  print('y_pred = ', y_pred)\n",
        "  return accuracy_score(y_true, y_pred)"
      ],
      "execution_count": null,
      "outputs": []
    },
    {
      "cell_type": "markdown",
      "metadata": {
        "id": "RdIHUzCxDpGI"
      },
      "source": [
        "# Text clustering"
      ]
    },
    {
      "cell_type": "code",
      "metadata": {
        "id": "WEQKHRmLDsuJ",
        "colab": {
          "base_uri": "https://localhost:8080/"
        },
        "outputId": "d3e1897c-4df2-42d9-efc4-4c2fc3ac306a"
      },
      "source": [
        "# for reproducibility\n",
        "random_state = 0 \n",
        "vec = TfidfVectorizer()\n",
        "vec.fit(df.text.values)\n",
        "features = vec.transform(df.text.values)\n",
        "print(\"Count clust \" + str(len(labels)))\n",
        "cls = MiniBatchKMeans(n_clusters=len(labels), random_state=random_state)\n",
        "cls.fit(features)\n",
        "cls.predict(features)\n",
        "cls.labels_"
      ],
      "execution_count": null,
      "outputs": [
        {
          "output_type": "stream",
          "text": [
            "Count clust 38\n"
          ],
          "name": "stdout"
        },
        {
          "output_type": "execute_result",
          "data": {
            "text/plain": [
              "array([27,  9, 15, 27, 36,  0,  0, 23, 15, 23, 14, 14, 17, 17, 28, 28, 32,\n",
              "       37, 15, 30, 33,  8,  8, 24, 15, 35,  5, 15,  5,  5, 15,  2,  3,  2,\n",
              "       31, 31, 15, 10, 10, 10, 10, 12, 12,  4, 20, 15, 20, 34,  2, 34, 34,\n",
              "       34, 21, 12, 20, 20,  7,  7, 19, 19, 19,  2,  7,  2,  2,  7, 15, 24,\n",
              "       12,  1, 12,  1, 20, 20,  6, 21, 13, 21, 25, 15, 25, 26, 26, 26, 11,\n",
              "       11, 15, 11, 22, 22, 15, 18, 18, 18, 18,  0, 16, 13, 16,  2, 15, 29,\n",
              "       29,  2, 15,  1, 21, 13,  1, 12,  1,  1, 12], dtype=int32)"
            ]
          },
          "metadata": {
            "tags": []
          },
          "execution_count": 15
        }
      ]
    },
    {
      "cell_type": "code",
      "metadata": {
        "id": "H1yt_klQEPi0",
        "colab": {
          "base_uri": "https://localhost:8080/",
          "height": 282
        },
        "outputId": "11ba3e99-3f38-44fd-d686-6154db1022a2"
      },
      "source": [
        "#visualization\n",
        "# reduce the features to 2D\n",
        "pca = PCA(n_components=2, random_state=random_state)\n",
        "reduced_features = pca.fit_transform(features.toarray())\n",
        "\n",
        "# reduce the cluster centers to 2D\n",
        "reduced_cluster_centers = pca.transform(cls.cluster_centers_)\n",
        "plt.scatter(reduced_features[:,0], reduced_features[:,1], c=cls.predict(features))\n",
        "plt.scatter(reduced_cluster_centers[:, 0], reduced_cluster_centers[:,1], marker='x', s=150, c='b')"
      ],
      "execution_count": null,
      "outputs": [
        {
          "output_type": "execute_result",
          "data": {
            "text/plain": [
              "<matplotlib.collections.PathCollection at 0x7f35073bb630>"
            ]
          },
          "metadata": {
            "tags": []
          },
          "execution_count": 6
        },
        {
          "output_type": "display_data",
          "data": {
            "image/png": "[encoded data removed]",
            "text/plain": [
              "<Figure size 432x288 with 1 Axes>"
            ]
          },
          "metadata": {
            "tags": [],
            "needs_background": "light"
          }
        }
      ]
    },
    {
      "cell_type": "code",
      "metadata": {
        "id": "iEICnI4MEei0",
        "colab": {
          "base_uri": "https://localhost:8080/"
        },
        "outputId": "6eb407e1-ea96-4fb5-f9e0-f468e4977bb6"
      },
      "source": [
        "#Оценка\n",
        "# from sklearn.metrics import homogeneity_score\n",
        "# homogeneity_score(df.label, cls.predict(features))\n",
        "\n",
        "print(model_accurancy_clust(cls.predict))"
      ],
      "execution_count": null,
      "outputs": [
        {
          "output_type": "stream",
          "text": [
            "y_true =  ['greeting', 'greeting', 'greeting', 'greeting', 'greeting_ques', 'greeting_ques', 'greeting_ques', 'thanks', 'thanks', 'thanks', 'greeting_day', 'greeting_day', 'greeting_morning', 'greeting_morning', 'greeting_evening', 'greeting_evening', 'goodbye', 'goodbye', 'goodbye', 'goodbye', 'age', 'age', 'age', 'name', 'name', 'name', 'what_can_you_do', 'what_can_you_do', 'what_can_you_do', 'what_can_you_do', 'general_info_address', 'general_info_address', 'general_info_address', 'general_info_address', 'general_info_website', 'general_info_website', 'general_info_lk', 'general_info_lk', 'general_info_lk', 'general_info_lk', 'general_info_lk', 'general_phone_num', 'general_phone_num', 'general_phone_num', 'general_email', 'general_email', 'general_email', 'select_commit_address', 'select_commit_address', 'select_commit_phone_num', 'select_commit_phone_num', 'select_commit_work', 'select_commit_work', 'kaf_phone_num', 'kaf_email', 'kaf_email', 'kaf_teachers', 'kaf_teachers', 'kaf_chief', 'kaf_chief', 'kaf_chief', 'kaf_location', 'kaf_location', 'fac_location', 'fac_location', 'fac_location', 'fac_chief', 'fac_chief', 'fac_phone_num', 'fac_phone_num', 'fac_phone_num', 'fac_phone_num', 'fac_email', 'fac_email', 'fac_email', 'fac_work_time', 'fac_work_time', 'fac_work_time', 'class_location', 'class_location', 'class_location', 'esstu_news', 'esstu_news', 'esstu_news', 'which_week', 'which_week', 'which_week', 'which_week', 'academic_leave', 'academic_leave', 'academic_leave', 'scholarship', 'scholarship', 'scholarship', 'scholarship', 'doctor_schedule', 'doctor_schedule', 'doctor_schedule', 'doctor_schedule', 'location_doctor_office', 'location_doctor_office', 'location_doctor_office', 'location_doctor_office', 'location_student_hospital', 'location_student_hospital', 'location_student_hospital', 'work_hours_hospital', 'work_hours_hospital', 'work_hours_hospital', 'phone_number_student_hospital', 'phone_number_student_hospital', 'phone_number_student_hospital', 'phone_number_student_hospital']\n",
            "y_pred =  ['fac_work_time', 'what_can_you_do', 'select_commit_address', 'fac_work_time', 'work_hours_hospital', 'greeting', 'greeting', 'fac_location', 'select_commit_address', 'fac_location', 'general_email', 'general_email', 'select_commit_work', 'select_commit_work', 'class_location', 'class_location', 'scholarship', 'phone_number_student_hospital', 'select_commit_address', 'which_week', 'doctor_schedule', 'name', 'name', 'fac_chief', 'select_commit_address', 'location_student_hospital', 'greeting_evening', 'select_commit_address', 'greeting_evening', 'greeting_evening', 'select_commit_address', 'thanks', 'greeting_day', 'thanks', 'academic_leave', 'academic_leave', 'select_commit_address', 'general_info_address', 'general_info_address', 'general_info_address', 'general_info_address', 'general_info_lk', 'general_info_lk', 'greeting_morning', 'kaf_teachers', 'select_commit_address', 'kaf_teachers', 'location_doctor_office', 'thanks', 'location_doctor_office', 'location_doctor_office', 'location_doctor_office', 'kaf_chief', 'general_info_lk', 'kaf_teachers', 'kaf_teachers', 'age', 'age', 'kaf_email', 'kaf_email', 'kaf_email', 'thanks', 'age', 'thanks', 'thanks', 'age', 'select_commit_address', 'fac_chief', 'general_info_lk', 'greeting_ques', 'general_info_lk', 'greeting_ques', 'kaf_teachers', 'kaf_teachers', 'goodbye', 'kaf_chief', 'general_phone_num', 'kaf_chief', 'fac_phone_num', 'select_commit_address', 'fac_phone_num', 'fac_email', 'fac_email', 'fac_email', 'general_info_website', 'general_info_website', 'select_commit_address', 'general_info_website', 'kaf_location', 'kaf_location', 'select_commit_address', 'kaf_phone_num', 'kaf_phone_num', 'kaf_phone_num', 'kaf_phone_num', 'greeting', 'select_commit_phone_num', 'general_phone_num', 'select_commit_phone_num', 'thanks', 'select_commit_address', 'esstu_news', 'esstu_news', 'thanks', 'select_commit_address', 'greeting_ques', 'kaf_chief', 'general_phone_num', 'greeting_ques', 'general_info_lk', 'greeting_ques', 'greeting_ques', 'general_info_lk']\n",
            "0.008849557522123894\n"
          ],
          "name": "stdout"
        }
      ]
    },
    {
      "cell_type": "code",
      "metadata": {
        "id": "-G-NzS4FGZPc",
        "colab": {
          "base_uri": "https://localhost:8080/"
        },
        "outputId": "dd5e5aaa-c6be-4a26-8228-715dc7edcac8"
      },
      "source": [
        "features = vec.transform([\"Спасибо\"])\n",
        "result = cls.predict(features)[0]\n",
        "print(labels[result])"
      ],
      "execution_count": null,
      "outputs": [
        {
          "output_type": "stream",
          "text": [
            "fac_location\n"
          ],
          "name": "stdout"
        }
      ]
    },
    {
      "cell_type": "markdown",
      "metadata": {
        "id": "ZbUOKIb5ReuK"
      },
      "source": [
        "# Naive Bayes classifier"
      ]
    },
    {
      "cell_type": "code",
      "metadata": {
        "id": "oWgMifMwRkW0",
        "colab": {
          "base_uri": "https://localhost:8080/"
        },
        "outputId": "f8c8b00e-8133-4b7e-d8c8-9805d088c392"
      },
      "source": [
        "def data_prepare():\n",
        "    col = ['text', 'label']\n",
        "    y = df\n",
        "    y = y[col]\n",
        "    y = y[pd.notnull(y['label'])]\n",
        "    y.columns = ['text', 'label']\n",
        "    y['category_id'] = y['text'].factorize()[0]\n",
        "    category_id_df = y[['text', 'category_id']].drop_duplicates().sort_values('category_id')\n",
        "    category_to_id = dict(category_id_df.values)\n",
        "    id_to_category = dict(category_id_df[['category_id', 'text']].values)\n",
        "    return y\n",
        "\n",
        "print(data_prepare())"
      ],
      "execution_count": null,
      "outputs": [
        {
          "output_type": "stream",
          "text": [
            "                                              text  ... category_id\n",
            "0                                           Привет  ...           0\n",
            "1                                  Есть кто-нибудь  ...           1\n",
            "2                                        Приветики  ...           2\n",
            "3                                              Ауу  ...           3\n",
            "4                                        Как дела?  ...           4\n",
            "..                                             ...  ...         ...\n",
            "108          Время работы студенческой поликлиники  ...         106\n",
            "109        Номер телефона студенческой поликлиники  ...         107\n",
            "110               Телефон студенческой поликлиники  ...         108\n",
            "111           Какой номер студенческой поликлиники  ...         109\n",
            "112  Какой номер телефона студенческой поликлиники  ...         110\n",
            "\n",
            "[113 rows x 3 columns]\n"
          ],
          "name": "stdout"
        }
      ]
    },
    {
      "cell_type": "code",
      "metadata": {
        "id": "dlZJFSHuSOf9"
      },
      "source": [
        "\n",
        "def naive_algo():\n",
        "    tfidf = TfidfVectorizer(sublinear_tf=True, min_df=5, norm='l2', ngram_range=(1, 2))\n",
        "    df = data_prepare()\n",
        "    features = tfidf.fit_transform(df.text).toarray()\n",
        "    labels = df.category_id\n",
        "    # print(features.shape)\n",
        "    X_train, X_test, y_train, y_test = train_test_split(df['text'], df['label'], random_state = 0)\n",
        "    count_vect = CountVectorizer()\n",
        "    X_train_counts = count_vect.fit_transform(X_train)\n",
        "    tfidf_transformer = TfidfTransformer()\n",
        "    X_train_tfidf = tfidf_transformer.fit_transform(X_train_counts)\n",
        "\n",
        "    clf = MultinomialNB(alpha = 0.1).fit(X_train_tfidf, y_train)\n",
        "    return clf,count_vect\n"
      ],
      "execution_count": null,
      "outputs": []
    },
    {
      "cell_type": "code",
      "metadata": {
        "id": "zEh4q0MWSQ5k"
      },
      "source": [
        "def predict(question):\n",
        "    clf, count_vect = naive_algo()\n",
        "    intent = clf.predict(count_vect.transform([question]))\n",
        "    intent = str(intent).strip(\"['']\")\n",
        "    print(clf.predict_proba(count_vect.transform([question])))\n",
        "    # print(intent)\n",
        "    return intent"
      ],
      "execution_count": null,
      "outputs": []
    },
    {
      "cell_type": "code",
      "metadata": {
        "id": "4VaoNJ0bSSPg"
      },
      "source": [
        "while True:\n",
        "  ques = input(\"Enter your question \")\n",
        "  if ques == 'q':\n",
        "    break\n",
        "  response_add_info = get_answer(predict(ques))\n",
        "  print(response_add_info[0] + ' ' + response_add_info[1])"
      ],
      "execution_count": null,
      "outputs": []
    },
    {
      "cell_type": "code",
      "metadata": {
        "id": "vawpsmSYXdpV"
      },
      "source": [
        "model_accurancy(predict)"
      ],
      "execution_count": null,
      "outputs": []
    },
    {
      "cell_type": "markdown",
      "metadata": {
        "id": "sIiol48voCCA"
      },
      "source": [
        "# SVM"
      ]
    },
    {
      "cell_type": "code",
      "metadata": {
        "id": "tUQcegyDoEwq"
      },
      "source": [
        "from sklearn.svm import SVC, LinearSVC# Support Vector Machine\n",
        "from sklearn.pipeline import Pipeline #pipeline to implement steps in series\n",
        "from gensim import parsing \n",
        "\n",
        "tfidf = TfidfVectorizer(sublinear_tf=True, min_df=5, norm='l2', ngram_range=(1, 2))\n",
        "df = data_prepare()\n",
        "features = tfidf.fit_transform(df.text).toarray()\n",
        "labels = df.category_id\n",
        "# print(features.shape)\n",
        "X_train, X_test, y_train, y_test = train_test_split(df['text'], df['label'], random_state = 0)\n",
        "count_vect = CountVectorizer()\n",
        "X_train_counts = count_vect.fit_transform(X_train)\n",
        "tfidf_transformer = TfidfTransformer()\n",
        "X_train_tfidf = tfidf_transformer.fit_transform(X_train_counts)\n",
        "\n",
        "clf = LinearSVC()\n",
        "\n",
        "#train model\n",
        "clf.fit(X_train_tfidf, y_train)\n",
        "\n",
        "def svm_predict(question): \n",
        "  return clf.predict(count_vect.transform([question]))[0]\n",
        "\n",
        "# print(X_test)\n",
        "# predicted = text_clf.predict(X_test)\n",
        "# print(predicted)"
      ],
      "execution_count": null,
      "outputs": []
    },
    {
      "cell_type": "code",
      "metadata": {
        "id": "lQBIKLYpujyP",
        "colab": {
          "base_uri": "https://localhost:8080/"
        },
        "outputId": "edfdcb46-8e69-4a4e-a502-0610c0f85a5b"
      },
      "source": [
        "#predict class form test data \n",
        "while True:\n",
        "  question = input(\"Enter your question \")\n",
        "  if question == 'q':\n",
        "    break\n",
        "  response_add_info = get_answer(svm_predict(question))\n",
        "  print(response_add_info[0] + ' ' + response_add_info[1])\n"
      ],
      "execution_count": null,
      "outputs": [
        {
          "output_type": "stream",
          "text": [
            "Enter your question й\n",
            "Пока \n",
            "Enter your question q\n"
          ],
          "name": "stdout"
        }
      ]
    },
    {
      "cell_type": "code",
      "metadata": {
        "id": "ZV8RadQkcU-s",
        "colab": {
          "base_uri": "https://localhost:8080/"
        },
        "outputId": "a7f00cea-7323-44c7-bc01-4d76c7814991"
      },
      "source": [
        "model_accurancy(svm_predict)"
      ],
      "execution_count": null,
      "outputs": [
        {
          "output_type": "stream",
          "text": [
            "y_true =  ['greeting', 'greeting', 'greeting', 'greeting', 'greeting_ques', 'greeting_ques', 'greeting_ques', 'thanks', 'thanks', 'thanks', 'greeting_day', 'greeting_day', 'greeting_morning', 'greeting_morning', 'greeting_evening', 'greeting_evening', 'goodbye', 'goodbye', 'goodbye', 'goodbye', 'age', 'age', 'age', 'name', 'name', 'name', 'what_can_you_do', 'what_can_you_do', 'what_can_you_do', 'what_can_you_do', 'general_info_address', 'general_info_address', 'general_info_address', 'general_info_address', 'general_info_website', 'general_info_website', 'general_info_lk', 'general_info_lk', 'general_info_lk', 'general_info_lk', 'general_info_lk', 'general_phone_num', 'general_phone_num', 'general_phone_num', 'general_email', 'general_email', 'general_email', 'select_commit_address', 'select_commit_address', 'select_commit_phone_num', 'select_commit_phone_num', 'select_commit_work', 'select_commit_work', 'kaf_phone_num', 'kaf_email', 'kaf_email', 'kaf_teachers', 'kaf_teachers', 'kaf_chief', 'kaf_chief', 'kaf_chief', 'kaf_location', 'kaf_location', 'fac_location', 'fac_location', 'fac_location', 'fac_chief', 'fac_chief', 'fac_phone_num', 'fac_phone_num', 'fac_phone_num', 'fac_phone_num', 'fac_email', 'fac_email', 'fac_email', 'fac_work_time', 'fac_work_time', 'fac_work_time', 'class_location', 'class_location', 'class_location', 'esstu_news', 'esstu_news', 'esstu_news', 'which_week', 'which_week', 'which_week', 'which_week', 'academic_leave', 'academic_leave', 'academic_leave', 'scholarship', 'scholarship', 'scholarship', 'scholarship', 'doctor_schedule', 'doctor_schedule', 'doctor_schedule', 'doctor_schedule', 'location_doctor_office', 'location_doctor_office', 'location_doctor_office', 'location_doctor_office', 'location_student_hospital', 'location_student_hospital', 'location_student_hospital', 'work_hours_hospital', 'work_hours_hospital', 'work_hours_hospital', 'phone_number_student_hospital', 'phone_number_student_hospital', 'phone_number_student_hospital', 'phone_number_student_hospital']\n",
            "y_pred =  ['greeting', 'greeting', 'goodbye', 'goodbye', 'greeting_ques', 'greeting_ques', 'greeting_ques', 'thanks', 'what_can_you_do', 'thanks', 'greeting_day', 'greeting_day', 'greeting_morning', 'greeting_morning', 'greeting_evening', 'greeting_evening', 'goodbye', 'goodbye', 'goodbye', 'goodbye', 'age', 'age', 'age', 'name', 'name', 'name', 'what_can_you_do', 'what_can_you_do', 'what_can_you_do', 'what_can_you_do', 'general_info_address', 'general_info_address', 'general_info_address', 'general_info_address', 'general_info_website', 'general_info_website', 'general_info_lk', 'general_info_lk', 'general_info_lk', 'general_info_lk', 'general_info_lk', 'general_phone_num', 'fac_phone_num', 'general_info_address', 'general_email', 'general_phone_num', 'general_email', 'select_commit_address', 'select_commit_address', 'select_commit_phone_num', 'select_commit_phone_num', 'select_commit_work', 'select_commit_work', 'kaf_phone_num', 'kaf_email', 'kaf_email', 'kaf_email', 'kaf_teachers', 'kaf_chief', 'kaf_chief', 'kaf_chief', 'kaf_location', 'kaf_location', 'general_info_address', 'fac_location', 'fac_location', 'fac_chief', 'fac_chief', 'fac_phone_num', 'fac_phone_num', 'fac_phone_num', 'fac_phone_num', 'fac_email', 'fac_email', 'fac_email', 'fac_work_time', 'work_hours_hospital', 'fac_work_time', 'class_location', 'class_location', 'class_location', 'esstu_news', 'esstu_news', 'esstu_news', 'which_week', 'which_week', 'which_week', 'which_week', 'academic_leave', 'academic_leave', 'academic_leave', 'scholarship', 'scholarship', 'scholarship', 'scholarship', 'doctor_schedule', 'doctor_schedule', 'work_hours_hospital', 'doctor_schedule', 'location_doctor_office', 'location_doctor_office', 'location_doctor_office', 'location_doctor_office', 'location_student_hospital', 'class_location', 'phone_number_student_hospital', 'work_hours_hospital', 'work_hours_hospital', 'phone_number_student_hospital', 'phone_number_student_hospital', 'phone_number_student_hospital', 'phone_number_student_hospital', 'phone_number_student_hospital']\n"
          ],
          "name": "stdout"
        },
        {
          "output_type": "execute_result",
          "data": {
            "text/plain": [
              "0.8849557522123894"
            ]
          },
          "metadata": {
            "tags": []
          },
          "execution_count": 41
        }
      ]
    },
    {
      "cell_type": "markdown",
      "metadata": {
        "id": "_PXrtHRBlFPb"
      },
      "source": [
        "# Simple NN\n",
        "\n",
        "https://www.tensorflow.org/tutorials/keras/text_classification_with_hub\n",
        "\n",
        "https://www.tensorflow.org/tutorials/keras/text_classification"
      ]
    },
    {
      "cell_type": "code",
      "metadata": {
        "id": "SCsNoqupf4eN",
        "colab": {
          "base_uri": "https://localhost:8080/"
        },
        "outputId": "0443ac18-bc11-427f-d80e-7242348aaa8c"
      },
      "source": [
        "import numpy as np\n",
        "import tensorflow as tf\n",
        "\n",
        "print(\"Version: \", tf.__version__)\n",
        "print(\"Eager mode: \", tf.executing_eagerly())\n",
        "print(\"GPU is\", \"available\" if tf.config.experimental.list_physical_devices(\"GPU\") else \"NOT AVAILABLE\")\n",
        "\n"
      ],
      "execution_count": null,
      "outputs": [
        {
          "output_type": "stream",
          "text": [
            "Version:  2.4.0\n",
            "Eager mode:  True\n",
            "GPU is NOT AVAILABLE\n"
          ],
          "name": "stdout"
        }
      ]
    },
    {
      "cell_type": "code",
      "metadata": {
        "id": "OrLn039NNdw_"
      },
      "source": [
        "from keras.models import Sequential\n",
        "from keras import layers\n",
        "from keras.preprocessing.text import Tokenizer\n",
        "from keras.preprocessing.sequence import pad_sequences\n",
        "from sklearn.model_selection import train_test_split\n",
        "from sklearn.preprocessing import LabelBinarizer\n",
        "\n",
        "texts = df['text'].values\n",
        "labels = df['label'].values\n",
        "\n",
        "maxlen = len(max(texts, key=len).split()) + 10\n",
        "embedding_dim = 300\n",
        "\n",
        "num_samples = pd.Series(labels, name='A').unique()\n",
        "\n",
        "sentences_train, sentences_test, y_train, y_test = train_test_split(texts, labels, test_size=0.01, random_state=1000)\n",
        "# print(sentences_train, y_train)\n",
        "\n",
        "tokenizer = Tokenizer(num_words=1000)\n",
        "tokenizer.fit_on_texts(sentences_train)\n",
        "\n",
        "encoder = LabelBinarizer()\n",
        "\n",
        "X_train = tokenizer.texts_to_sequences(sentences_train)\n",
        "X_test = tokenizer.texts_to_sequences(sentences_test)\n",
        "\n",
        "\n",
        "encoder.fit(y_train)\n",
        "y_train = encoder.transform(y_train)\n",
        "y_test = encoder.transform(y_test)\n",
        "\n",
        "vocab_size = len(tokenizer.word_index) + 1 \n",
        "\n",
        "\n",
        "X_train = pad_sequences(X_train, padding='post', maxlen=maxlen)\n",
        "X_test = pad_sequences(X_test, padding='post', maxlen=maxlen)\n"
      ],
      "execution_count": null,
      "outputs": []
    },
    {
      "cell_type": "code",
      "metadata": {
        "id": "9I7exunzWcBB",
        "colab": {
          "base_uri": "https://localhost:8080/"
        },
        "outputId": "859f80a2-2c2b-45f5-9c6b-e2f2b40c7be7"
      },
      "source": [
        "model = Sequential()\n",
        "model.add(layers.Embedding(input_dim=vocab_size, \n",
        "                           output_dim=embedding_dim, \n",
        "                           input_length=maxlen))\n",
        "model.add(layers.GlobalMaxPool1D())\n",
        "model.add(layers.Dense(80, activation='relu'))\n",
        "model.add(layers.Dense(32, activation='relu'))\n",
        "# model.add(layers.Dropout(0.3))\n",
        "model.add(layers.Dense(num_samples.size, activation='softmax'))\n",
        "model.compile(optimizer='adam',\n",
        "              loss='categorical_crossentropy',\n",
        "              metrics=['categorical_accuracy'])\n",
        "model.summary()"
      ],
      "execution_count": null,
      "outputs": [
        {
          "output_type": "stream",
          "text": [
            "Model: \"sequential_4\"\n",
            "_________________________________________________________________\n",
            "Layer (type)                 Output Shape              Param #   \n",
            "=================================================================\n",
            "embedding_3 (Embedding)      (None, 17, 300)           54600     \n",
            "_________________________________________________________________\n",
            "global_max_pooling1d_1 (Glob (None, 300)               0         \n",
            "_________________________________________________________________\n",
            "dense_5 (Dense)              (None, 80)                24080     \n",
            "_________________________________________________________________\n",
            "dense_6 (Dense)              (None, 32)                2592      \n",
            "_________________________________________________________________\n",
            "dense_7 (Dense)              (None, 39)                1287      \n",
            "=================================================================\n",
            "Total params: 82,559\n",
            "Trainable params: 82,559\n",
            "Non-trainable params: 0\n",
            "_________________________________________________________________\n"
          ],
          "name": "stdout"
        }
      ]
    },
    {
      "cell_type": "markdown",
      "metadata": {
        "id": "0UFv7scWNKQw"
      },
      "source": [
        "https://www.tensorflow.org/guide/keras/save_and_serialize - сохранение модели"
      ]
    },
    {
      "cell_type": "code",
      "metadata": {
        "id": "QuQ3G3U5XM88"
      },
      "source": [
        "history = model.fit(X_train, y_train, epochs=20, verbose=1,  batch_size=10)\n",
        "loss, accuracy = model.evaluate(X_train, y_train, verbose=False)\n",
        "print(\"Training Accuracy: {:.4f}\".format(accuracy))\n",
        "loss, accuracy = model.evaluate(X_test, y_test, verbose=False)\n",
        "print(\"Testing Accuracy:  {:.4f}\".format(accuracy))\n",
        "model.save(drive_path + 'saved_models/intent_classifier.h5')\n"
      ],
      "execution_count": null,
      "outputs": []
    },
    {
      "cell_type": "code",
      "metadata": {
        "id": "rqbEfzA4dSmA"
      },
      "source": [
        "text_labels = encoder.classes_\n",
        "while True:\n",
        "  question = input(\"Вопрос >> \")\n",
        "  if question == 'q' or question == 'й':\n",
        "    break\n",
        "  tok_question = tokenizer.texts_to_sequences([question])\n",
        "  pad_question = pad_sequences(tok_question, padding='post', maxlen=maxlen)\n",
        "  print(pad_question)\n",
        "  response_add_info = model.predict(np.array(pad_question))\n",
        "  print(text_labels[np.argmax(response_add_info[0])] + \" >> \" + str(np.argmax(response_add_info[0])))\n",
        "  print(response_add_info[0])\n",
        "  print(get_answer(text_labels[np.argmax(response_add_info[0])]))\n",
        "  result_index = np.argmax(response_add_info[0])\n",
        "  print(\"Result index = \", result_index)\n",
        "  print('Predict % ', response_add_info[0][result_index])\n",
        "\n",
        "\n",
        "# prediction = model.predict(np.array([x_t]))"
      ],
      "execution_count": null,
      "outputs": []
    },
    {
      "cell_type": "markdown",
      "metadata": {
        "id": "lFFDEUmJBRmV"
      },
      "source": [
        "# NN v.2 RNN(LTSM)"
      ]
    },
    {
      "cell_type": "code",
      "metadata": {
        "colab": {
          "base_uri": "https://localhost:8080/"
        },
        "id": "htmezpXoQKIo",
        "outputId": "61cc3d5f-f97c-45cb-9f05-ec183dbbda0a"
      },
      "source": [
        "import numpy as np\r\n",
        "import tensorflow as tf\r\n",
        "\r\n",
        "print(\"Version: \", tf.__version__)\r\n",
        "print(\"Eager mode: \", tf.executing_eagerly())\r\n",
        "print(\"GPU is\", \"available\" if tf.config.experimental.list_physical_devices(\"GPU\") else \"NOT AVAILABLE\")"
      ],
      "execution_count": null,
      "outputs": [
        {
          "output_type": "stream",
          "text": [
            "Version:  2.4.1\n",
            "Eager mode:  True\n",
            "GPU is NOT AVAILABLE\n"
          ],
          "name": "stdout"
        }
      ]
    },
    {
      "cell_type": "code",
      "metadata": {
        "id": "vBr7KSDJFPg9",
        "colab": {
          "base_uri": "https://localhost:8080/"
        },
        "outputId": "242316f1-be8f-43ca-af73-538e5cbd2bac"
      },
      "source": [
        "!pip3 install navec\n",
        "!wget https://storage.yandexcloud.net/natasha-navec/packs/navec_hudlit_v1_12B_500K_300d_100q.tar\n",
        "from navec import Navec\n",
        "navec_path = 'navec_hudlit_v1_12B_500K_300d_100q.tar'\n",
        "navec = Navec.load(navec_path)"
      ],
      "execution_count": null,
      "outputs": [
        {
          "output_type": "stream",
          "text": [
            "Collecting navec\n",
            "  Downloading https://files.pythonhosted.org/packages/bc/c1/771ec5565f0ce24874d7fd325b429f9caa80517a40d2e4ce5705120591f3/navec-0.10.0-py3-none-any.whl\n",
            "Requirement already satisfied: numpy in /usr/local/lib/python3.6/dist-packages (from navec) (1.19.5)\n",
            "Installing collected packages: navec\n",
            "Successfully installed navec-0.10.0\n",
            "--2021-02-02 13:27:34--  https://storage.yandexcloud.net/natasha-navec/packs/navec_hudlit_v1_12B_500K_300d_100q.tar\n",
            "Resolving storage.yandexcloud.net (storage.yandexcloud.net)... 213.180.193.243, 2a02:6b8::1d9\n",
            "Connecting to storage.yandexcloud.net (storage.yandexcloud.net)|213.180.193.243|:443... connected.\n",
            "HTTP request sent, awaiting response... 200 OK\n",
            "Length: 53012480 (51M) [application/x-tar]\n",
            "Saving to: ‘navec_hudlit_v1_12B_500K_300d_100q.tar’\n",
            "\n",
            "navec_hudlit_v1_12B 100%[===================>]  50.56M  7.55MB/s    in 7.0s    \n",
            "\n",
            "2021-02-02 13:27:42 (7.23 MB/s) - ‘navec_hudlit_v1_12B_500K_300d_100q.tar’ saved [53012480/53012480]\n",
            "\n"
          ],
          "name": "stdout"
        }
      ]
    },
    {
      "cell_type": "code",
      "metadata": {
        "id": "BT0iUAmqC1OV",
        "colab": {
          "base_uri": "https://localhost:8080/"
        },
        "outputId": "40feaa9e-9f99-4b35-8c0f-fce3ba28e553"
      },
      "source": [
        "from sklearn.model_selection import train_test_split\n",
        "from keras.preprocessing.text import Tokenizer\n",
        "from keras.preprocessing.sequence import pad_sequences\n",
        "from sklearn.preprocessing import OneHotEncoder, LabelEncoder\n",
        "import pickle\n",
        "import json\n",
        "import os\n",
        "\n",
        "\n",
        "if not os.path.isdir('utils'):\n",
        "  os.mkdir(\"utils\")\n",
        "\n",
        "max_num_words = 1000\n",
        "embedding_dim = 300\n",
        "\n",
        "texts = df['text'].values\n",
        "labels = df['label'].values\n",
        "train_txt, test_txt, train_label, test_labels = train_test_split(texts, labels, test_size = 0.01)\n",
        "\n",
        "ls = []\n",
        "for c in train_txt:\n",
        "  ls.append(len(c.split()))\n",
        "maxLen = int(np.percentile(ls, 98)) \n",
        "maxLen\n"
      ],
      "execution_count": null,
      "outputs": [
        {
          "output_type": "execute_result",
          "data": {
            "text/plain": [
              "7"
            ]
          },
          "metadata": {
            "tags": []
          },
          "execution_count": 6
        }
      ]
    },
    {
      "cell_type": "code",
      "metadata": {
        "colab": {
          "base_uri": "https://localhost:8080/"
        },
        "id": "SdzPvKrEevvJ",
        "outputId": "451c298f-501c-4f9c-8d31-1c0dbe064c1d"
      },
      "source": [
        " test_txt"
      ],
      "execution_count": null,
      "outputs": [
        {
          "output_type": "execute_result",
          "data": {
            "text/plain": [
              "array(['Время работы приемной комиссии',\n",
              "       'Скажи пожалуйста номер телефона кафедры', 'Привет'], dtype=object)"
            ]
          },
          "metadata": {
            "tags": []
          },
          "execution_count": 7
        }
      ]
    },
    {
      "cell_type": "code",
      "metadata": {
        "id": "RSiMHExIGn-M"
      },
      "source": [
        "classes = np.unique(labels)\n",
        "tokenizer = Tokenizer(num_words=max_num_words)\n",
        "tokenizer.fit_on_texts(train_txt)\n",
        "\n",
        "train_sequences = tokenizer.texts_to_sequences(train_txt)\n",
        "train_sequences = pad_sequences(train_sequences, maxlen=maxLen, padding='post')\n",
        "test_sequences = tokenizer.texts_to_sequences(test_txt)\n",
        "test_sequences = pad_sequences(test_sequences, maxlen=maxLen, padding='post')\n",
        "word_index = tokenizer.word_index\n",
        "num_words = min(max_num_words, len(word_index)) + 1"
      ],
      "execution_count": null,
      "outputs": []
    },
    {
      "cell_type": "code",
      "metadata": {
        "id": "Vg7CiPmtHN1x"
      },
      "source": [
        "def embedding_matrix_creater(embedding_dimention, word_index):\n",
        "    embedding_matrix = np.zeros((len(word_index) + 1, embedding_dimention))\n",
        "    for word, i in word_index.items():\n",
        "        embedding_vector = navec.get(word)\n",
        "        if embedding_vector is not None:\n",
        "            embedding_matrix[i] = embedding_vector\n",
        "    return embedding_matrix\n",
        "    \n",
        "embedding_matrix = embedding_matrix_creater(embedding_dim, word_index=word_index)"
      ],
      "execution_count": null,
      "outputs": []
    },
    {
      "cell_type": "code",
      "metadata": {
        "id": "iqmTTWmfIjY1"
      },
      "source": [
        "label_encoder = LabelEncoder()\n",
        "integer_encoded = label_encoder.fit_transform(classes)\n",
        "\n",
        "onehot_encoder = OneHotEncoder(sparse=False)\n",
        "integer_encoded = integer_encoded.reshape(len(integer_encoded), 1)\n",
        "onehot_encoder.fit(integer_encoded)\n",
        "\n",
        "train_label_encoded = label_encoder.transform(train_label)\n",
        "train_label_encoded = train_label_encoded.reshape(len(train_label_encoded), 1)\n",
        "train_label = onehot_encoder.transform(train_label_encoded)\n",
        "\n",
        "test_labels_encoded = label_encoder.transform(test_labels)\n",
        "test_labels_encoded = test_labels_encoded.reshape(len(test_labels_encoded), 1)\n",
        "test_labels = onehot_encoder.transform(test_labels_encoded)"
      ],
      "execution_count": null,
      "outputs": []
    },
    {
      "cell_type": "code",
      "metadata": {
        "colab": {
          "base_uri": "https://localhost:8080/"
        },
        "id": "e-wDkuSOIsk0",
        "outputId": "d0bc1da4-0501-4f01-882f-af49ed492b5d"
      },
      "source": [
        "from keras.models import Sequential\n",
        "from keras.layers import Dense, Input, Dropout, LSTM, Activation, Bidirectional,Embedding\n",
        "\n",
        "model = Sequential()\n",
        "\n",
        "model.add(Embedding(num_words, 300, trainable=False, input_length=train_sequences.shape[1], weights=[embedding_matrix]))\n",
        "model.add(Bidirectional(LSTM(256, return_sequences=True, recurrent_dropout=0.1, dropout=0.1), 'concat'))\n",
        "# model.add(Dropout(0.3))\n",
        "model.add(LSTM(256, return_sequences=False, recurrent_dropout=0.1, dropout=0.1))\n",
        "# model.add(Dropout(0.3))\n",
        "model.add(Dense(50, activation='relu'))\n",
        "model.add(Dropout(0.3))\n",
        "model.add(Dense(classes.shape[0], activation='softmax'))\n",
        "model.summary()"
      ],
      "execution_count": null,
      "outputs": [
        {
          "output_type": "stream",
          "text": [
            "Model: \"sequential\"\n",
            "_________________________________________________________________\n",
            "Layer (type)                 Output Shape              Param #   \n",
            "=================================================================\n",
            "embedding (Embedding)        (None, 7, 300)            75900     \n",
            "_________________________________________________________________\n",
            "bidirectional (Bidirectional (None, 7, 512)            1140736   \n",
            "_________________________________________________________________\n",
            "lstm_1 (LSTM)                (None, 256)               787456    \n",
            "_________________________________________________________________\n",
            "dense (Dense)                (None, 50)                12850     \n",
            "_________________________________________________________________\n",
            "dropout (Dropout)            (None, 50)                0         \n",
            "_________________________________________________________________\n",
            "dense_1 (Dense)              (None, 51)                2601      \n",
            "=================================================================\n",
            "Total params: 2,019,543\n",
            "Trainable params: 1,943,643\n",
            "Non-trainable params: 75,900\n",
            "_________________________________________________________________\n"
          ],
          "name": "stdout"
        }
      ]
    },
    {
      "cell_type": "code",
      "metadata": {
        "id": "Z6r-7UXRJJYV"
      },
      "source": [
        "model.compile(loss='categorical_crossentropy', \n",
        "              optimizer='adam', \n",
        "              metrics=['acc'])"
      ],
      "execution_count": null,
      "outputs": []
    },
    {
      "cell_type": "code",
      "metadata": {
        "id": "rvmtassSJL1b",
        "colab": {
          "base_uri": "https://localhost:8080/"
        },
        "outputId": "3904e198-8843-4044-e104-27dfde9bb68f"
      },
      "source": [
        "history = model.fit(train_sequences, train_label, epochs=20,\n",
        "          batch_size=10, shuffle=True,\n",
        "          validation_data=[test_sequences, test_labels])"
      ],
      "execution_count": null,
      "outputs": [
        {
          "output_type": "stream",
          "text": [
            "Epoch 1/20\n",
            "29/29 [==============================] - 13s 208ms/step - loss: 3.8840 - acc: 0.0354 - val_loss: 0.0000e+00 - val_acc: 0.0000e+00\n",
            "Epoch 2/20\n",
            "29/29 [==============================] - 5s 180ms/step - loss: 3.3460 - acc: 0.1359 - val_loss: 0.0000e+00 - val_acc: 0.0000e+00\n",
            "Epoch 3/20\n",
            "29/29 [==============================] - 5s 171ms/step - loss: 2.4261 - acc: 0.3437 - val_loss: 0.0000e+00 - val_acc: 0.0000e+00\n",
            "Epoch 4/20\n",
            "29/29 [==============================] - 5s 172ms/step - loss: 2.0010 - acc: 0.4974 - val_loss: 0.0000e+00 - val_acc: 0.0000e+00\n",
            "Epoch 5/20\n",
            "29/29 [==============================] - 5s 171ms/step - loss: 1.1658 - acc: 0.6634 - val_loss: 0.0000e+00 - val_acc: 0.0000e+00\n",
            "Epoch 6/20\n",
            "29/29 [==============================] - 5s 169ms/step - loss: 0.7770 - acc: 0.7724 - val_loss: 0.0000e+00 - val_acc: 0.0000e+00\n",
            "Epoch 7/20\n",
            "29/29 [==============================] - 5s 170ms/step - loss: 0.6976 - acc: 0.7904 - val_loss: 0.0000e+00 - val_acc: 0.0000e+00\n",
            "Epoch 8/20\n",
            "29/29 [==============================] - 5s 172ms/step - loss: 0.4568 - acc: 0.8899 - val_loss: 0.0000e+00 - val_acc: 0.0000e+00\n",
            "Epoch 9/20\n",
            "29/29 [==============================] - 5s 173ms/step - loss: 0.2323 - acc: 0.9718 - val_loss: 0.0000e+00 - val_acc: 0.0000e+00\n",
            "Epoch 10/20\n",
            "29/29 [==============================] - 5s 171ms/step - loss: 0.2649 - acc: 0.9230 - val_loss: 0.0000e+00 - val_acc: 0.0000e+00\n",
            "Epoch 11/20\n",
            "29/29 [==============================] - 5s 176ms/step - loss: 0.1570 - acc: 0.9741 - val_loss: 0.0000e+00 - val_acc: 0.0000e+00\n",
            "Epoch 12/20\n",
            "29/29 [==============================] - 5s 172ms/step - loss: 0.1374 - acc: 0.9623 - val_loss: 0.0000e+00 - val_acc: 0.0000e+00\n",
            "Epoch 13/20\n",
            "29/29 [==============================] - 5s 171ms/step - loss: 0.1995 - acc: 0.9407 - val_loss: 0.0000e+00 - val_acc: 0.0000e+00\n",
            "Epoch 14/20\n",
            "29/29 [==============================] - 5s 178ms/step - loss: 0.0934 - acc: 0.9785 - val_loss: 0.0000e+00 - val_acc: 0.0000e+00\n",
            "Epoch 15/20\n",
            "29/29 [==============================] - 5s 176ms/step - loss: 0.1636 - acc: 0.9449 - val_loss: 0.0000e+00 - val_acc: 0.0000e+00\n",
            "Epoch 16/20\n",
            "29/29 [==============================] - 5s 170ms/step - loss: 0.1360 - acc: 0.9807 - val_loss: 0.0000e+00 - val_acc: 0.0000e+00\n",
            "Epoch 17/20\n",
            "29/29 [==============================] - 5s 173ms/step - loss: 0.1160 - acc: 0.9584 - val_loss: 0.0000e+00 - val_acc: 0.0000e+00\n",
            "Epoch 18/20\n",
            "29/29 [==============================] - 5s 169ms/step - loss: 0.0800 - acc: 0.9993 - val_loss: 0.0000e+00 - val_acc: 0.0000e+00\n",
            "Epoch 19/20\n",
            "29/29 [==============================] - 5s 170ms/step - loss: 0.0471 - acc: 0.9958 - val_loss: 0.0000e+00 - val_acc: 0.0000e+00\n",
            "Epoch 20/20\n",
            "29/29 [==============================] - 5s 172ms/step - loss: 0.0822 - acc: 0.9977 - val_loss: 0.0000e+00 - val_acc: 0.0000e+00\n"
          ],
          "name": "stdout"
        }
      ]
    },
    {
      "cell_type": "code",
      "metadata": {
        "colab": {
          "base_uri": "https://localhost:8080/",
          "height": 295
        },
        "id": "4jpsSjEsJVMV",
        "outputId": "66cf3721-fd39-4093-ce34-bb863b528996"
      },
      "source": [
        "import matplotlib.pyplot as plt\n",
        "%matplotlib inline\n",
        "plt.plot(history.history['acc'])\n",
        "plt.plot(history.history['val_acc'])\n",
        "plt.title('Model Accuracy')\n",
        "plt.ylabel('Accuracy')\n",
        "plt.xlabel('Epoch')\n",
        "plt.legend(['Train', 'Validation'], loc='upper left')\n",
        "plt.show()"
      ],
      "execution_count": null,
      "outputs": [
        {
          "output_type": "display_data",
          "data": {
            "image/png": "[encoded data removed]",
            "text/plain": [
              "<Figure size 432x288 with 1 Axes>"
            ]
          },
          "metadata": {
            "tags": [],
            "needs_background": "light"
          }
        }
      ]
    },
    {
      "cell_type": "code",
      "metadata": {
        "colab": {
          "base_uri": "https://localhost:8080/",
          "height": 295
        },
        "id": "fWHiXoIKJZl5",
        "outputId": "d004ab04-547d-4651-8d3c-4d5856278687"
      },
      "source": [
        "plt.plot(history.history['loss'])\n",
        "plt.plot(history.history['val_loss'])\n",
        "plt.title('Model Loss')\n",
        "plt.ylabel('Loss')\n",
        "plt.xlabel('Epoch')\n",
        "plt.legend(['Train', 'Validation'], loc='upper left')\n",
        "plt.show()"
      ],
      "execution_count": null,
      "outputs": [
        {
          "output_type": "display_data",
          "data": {
            "image/png": "[encoded data removed]",
            "text/plain": [
              "<Figure size 432x288 with 1 Axes>"
            ]
          },
          "metadata": {
            "tags": [],
            "needs_background": "light"
          }
        }
      ]
    },
    {
      "cell_type": "code",
      "metadata": {
        "id": "1QTNVqDVJedv"
      },
      "source": [
        "model.save(drive_path + 'int_cl/intents.h5')\n",
        "\n",
        "with open(drive_path + 'int_cl/classes.pkl', 'wb') as file:\n",
        "   pickle.dump(classes, file)\n",
        "\n",
        "with open(drive_path + 'int_cl/tokenizer.pkl', 'wb') as file:\n",
        "   pickle.dump(tokenizer, file)\n",
        "\n",
        "with open(drive_path + 'int_cl/label_encoder.pkl', 'wb') as file:\n",
        "   pickle.dump(label_encoder, file)"
      ],
      "execution_count": null,
      "outputs": []
    },
    {
      "cell_type": "code",
      "metadata": {
        "id": "XKPYT7EvJgOS"
      },
      "source": [
        "class IntentClassifier:\n",
        "    def __init__(self, classes, model, tokenizer, label_encoder):\n",
        "        self.classes = classes\n",
        "        self.classifier = model\n",
        "        self.tokenizer = tokenizer\n",
        "        self.label_encoder = label_encoder\n",
        "\n",
        "    def get_intent(self, text):\n",
        "        self.text = [text]\n",
        "        self.test_keras = self.tokenizer.texts_to_sequences(self.text)\n",
        "        self.test_keras_sequence = pad_sequences(self.test_keras, maxlen=7, padding='post')\n",
        "        self.pred = self.classifier.predict(self.test_keras_sequence)\n",
        "        print(self.pred[0])\n",
        "        result_index = np.argmax(self.pred,1)\n",
        "        print(self.pred[0][result_index])\n",
        "        return label_encoder.inverse_transform(np.argmax(self.pred,1))[0]\n",
        "\n",
        "    def get_intent_witout_print(self, text):\n",
        "        self.text = [text]\n",
        "        self.test_keras = self.tokenizer.texts_to_sequences(self.text)\n",
        "        self.test_keras_sequence = pad_sequences(self.test_keras, maxlen=7, padding='post')\n",
        "        self.pred = self.classifier.predict(self.test_keras_sequence)\n",
        "        result_index = np.argmax(self.pred,1)\n",
        "        return (label_encoder.inverse_transform(np.argmax(self.pred,1))[0], self.pred[0][result_index])"
      ],
      "execution_count": null,
      "outputs": []
    },
    {
      "cell_type": "code",
      "metadata": {
        "id": "n04bxBPrJiGJ"
      },
      "source": [
        "import pickle\n",
        "\n",
        "from keras.models import load_model\n",
        "\n",
        "model = load_model(drive_path + 'int_cl/intents.h5')\n",
        "\n",
        "with open(drive_path + 'int_cl/classes.pkl', 'rb') as file:\n",
        "  classes = pickle.load(file)\n",
        "\n",
        "with open(drive_path + 'int_cl/tokenizer.pkl', 'rb') as file:\n",
        "  tokenizer = pickle.load(file)\n",
        "\n",
        "with open(drive_path + 'int_cl/label_encoder.pkl', 'rb') as file:\n",
        "  label_encoder = pickle.load(file)"
      ],
      "execution_count": null,
      "outputs": []
    },
    {
      "cell_type": "code",
      "metadata": {
        "id": "IU5h31VSJjym"
      },
      "source": [
        "nlu = IntentClassifier(classes, model, tokenizer, label_encoder)"
      ],
      "execution_count": null,
      "outputs": []
    },
    {
      "cell_type": "code",
      "metadata": {
        "id": "zC9iWkeRJn8u",
        "colab": {
          "base_uri": "https://localhost:8080/"
        },
        "outputId": "b517c652-1c58-43f7-bfa7-9a91661f2dbb"
      },
      "source": [
        "q = ''\n",
        "while True:\n",
        "  q = str(input())\n",
        "  if q == 'q' or q == 'й':\n",
        "    break;\n",
        "  predicted_tag = nlu.get_intent(q)\n",
        "  print('intent name >> ' + predicted_tag)\n",
        "  response_add_info = get_answer(predicted_tag)\n",
        "  print(response_add_info[0] + ' ' + response_add_info[1])"
      ],
      "execution_count": null,
      "outputs": [
        {
          "output_type": "stream",
          "text": [
            "й\n"
          ],
          "name": "stdout"
        }
      ]
    },
    {
      "cell_type": "code",
      "metadata": {
        "id": "npuUnvOlJlV-",
        "colab": {
          "base_uri": "https://localhost:8080/",
          "height": 273
        },
        "outputId": "aba42902-d87a-47b7-d95f-6e82ffc6c620"
      },
      "source": [
        "nlu.get_intent(\"Спасибо большое\")"
      ],
      "execution_count": null,
      "outputs": [
        {
          "output_type": "stream",
          "text": [
            "[2.13441070e-11 8.08287326e-10 1.01771427e-08 8.83760265e-09\n",
            " 1.13216026e-06 8.21903683e-08 1.03482935e-05 2.96491066e-07\n",
            " 2.64121411e-07 2.31439348e-08 2.29648234e-09 4.70529482e-09\n",
            " 1.16154297e-09 5.47975515e-06 4.10804296e-06 2.71410263e-05\n",
            " 5.07130692e-11 2.90630246e-11 6.68488482e-08 1.94704683e-07\n",
            " 1.59312713e-05 9.12445466e-05 3.25101755e-05 1.21514495e-06\n",
            " 9.27541155e-09 2.03037033e-07 1.68022893e-07 1.58562563e-09\n",
            " 1.97939897e-07 1.04155795e-09 7.13818726e-10 9.30335670e-12\n",
            " 8.49776285e-08 1.73986783e-10 2.47217795e-05 2.69557913e-05\n",
            " 4.05129041e-10 7.75816389e-09 2.27644747e-09 5.81175470e-07\n",
            " 8.00952016e-09 3.95264273e-11 1.15736554e-09 7.27499572e-09\n",
            " 4.77127031e-08 7.38695718e-08 1.36890250e-07 9.99752343e-01\n",
            " 2.92401459e-09 4.32806019e-06 4.57277861e-11]\n",
            "[0.99975234]\n"
          ],
          "name": "stdout"
        },
        {
          "output_type": "execute_result",
          "data": {
            "application/vnd.google.colaboratory.intrinsic+json": {
              "type": "string"
            },
            "text/plain": [
              "'thanks'"
            ]
          },
          "metadata": {
            "tags": []
          },
          "execution_count": 22
        }
      ]
    },
    {
      "cell_type": "code",
      "metadata": {
        "id": "IA2vTQbRRfyN"
      },
      "source": [
        "import random\r\n",
        "def testModel():\r\n",
        "  questions = df['text'].values\r\n",
        "  tags = df['label'].values\r\n",
        "  test_data = []\r\n",
        "  for idx, val in enumerate(questions):\r\n",
        "    test_data.append((val, labels[idx]))\r\n",
        "  test_data = random.sample(test_data, len(test_data))\r\n",
        "  with open(\"testResult.txt\", \"w\") as file:\r\n",
        "    file.write('TEXT \\t TAG \\t\\t PREDICTED TAG \\t RESPONSE \\t SCORE')\r\n",
        "    for data in test_data:\r\n",
        "      result = nlu.get_intent_witout_print(data[0])\r\n",
        "      response_add_info = get_answer(result[0])\r\n",
        "      file.write(str(data[0]) + '\\t' + data[1] + '\\t\\t' + str(result[0]) + '\\t' + str(response_add_info[0]) + ' ' + str(response_add_info[1]) + '\\t' + str(result[1]) + '\\n')\r\n",
        "\r\n",
        "testModel()"
      ],
      "execution_count": null,
      "outputs": []
    },
    {
      "cell_type": "markdown",
      "metadata": {
        "id": "h3TGZEK9Xx2r"
      },
      "source": [
        "# Work-=-"
      ]
    },
    {
      "cell_type": "code",
      "metadata": {
        "id": "6iH-qsvtYS_g"
      },
      "source": [
        "group = 'ЗУ-540'\n",
        "facult = 'МРИПК'\n",
        "\n",
        "with open(\"user4.csv\", \"r\") as f:\n",
        "  for i, line in enumerate(f):\n",
        "    lastname, firstname, login = line.split(',')\n",
        "    fin_str = login.rstrip() + '@esstu.onmicrosoft.com,' + firstname + ',' + lastname + ',' + firstname + ' ' + lastname + ' ' + group + ',Студент,' + facult + ',,,,,,,улан-удэ,,670000,Россия'\n",
        "    print(fin_str)"
      ],
      "execution_count": null,
      "outputs": []
    }
  ]
}