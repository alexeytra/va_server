{
  "nbformat": 4,
  "nbformat_minor": 0,
  "metadata": {
    "colab": {
      "name": "intent_classification.ipynb",
      "provenance": [],
      "collapsed_sections": [
        "sIiol48voCCA",
        "_PXrtHRBlFPb",
        "h3TGZEK9Xx2r"
      ],
      "toc_visible": true
    },
    "kernelspec": {
      "display_name": "Python 3",
      "name": "python3"
    },
    "accelerator": "GPU"
  },
  "cells": [
    {
      "cell_type": "code",
      "metadata": {
        "colab": {
          "base_uri": "https://localhost:8080/"
        },
        "id": "WErpZ73imgLJ",
        "outputId": "23deaadf-9741-4385-b7bf-a31565e6dfcd"
      },
      "source": [
        "import glob\n",
        "from google.colab import drive\n",
        "drive.mount('/content/drive')"
      ],
      "execution_count": 1,
      "outputs": [
        {
          "output_type": "stream",
          "text": [
            "Mounted at /content/drive\n"
          ],
          "name": "stdout"
        }
      ]
    },
    {
      "cell_type": "markdown",
      "metadata": {
        "id": "pwxih8ij-PpT"
      },
      "source": [
        "https://towardsdatascience.com/multi-class-text-classification-with-scikit-learn-12f1e60e0a9f"
      ]
    },
    {
      "cell_type": "markdown",
      "metadata": {
        "id": "TF27qZ7Afuwb"
      },
      "source": [
        "# Text preprocessing"
      ]
    },
    {
      "cell_type": "code",
      "metadata": {
        "colab": {
          "base_uri": "https://localhost:8080/",
          "height": 238
        },
        "id": "lmtlWUpDAkAQ",
        "outputId": "2976d71f-6cb3-4389-8075-4903df37d499"
      },
      "source": [
        "import numpy as np\n",
        "import tensorflow as tf\n",
        "import random\n",
        "import json\n",
        "import pickle\n",
        "import pandas as pd\n",
        "from sklearn.cluster import MiniBatchKMeans\n",
        "from sklearn.feature_extraction.text import TfidfVectorizer\n",
        "from sklearn.decomposition import PCA\n",
        "import matplotlib.pyplot as plt\n",
        "from io import StringIO\n",
        "from sklearn.feature_extraction.text import TfidfVectorizer\n",
        "from sklearn.model_selection import train_test_split\n",
        "from sklearn.feature_extraction.text import CountVectorizer\n",
        "from sklearn.naive_bayes import MultinomialNB\n",
        "from sklearn.feature_extraction.text import TfidfTransformer\n",
        "\n",
        "drive_path = '/content/drive/My Drive/diplom_data/'\n",
        "\n",
        "def get_answer(intent):\n",
        "  responses = ''\n",
        "  add_info = ''\n",
        "  for tg in data[\"intents\"]:\n",
        "    if tg['intent'] == intent:\n",
        "      responses = tg['response']\n",
        "      add_info = tg['add_info']\n",
        "  response = random.choice(responses)\n",
        "  return (response, add_info)\n",
        "\n",
        "\n",
        "# from google drive\n",
        "with open( drive_path + 'intents.json') as file:\n",
        "  data = json.load(file)\n",
        "\n",
        "intents = {\n",
        "    'pattern': [],\n",
        "    'label': []\n",
        "}\n",
        "\n",
        "labels = []\n",
        "for intent in data[\"intents\"]:\n",
        "  for pattern in intent[\"patterns\"]:\n",
        "    intents['pattern'].append(pattern)\n",
        "    intents['label'].append(intent[\"intent\"])\n",
        "\n",
        "    if intent[\"intent\"] not in labels:\n",
        "       labels.append(intent[\"intent\"])\n",
        "\n",
        "df = pd.DataFrame(list(zip(intents['pattern'], intents['label'])), columns=['text', 'label'])\n",
        "print('Количество вопросов: ' + str(len(df['text'].values)))\n",
        "print('Количество интентов: ' + str(len(pd.Series(labels, name='A').unique())))\n",
        "df.head()"
      ],
      "execution_count": 2,
      "outputs": [
        {
          "output_type": "stream",
          "text": [
            "Количество вопросов: 307\n",
            "Количество интентов: 53\n"
          ],
          "name": "stdout"
        },
        {
          "output_type": "execute_result",
          "data": {
            "text/html": [
              "<div>\n",
              "<style scoped>\n",
              "    .dataframe tbody tr th:only-of-type {\n",
              "        vertical-align: middle;\n",
              "    }\n",
              "\n",
              "    .dataframe tbody tr th {\n",
              "        vertical-align: top;\n",
              "    }\n",
              "\n",
              "    .dataframe thead th {\n",
              "        text-align: right;\n",
              "    }\n",
              "</style>\n",
              "<table border=\"1\" class=\"dataframe\">\n",
              "  <thead>\n",
              "    <tr style=\"text-align: right;\">\n",
              "      <th></th>\n",
              "      <th>text</th>\n",
              "      <th>label</th>\n",
              "    </tr>\n",
              "  </thead>\n",
              "  <tbody>\n",
              "    <tr>\n",
              "      <th>0</th>\n",
              "      <td>Привет</td>\n",
              "      <td>greeting</td>\n",
              "    </tr>\n",
              "    <tr>\n",
              "      <th>1</th>\n",
              "      <td>Есть кто-нибудь</td>\n",
              "      <td>greeting</td>\n",
              "    </tr>\n",
              "    <tr>\n",
              "      <th>2</th>\n",
              "      <td>Приветики</td>\n",
              "      <td>greeting</td>\n",
              "    </tr>\n",
              "    <tr>\n",
              "      <th>3</th>\n",
              "      <td>Ауу</td>\n",
              "      <td>greeting</td>\n",
              "    </tr>\n",
              "    <tr>\n",
              "      <th>4</th>\n",
              "      <td>Здравствуй</td>\n",
              "      <td>greeting</td>\n",
              "    </tr>\n",
              "  </tbody>\n",
              "</table>\n",
              "</div>"
            ],
            "text/plain": [
              "              text     label\n",
              "0           Привет  greeting\n",
              "1  Есть кто-нибудь  greeting\n",
              "2        Приветики  greeting\n",
              "3              Ауу  greeting\n",
              "4       Здравствуй  greeting"
            ]
          },
          "metadata": {
            "tags": []
          },
          "execution_count": 2
        }
      ]
    },
    {
      "cell_type": "code",
      "metadata": {
        "id": "tewb1PNLLVFp"
      },
      "source": [
        "texts = df['text'].values\n",
        "labels = df['label'].values\n",
        "\n",
        "with open(\"texts.txt\", \"w\") as file:\n",
        "  for text in texts:\n",
        "    file.write(text + '\\n')"
      ],
      "execution_count": null,
      "outputs": []
    },
    {
      "cell_type": "markdown",
      "metadata": {
        "id": "5YGfYN5JQYA-"
      },
      "source": [
        "# Accurancy test"
      ]
    },
    {
      "cell_type": "code",
      "metadata": {
        "id": "X84tPGZ3STs0"
      },
      "source": [
        "from sklearn.metrics import accuracy_score\n",
        "def model_accurancy_clust(predict):\n",
        "  y_true = []\n",
        "  y_pred = []\n",
        "  for label in df['label']:\n",
        "    y_true.append(label)\n",
        "  for text in df['text']:\n",
        "    y_pred.append(labels[predict(vec.transform([text]))[0]])\n",
        "\n",
        "  print('y_true = ', y_true)\n",
        "  print('y_pred = ', y_pred)\n",
        "  return accuracy_score(y_true, y_pred)"
      ],
      "execution_count": null,
      "outputs": []
    },
    {
      "cell_type": "code",
      "metadata": {
        "id": "OcvVU80lW8pC"
      },
      "source": [
        "from sklearn.metrics import accuracy_score\n",
        "def model_accurancy(predict):\n",
        "  y_true = []\n",
        "  y_pred = []\n",
        "  for label in df['label']:\n",
        "    y_true.append(label)\n",
        "  for text in df['text']:\n",
        "    y_pred.append(predict(text))\n",
        "\n",
        "  print('y_true = ', y_true)\n",
        "  print('y_pred = ', y_pred)\n",
        "  return accuracy_score(y_true, y_pred)"
      ],
      "execution_count": null,
      "outputs": []
    },
    {
      "cell_type": "markdown",
      "metadata": {
        "id": "RdIHUzCxDpGI"
      },
      "source": [
        "# Text clustering"
      ]
    },
    {
      "cell_type": "code",
      "metadata": {
        "colab": {
          "base_uri": "https://localhost:8080/"
        },
        "id": "WEQKHRmLDsuJ",
        "outputId": "d3e1897c-4df2-42d9-efc4-4c2fc3ac306a"
      },
      "source": [
        "# for reproducibility\n",
        "random_state = 0 \n",
        "vec = TfidfVectorizer()\n",
        "vec.fit(df.text.values)\n",
        "features = vec.transform(df.text.values)\n",
        "print(\"Count clust \" + str(len(labels)))\n",
        "cls = MiniBatchKMeans(n_clusters=len(labels), random_state=random_state)\n",
        "cls.fit(features)\n",
        "cls.predict(features)\n",
        "cls.labels_"
      ],
      "execution_count": null,
      "outputs": [
        {
          "output_type": "stream",
          "text": [
            "Count clust 38\n"
          ],
          "name": "stdout"
        },
        {
          "output_type": "execute_result",
          "data": {
            "text/plain": [
              "array([27,  9, 15, 27, 36,  0,  0, 23, 15, 23, 14, 14, 17, 17, 28, 28, 32,\n",
              "       37, 15, 30, 33,  8,  8, 24, 15, 35,  5, 15,  5,  5, 15,  2,  3,  2,\n",
              "       31, 31, 15, 10, 10, 10, 10, 12, 12,  4, 20, 15, 20, 34,  2, 34, 34,\n",
              "       34, 21, 12, 20, 20,  7,  7, 19, 19, 19,  2,  7,  2,  2,  7, 15, 24,\n",
              "       12,  1, 12,  1, 20, 20,  6, 21, 13, 21, 25, 15, 25, 26, 26, 26, 11,\n",
              "       11, 15, 11, 22, 22, 15, 18, 18, 18, 18,  0, 16, 13, 16,  2, 15, 29,\n",
              "       29,  2, 15,  1, 21, 13,  1, 12,  1,  1, 12], dtype=int32)"
            ]
          },
          "metadata": {
            "tags": []
          },
          "execution_count": 15
        }
      ]
    },
    {
      "cell_type": "code",
      "metadata": {
        "colab": {
          "base_uri": "https://localhost:8080/",
          "height": 282
        },
        "id": "H1yt_klQEPi0",
        "outputId": "11ba3e99-3f38-44fd-d686-6154db1022a2"
      },
      "source": [
        "#visualization\n",
        "# reduce the features to 2D\n",
        "pca = PCA(n_components=2, random_state=random_state)\n",
        "reduced_features = pca.fit_transform(features.toarray())\n",
        "\n",
        "# reduce the cluster centers to 2D\n",
        "reduced_cluster_centers = pca.transform(cls.cluster_centers_)\n",
        "plt.scatter(reduced_features[:,0], reduced_features[:,1], c=cls.predict(features))\n",
        "plt.scatter(reduced_cluster_centers[:, 0], reduced_cluster_centers[:,1], marker='x', s=150, c='b')"
      ],
      "execution_count": null,
      "outputs": [
        {
          "output_type": "execute_result",
          "data": {
            "text/plain": [
              "<matplotlib.collections.PathCollection at 0x7f35073bb630>"
            ]
          },
          "metadata": {
            "tags": []
          },
          "execution_count": 6
        },
        {
          "output_type": "display_data",
          "data": {
            "image/png": "[encoded data removed]",
            "text/plain": [
              "<Figure size 432x288 with 1 Axes>"
            ]
          },
          "metadata": {
            "tags": []
          }
        }
      ]
    },
    {
      "cell_type": "code",
      "metadata": {
        "colab": {
          "base_uri": "https://localhost:8080/"
        },
        "id": "iEICnI4MEei0",
        "outputId": "6eb407e1-ea96-4fb5-f9e0-f468e4977bb6"
      },
      "source": [
        "#Оценка\n",
        "# from sklearn.metrics import homogeneity_score\n",
        "# homogeneity_score(df.label, cls.predict(features))\n",
        "\n",
        "print(model_accurancy_clust(cls.predict))"
      ],
      "execution_count": null,
      "outputs": [
        {
          "output_type": "stream",
          "text": [
            "y_true =  ['greeting', 'greeting', 'greeting', 'greeting', 'greeting_ques', 'greeting_ques', 'greeting_ques', 'thanks', 'thanks', 'thanks', 'greeting_day', 'greeting_day', 'greeting_morning', 'greeting_morning', 'greeting_evening', 'greeting_evening', 'goodbye', 'goodbye', 'goodbye', 'goodbye', 'age', 'age', 'age', 'name', 'name', 'name', 'what_can_you_do', 'what_can_you_do', 'what_can_you_do', 'what_can_you_do', 'general_info_address', 'general_info_address', 'general_info_address', 'general_info_address', 'general_info_website', 'general_info_website', 'general_info_lk', 'general_info_lk', 'general_info_lk', 'general_info_lk', 'general_info_lk', 'general_phone_num', 'general_phone_num', 'general_phone_num', 'general_email', 'general_email', 'general_email', 'select_commit_address', 'select_commit_address', 'select_commit_phone_num', 'select_commit_phone_num', 'select_commit_work', 'select_commit_work', 'kaf_phone_num', 'kaf_email', 'kaf_email', 'kaf_teachers', 'kaf_teachers', 'kaf_chief', 'kaf_chief', 'kaf_chief', 'kaf_location', 'kaf_location', 'fac_location', 'fac_location', 'fac_location', 'fac_chief', 'fac_chief', 'fac_phone_num', 'fac_phone_num', 'fac_phone_num', 'fac_phone_num', 'fac_email', 'fac_email', 'fac_email', 'fac_work_time', 'fac_work_time', 'fac_work_time', 'class_location', 'class_location', 'class_location', 'esstu_news', 'esstu_news', 'esstu_news', 'which_week', 'which_week', 'which_week', 'which_week', 'academic_leave', 'academic_leave', 'academic_leave', 'scholarship', 'scholarship', 'scholarship', 'scholarship', 'doctor_schedule', 'doctor_schedule', 'doctor_schedule', 'doctor_schedule', 'location_doctor_office', 'location_doctor_office', 'location_doctor_office', 'location_doctor_office', 'location_student_hospital', 'location_student_hospital', 'location_student_hospital', 'work_hours_hospital', 'work_hours_hospital', 'work_hours_hospital', 'phone_number_student_hospital', 'phone_number_student_hospital', 'phone_number_student_hospital', 'phone_number_student_hospital']\n",
            "y_pred =  ['fac_work_time', 'what_can_you_do', 'select_commit_address', 'fac_work_time', 'work_hours_hospital', 'greeting', 'greeting', 'fac_location', 'select_commit_address', 'fac_location', 'general_email', 'general_email', 'select_commit_work', 'select_commit_work', 'class_location', 'class_location', 'scholarship', 'phone_number_student_hospital', 'select_commit_address', 'which_week', 'doctor_schedule', 'name', 'name', 'fac_chief', 'select_commit_address', 'location_student_hospital', 'greeting_evening', 'select_commit_address', 'greeting_evening', 'greeting_evening', 'select_commit_address', 'thanks', 'greeting_day', 'thanks', 'academic_leave', 'academic_leave', 'select_commit_address', 'general_info_address', 'general_info_address', 'general_info_address', 'general_info_address', 'general_info_lk', 'general_info_lk', 'greeting_morning', 'kaf_teachers', 'select_commit_address', 'kaf_teachers', 'location_doctor_office', 'thanks', 'location_doctor_office', 'location_doctor_office', 'location_doctor_office', 'kaf_chief', 'general_info_lk', 'kaf_teachers', 'kaf_teachers', 'age', 'age', 'kaf_email', 'kaf_email', 'kaf_email', 'thanks', 'age', 'thanks', 'thanks', 'age', 'select_commit_address', 'fac_chief', 'general_info_lk', 'greeting_ques', 'general_info_lk', 'greeting_ques', 'kaf_teachers', 'kaf_teachers', 'goodbye', 'kaf_chief', 'general_phone_num', 'kaf_chief', 'fac_phone_num', 'select_commit_address', 'fac_phone_num', 'fac_email', 'fac_email', 'fac_email', 'general_info_website', 'general_info_website', 'select_commit_address', 'general_info_website', 'kaf_location', 'kaf_location', 'select_commit_address', 'kaf_phone_num', 'kaf_phone_num', 'kaf_phone_num', 'kaf_phone_num', 'greeting', 'select_commit_phone_num', 'general_phone_num', 'select_commit_phone_num', 'thanks', 'select_commit_address', 'esstu_news', 'esstu_news', 'thanks', 'select_commit_address', 'greeting_ques', 'kaf_chief', 'general_phone_num', 'greeting_ques', 'general_info_lk', 'greeting_ques', 'greeting_ques', 'general_info_lk']\n",
            "0.008849557522123894\n"
          ],
          "name": "stdout"
        }
      ]
    },
    {
      "cell_type": "code",
      "metadata": {
        "colab": {
          "base_uri": "https://localhost:8080/"
        },
        "id": "-G-NzS4FGZPc",
        "outputId": "dd5e5aaa-c6be-4a26-8228-715dc7edcac8"
      },
      "source": [
        "features = vec.transform([\"Спасибо\"])\n",
        "result = cls.predict(features)[0]\n",
        "print(labels[result])"
      ],
      "execution_count": null,
      "outputs": [
        {
          "output_type": "stream",
          "text": [
            "fac_location\n"
          ],
          "name": "stdout"
        }
      ]
    },
    {
      "cell_type": "markdown",
      "metadata": {
        "id": "ZbUOKIb5ReuK"
      },
      "source": [
        "# Naive Bayes classifier"
      ]
    },
    {
      "cell_type": "code",
      "metadata": {
        "colab": {
          "base_uri": "https://localhost:8080/"
        },
        "id": "oWgMifMwRkW0",
        "outputId": "f8c8b00e-8133-4b7e-d8c8-9805d088c392"
      },
      "source": [
        "def data_prepare():\n",
        "    col = ['text', 'label']\n",
        "    y = df\n",
        "    y = y[col]\n",
        "    y = y[pd.notnull(y['label'])]\n",
        "    y.columns = ['text', 'label']\n",
        "    y['category_id'] = y['text'].factorize()[0]\n",
        "    category_id_df = y[['text', 'category_id']].drop_duplicates().sort_values('category_id')\n",
        "    category_to_id = dict(category_id_df.values)\n",
        "    id_to_category = dict(category_id_df[['category_id', 'text']].values)\n",
        "    return y\n",
        "\n",
        "print(data_prepare())"
      ],
      "execution_count": null,
      "outputs": [
        {
          "output_type": "stream",
          "text": [
            "                                              text  ... category_id\n",
            "0                                           Привет  ...           0\n",
            "1                                  Есть кто-нибудь  ...           1\n",
            "2                                        Приветики  ...           2\n",
            "3                                              Ауу  ...           3\n",
            "4                                        Как дела?  ...           4\n",
            "..                                             ...  ...         ...\n",
            "108          Время работы студенческой поликлиники  ...         106\n",
            "109        Номер телефона студенческой поликлиники  ...         107\n",
            "110               Телефон студенческой поликлиники  ...         108\n",
            "111           Какой номер студенческой поликлиники  ...         109\n",
            "112  Какой номер телефона студенческой поликлиники  ...         110\n",
            "\n",
            "[113 rows x 3 columns]\n"
          ],
          "name": "stdout"
        }
      ]
    },
    {
      "cell_type": "code",
      "metadata": {
        "id": "dlZJFSHuSOf9"
      },
      "source": [
        "\n",
        "def naive_algo():\n",
        "    tfidf = TfidfVectorizer(sublinear_tf=True, min_df=5, norm='l2', ngram_range=(1, 2))\n",
        "    df = data_prepare()\n",
        "    features = tfidf.fit_transform(df.text).toarray()\n",
        "    labels = df.category_id\n",
        "    # print(features.shape)\n",
        "    X_train, X_test, y_train, y_test = train_test_split(df['text'], df['label'], random_state = 0)\n",
        "    count_vect = CountVectorizer()\n",
        "    X_train_counts = count_vect.fit_transform(X_train)\n",
        "    tfidf_transformer = TfidfTransformer()\n",
        "    X_train_tfidf = tfidf_transformer.fit_transform(X_train_counts)\n",
        "\n",
        "    clf = MultinomialNB(alpha = 0.1).fit(X_train_tfidf, y_train)\n",
        "    return clf,count_vect\n"
      ],
      "execution_count": null,
      "outputs": []
    },
    {
      "cell_type": "code",
      "metadata": {
        "id": "zEh4q0MWSQ5k"
      },
      "source": [
        "def predict(question):\n",
        "    clf, count_vect = naive_algo()\n",
        "    intent = clf.predict(count_vect.transform([question]))\n",
        "    intent = str(intent).strip(\"['']\")\n",
        "    print(clf.predict_proba(count_vect.transform([question])))\n",
        "    # print(intent)\n",
        "    return intent"
      ],
      "execution_count": null,
      "outputs": []
    },
    {
      "cell_type": "code",
      "metadata": {
        "id": "4VaoNJ0bSSPg"
      },
      "source": [
        "while True:\n",
        "  ques = input(\"Enter your question \")\n",
        "  if ques == 'q':\n",
        "    break\n",
        "  response_add_info = get_answer(predict(ques))\n",
        "  print(response_add_info[0] + ' ' + response_add_info[1])"
      ],
      "execution_count": null,
      "outputs": []
    },
    {
      "cell_type": "code",
      "metadata": {
        "id": "vawpsmSYXdpV"
      },
      "source": [
        "model_accurancy(predict)"
      ],
      "execution_count": null,
      "outputs": []
    },
    {
      "cell_type": "markdown",
      "metadata": {
        "id": "sIiol48voCCA"
      },
      "source": [
        "# SVM"
      ]
    },
    {
      "cell_type": "code",
      "metadata": {
        "id": "tUQcegyDoEwq"
      },
      "source": [
        "from sklearn.svm import SVC, LinearSVC# Support Vector Machine\n",
        "from sklearn.pipeline import Pipeline #pipeline to implement steps in series\n",
        "from gensim import parsing \n",
        "\n",
        "tfidf = TfidfVectorizer(sublinear_tf=True, min_df=5, norm='l2', ngram_range=(1, 2))\n",
        "df = data_prepare()\n",
        "features = tfidf.fit_transform(df.text).toarray()\n",
        "labels = df.category_id\n",
        "# print(features.shape)\n",
        "X_train, X_test, y_train, y_test = train_test_split(df['text'], df['label'], random_state = 0)\n",
        "count_vect = CountVectorizer()\n",
        "X_train_counts = count_vect.fit_transform(X_train)\n",
        "tfidf_transformer = TfidfTransformer()\n",
        "X_train_tfidf = tfidf_transformer.fit_transform(X_train_counts)\n",
        "\n",
        "clf = LinearSVC()\n",
        "\n",
        "#train model\n",
        "clf.fit(X_train_tfidf, y_train)\n",
        "\n",
        "def svm_predict(question): \n",
        "  return clf.predict(count_vect.transform([question]))[0]\n",
        "\n",
        "# print(X_test)\n",
        "# predicted = text_clf.predict(X_test)\n",
        "# print(predicted)"
      ],
      "execution_count": null,
      "outputs": []
    },
    {
      "cell_type": "code",
      "metadata": {
        "colab": {
          "base_uri": "https://localhost:8080/"
        },
        "id": "lQBIKLYpujyP",
        "outputId": "edfdcb46-8e69-4a4e-a502-0610c0f85a5b"
      },
      "source": [
        "#predict class form test data \n",
        "while True:\n",
        "  question = input(\"Enter your question \")\n",
        "  if question == 'q':\n",
        "    break\n",
        "  response_add_info = get_answer(svm_predict(question))\n",
        "  print(response_add_info[0] + ' ' + response_add_info[1])\n"
      ],
      "execution_count": null,
      "outputs": [
        {
          "output_type": "stream",
          "text": [
            "Enter your question й\n",
            "Пока \n",
            "Enter your question q\n"
          ],
          "name": "stdout"
        }
      ]
    },
    {
      "cell_type": "code",
      "metadata": {
        "colab": {
          "base_uri": "https://localhost:8080/"
        },
        "id": "ZV8RadQkcU-s",
        "outputId": "a7f00cea-7323-44c7-bc01-4d76c7814991"
      },
      "source": [
        "model_accurancy(svm_predict)"
      ],
      "execution_count": null,
      "outputs": [
        {
          "output_type": "stream",
          "text": [
            "y_true =  ['greeting', 'greeting', 'greeting', 'greeting', 'greeting_ques', 'greeting_ques', 'greeting_ques', 'thanks', 'thanks', 'thanks', 'greeting_day', 'greeting_day', 'greeting_morning', 'greeting_morning', 'greeting_evening', 'greeting_evening', 'goodbye', 'goodbye', 'goodbye', 'goodbye', 'age', 'age', 'age', 'name', 'name', 'name', 'what_can_you_do', 'what_can_you_do', 'what_can_you_do', 'what_can_you_do', 'general_info_address', 'general_info_address', 'general_info_address', 'general_info_address', 'general_info_website', 'general_info_website', 'general_info_lk', 'general_info_lk', 'general_info_lk', 'general_info_lk', 'general_info_lk', 'general_phone_num', 'general_phone_num', 'general_phone_num', 'general_email', 'general_email', 'general_email', 'select_commit_address', 'select_commit_address', 'select_commit_phone_num', 'select_commit_phone_num', 'select_commit_work', 'select_commit_work', 'kaf_phone_num', 'kaf_email', 'kaf_email', 'kaf_teachers', 'kaf_teachers', 'kaf_chief', 'kaf_chief', 'kaf_chief', 'kaf_location', 'kaf_location', 'fac_location', 'fac_location', 'fac_location', 'fac_chief', 'fac_chief', 'fac_phone_num', 'fac_phone_num', 'fac_phone_num', 'fac_phone_num', 'fac_email', 'fac_email', 'fac_email', 'fac_work_time', 'fac_work_time', 'fac_work_time', 'class_location', 'class_location', 'class_location', 'esstu_news', 'esstu_news', 'esstu_news', 'which_week', 'which_week', 'which_week', 'which_week', 'academic_leave', 'academic_leave', 'academic_leave', 'scholarship', 'scholarship', 'scholarship', 'scholarship', 'doctor_schedule', 'doctor_schedule', 'doctor_schedule', 'doctor_schedule', 'location_doctor_office', 'location_doctor_office', 'location_doctor_office', 'location_doctor_office', 'location_student_hospital', 'location_student_hospital', 'location_student_hospital', 'work_hours_hospital', 'work_hours_hospital', 'work_hours_hospital', 'phone_number_student_hospital', 'phone_number_student_hospital', 'phone_number_student_hospital', 'phone_number_student_hospital']\n",
            "y_pred =  ['greeting', 'greeting', 'goodbye', 'goodbye', 'greeting_ques', 'greeting_ques', 'greeting_ques', 'thanks', 'what_can_you_do', 'thanks', 'greeting_day', 'greeting_day', 'greeting_morning', 'greeting_morning', 'greeting_evening', 'greeting_evening', 'goodbye', 'goodbye', 'goodbye', 'goodbye', 'age', 'age', 'age', 'name', 'name', 'name', 'what_can_you_do', 'what_can_you_do', 'what_can_you_do', 'what_can_you_do', 'general_info_address', 'general_info_address', 'general_info_address', 'general_info_address', 'general_info_website', 'general_info_website', 'general_info_lk', 'general_info_lk', 'general_info_lk', 'general_info_lk', 'general_info_lk', 'general_phone_num', 'fac_phone_num', 'general_info_address', 'general_email', 'general_phone_num', 'general_email', 'select_commit_address', 'select_commit_address', 'select_commit_phone_num', 'select_commit_phone_num', 'select_commit_work', 'select_commit_work', 'kaf_phone_num', 'kaf_email', 'kaf_email', 'kaf_email', 'kaf_teachers', 'kaf_chief', 'kaf_chief', 'kaf_chief', 'kaf_location', 'kaf_location', 'general_info_address', 'fac_location', 'fac_location', 'fac_chief', 'fac_chief', 'fac_phone_num', 'fac_phone_num', 'fac_phone_num', 'fac_phone_num', 'fac_email', 'fac_email', 'fac_email', 'fac_work_time', 'work_hours_hospital', 'fac_work_time', 'class_location', 'class_location', 'class_location', 'esstu_news', 'esstu_news', 'esstu_news', 'which_week', 'which_week', 'which_week', 'which_week', 'academic_leave', 'academic_leave', 'academic_leave', 'scholarship', 'scholarship', 'scholarship', 'scholarship', 'doctor_schedule', 'doctor_schedule', 'work_hours_hospital', 'doctor_schedule', 'location_doctor_office', 'location_doctor_office', 'location_doctor_office', 'location_doctor_office', 'location_student_hospital', 'class_location', 'phone_number_student_hospital', 'work_hours_hospital', 'work_hours_hospital', 'phone_number_student_hospital', 'phone_number_student_hospital', 'phone_number_student_hospital', 'phone_number_student_hospital', 'phone_number_student_hospital']\n"
          ],
          "name": "stdout"
        },
        {
          "output_type": "execute_result",
          "data": {
            "text/plain": [
              "0.8849557522123894"
            ]
          },
          "metadata": {
            "tags": []
          },
          "execution_count": 41
        }
      ]
    },
    {
      "cell_type": "markdown",
      "metadata": {
        "id": "_PXrtHRBlFPb"
      },
      "source": [
        "# Simple NN\n",
        "\n",
        "https://www.tensorflow.org/tutorials/keras/text_classification_with_hub\n",
        "\n",
        "https://www.tensorflow.org/tutorials/keras/text_classification"
      ]
    },
    {
      "cell_type": "code",
      "metadata": {
        "colab": {
          "base_uri": "https://localhost:8080/"
        },
        "id": "SCsNoqupf4eN",
        "outputId": "0443ac18-bc11-427f-d80e-7242348aaa8c"
      },
      "source": [
        "import numpy as np\n",
        "import tensorflow as tf\n",
        "\n",
        "print(\"Version: \", tf.__version__)\n",
        "print(\"Eager mode: \", tf.executing_eagerly())\n",
        "print(\"GPU is\", \"available\" if tf.config.experimental.list_physical_devices(\"GPU\") else \"NOT AVAILABLE\")\n",
        "\n"
      ],
      "execution_count": null,
      "outputs": [
        {
          "output_type": "stream",
          "text": [
            "Version:  2.4.0\n",
            "Eager mode:  True\n",
            "GPU is NOT AVAILABLE\n"
          ],
          "name": "stdout"
        }
      ]
    },
    {
      "cell_type": "code",
      "metadata": {
        "id": "OrLn039NNdw_"
      },
      "source": [
        "from keras.models import Sequential\n",
        "from keras import layers\n",
        "from keras.preprocessing.text import Tokenizer\n",
        "from keras.preprocessing.sequence import pad_sequences\n",
        "from sklearn.model_selection import train_test_split\n",
        "from sklearn.preprocessing import LabelBinarizer\n",
        "\n",
        "texts = df['text'].values\n",
        "labels = df['label'].values\n",
        "\n",
        "maxlen = len(max(texts, key=len).split()) + 10\n",
        "embedding_dim = 300\n",
        "\n",
        "num_samples = pd.Series(labels, name='A').unique()\n",
        "\n",
        "sentences_train, sentences_test, y_train, y_test = train_test_split(texts, labels, test_size=0.01, random_state=1000)\n",
        "# print(sentences_train, y_train)\n",
        "\n",
        "tokenizer = Tokenizer(num_words=1000)\n",
        "tokenizer.fit_on_texts(sentences_train)\n",
        "\n",
        "encoder = LabelBinarizer()\n",
        "\n",
        "X_train = tokenizer.texts_to_sequences(sentences_train)\n",
        "X_test = tokenizer.texts_to_sequences(sentences_test)\n",
        "\n",
        "\n",
        "encoder.fit(y_train)\n",
        "y_train = encoder.transform(y_train)\n",
        "y_test = encoder.transform(y_test)\n",
        "\n",
        "vocab_size = len(tokenizer.word_index) + 1 \n",
        "\n",
        "\n",
        "X_train = pad_sequences(X_train, padding='post', maxlen=maxlen)\n",
        "X_test = pad_sequences(X_test, padding='post', maxlen=maxlen)\n"
      ],
      "execution_count": null,
      "outputs": []
    },
    {
      "cell_type": "code",
      "metadata": {
        "colab": {
          "base_uri": "https://localhost:8080/"
        },
        "id": "9I7exunzWcBB",
        "outputId": "859f80a2-2c2b-45f5-9c6b-e2f2b40c7be7"
      },
      "source": [
        "model = Sequential()\n",
        "model.add(layers.Embedding(input_dim=vocab_size, \n",
        "                           output_dim=embedding_dim, \n",
        "                           input_length=maxlen))\n",
        "model.add(layers.GlobalMaxPool1D())\n",
        "model.add(layers.Dense(80, activation='relu'))\n",
        "model.add(layers.Dense(32, activation='relu'))\n",
        "# model.add(layers.Dropout(0.3))\n",
        "model.add(layers.Dense(num_samples.size, activation='softmax'))\n",
        "model.compile(optimizer='adam',\n",
        "              loss='categorical_crossentropy',\n",
        "              metrics=['categorical_accuracy'])\n",
        "model.summary()"
      ],
      "execution_count": null,
      "outputs": [
        {
          "output_type": "stream",
          "text": [
            "Model: \"sequential_4\"\n",
            "_________________________________________________________________\n",
            "Layer (type)                 Output Shape              Param #   \n",
            "=================================================================\n",
            "embedding_3 (Embedding)      (None, 17, 300)           54600     \n",
            "_________________________________________________________________\n",
            "global_max_pooling1d_1 (Glob (None, 300)               0         \n",
            "_________________________________________________________________\n",
            "dense_5 (Dense)              (None, 80)                24080     \n",
            "_________________________________________________________________\n",
            "dense_6 (Dense)              (None, 32)                2592      \n",
            "_________________________________________________________________\n",
            "dense_7 (Dense)              (None, 39)                1287      \n",
            "=================================================================\n",
            "Total params: 82,559\n",
            "Trainable params: 82,559\n",
            "Non-trainable params: 0\n",
            "_________________________________________________________________\n"
          ],
          "name": "stdout"
        }
      ]
    },
    {
      "cell_type": "markdown",
      "metadata": {
        "id": "0UFv7scWNKQw"
      },
      "source": [
        "https://www.tensorflow.org/guide/keras/save_and_serialize - сохранение модели"
      ]
    },
    {
      "cell_type": "code",
      "metadata": {
        "id": "QuQ3G3U5XM88"
      },
      "source": [
        "history = model.fit(X_train, y_train, epochs=20, verbose=1,  batch_size=10)\n",
        "loss, accuracy = model.evaluate(X_train, y_train, verbose=False)\n",
        "print(\"Training Accuracy: {:.4f}\".format(accuracy))\n",
        "loss, accuracy = model.evaluate(X_test, y_test, verbose=False)\n",
        "print(\"Testing Accuracy:  {:.4f}\".format(accuracy))\n",
        "model.save(drive_path + 'saved_models/intent_classifier.h5')\n"
      ],
      "execution_count": null,
      "outputs": []
    },
    {
      "cell_type": "code",
      "metadata": {
        "id": "rqbEfzA4dSmA"
      },
      "source": [
        "text_labels = encoder.classes_\n",
        "while True:\n",
        "  question = input(\"Вопрос >> \")\n",
        "  if question == 'q' or question == 'й':\n",
        "    break\n",
        "  tok_question = tokenizer.texts_to_sequences([question])\n",
        "  pad_question = pad_sequences(tok_question, padding='post', maxlen=maxlen)\n",
        "  print(pad_question)\n",
        "  response_add_info = model.predict(np.array(pad_question))\n",
        "  print(text_labels[np.argmax(response_add_info[0])] + \" >> \" + str(np.argmax(response_add_info[0])))\n",
        "  print(response_add_info[0])\n",
        "  print(get_answer(text_labels[np.argmax(response_add_info[0])]))\n",
        "  result_index = np.argmax(response_add_info[0])\n",
        "  print(\"Result index = \", result_index)\n",
        "  print('Predict % ', response_add_info[0][result_index])\n",
        "\n",
        "\n",
        "# prediction = model.predict(np.array([x_t]))"
      ],
      "execution_count": null,
      "outputs": []
    },
    {
      "cell_type": "markdown",
      "metadata": {
        "id": "lFFDEUmJBRmV"
      },
      "source": [
        "# NN v.2 RNN(LTSM)"
      ]
    },
    {
      "cell_type": "code",
      "metadata": {
        "colab": {
          "base_uri": "https://localhost:8080/"
        },
        "id": "htmezpXoQKIo",
        "outputId": "c27e8d50-f078-42bb-ff04-8f8dc5f374df"
      },
      "source": [
        "import numpy as np\r\n",
        "import tensorflow as tf\r\n",
        "\r\n",
        "print(\"Version: \", tf.__version__)\r\n",
        "print(\"Eager mode: \", tf.executing_eagerly())\r\n",
        "print(\"GPU is\", \"available\" if tf.config.experimental.list_physical_devices(\"GPU\") else \"NOT AVAILABLE\")\r\n",
        "\r\n",
        "!pip3 install navec\r\n",
        "!wget https://storage.yandexcloud.net/natasha-navec/packs/navec_hudlit_v1_12B_500K_300d_100q.tar\r\n",
        "from navec import Navec\r\n",
        "navec_path = 'navec_hudlit_v1_12B_500K_300d_100q.tar'\r\n",
        "navec = Navec.load(navec_path)"
      ],
      "execution_count": 3,
      "outputs": [
        {
          "output_type": "stream",
          "text": [
            "Version:  2.4.1\n",
            "Eager mode:  True\n",
            "GPU is available\n",
            "Collecting navec\n",
            "  Downloading https://files.pythonhosted.org/packages/bc/c1/771ec5565f0ce24874d7fd325b429f9caa80517a40d2e4ce5705120591f3/navec-0.10.0-py3-none-any.whl\n",
            "Requirement already satisfied: numpy in /usr/local/lib/python3.6/dist-packages (from navec) (1.19.5)\n",
            "Installing collected packages: navec\n",
            "Successfully installed navec-0.10.0\n",
            "--2021-02-22 15:39:22--  https://storage.yandexcloud.net/natasha-navec/packs/navec_hudlit_v1_12B_500K_300d_100q.tar\n",
            "Resolving storage.yandexcloud.net (storage.yandexcloud.net)... 213.180.193.243, 2a02:6b8::1d9\n",
            "Connecting to storage.yandexcloud.net (storage.yandexcloud.net)|213.180.193.243|:443... connected.\n",
            "HTTP request sent, awaiting response... 200 OK\n",
            "Length: 53012480 (51M) [application/x-tar]\n",
            "Saving to: ‘navec_hudlit_v1_12B_500K_300d_100q.tar’\n",
            "\n",
            "navec_hudlit_v1_12B 100%[===================>]  50.56M  15.9MB/s    in 4.4s    \n",
            "\n",
            "2021-02-22 15:39:27 (11.6 MB/s) - ‘navec_hudlit_v1_12B_500K_300d_100q.tar’ saved [53012480/53012480]\n",
            "\n"
          ],
          "name": "stdout"
        }
      ]
    },
    {
      "cell_type": "code",
      "metadata": {
        "colab": {
          "base_uri": "https://localhost:8080/"
        },
        "id": "BT0iUAmqC1OV",
        "outputId": "74df53d6-465e-4902-e263-cabc517522a1"
      },
      "source": [
        "from sklearn.model_selection import train_test_split\n",
        "from keras.preprocessing.text import Tokenizer\n",
        "from keras.preprocessing.sequence import pad_sequences\n",
        "from sklearn.preprocessing import OneHotEncoder, LabelEncoder\n",
        "import pickle\n",
        "import json\n",
        "import os\n",
        "\n",
        "\n",
        "if not os.path.isdir('utils'):\n",
        "  os.mkdir(\"utils\")\n",
        "\n",
        "max_num_words = 2000\n",
        "embedding_dim = 300\n",
        "\n",
        "texts = df['text'].values\n",
        "labels = df['label'].values\n",
        "train_txt, test_txt, train_label, test_labels = train_test_split(texts, labels, test_size = 0.01)\n",
        "\n",
        "ls = []\n",
        "for c in train_txt:\n",
        "  ls.append(len(c.split()))\n",
        "maxLen = int(np.percentile(ls, 100)) \n",
        "maxLen\n"
      ],
      "execution_count": 12,
      "outputs": [
        {
          "output_type": "execute_result",
          "data": {
            "text/plain": [
              "9"
            ]
          },
          "metadata": {
            "tags": []
          },
          "execution_count": 12
        }
      ]
    },
    {
      "cell_type": "code",
      "metadata": {
        "colab": {
          "base_uri": "https://localhost:8080/"
        },
        "id": "SdzPvKrEevvJ",
        "outputId": "451c298f-501c-4f9c-8d31-1c0dbe064c1d"
      },
      "source": [
        " test_txt"
      ],
      "execution_count": null,
      "outputs": [
        {
          "output_type": "execute_result",
          "data": {
            "text/plain": [
              "array(['Время работы приемной комиссии',\n",
              "       'Скажи пожалуйста номер телефона кафедры', 'Привет'], dtype=object)"
            ]
          },
          "metadata": {
            "tags": []
          },
          "execution_count": 7
        }
      ]
    },
    {
      "cell_type": "code",
      "metadata": {
        "id": "RSiMHExIGn-M"
      },
      "source": [
        "classes = np.unique(labels)\n",
        "tokenizer = Tokenizer(num_words=max_num_words)\n",
        "tokenizer.fit_on_texts(train_txt)\n",
        "\n",
        "train_sequences = tokenizer.texts_to_sequences(train_txt)\n",
        "train_sequences = pad_sequences(train_sequences, maxlen=maxLen, padding='post')\n",
        "test_sequences = tokenizer.texts_to_sequences(test_txt)\n",
        "test_sequences = pad_sequences(test_sequences, maxlen=maxLen, padding='post')\n",
        "word_index = tokenizer.word_index\n",
        "num_words = min(max_num_words, len(word_index)) + 1"
      ],
      "execution_count": 13,
      "outputs": []
    },
    {
      "cell_type": "code",
      "metadata": {
        "id": "Vg7CiPmtHN1x"
      },
      "source": [
        "def embedding_matrix_creater(embedding_dimention, word_index):\n",
        "    embedding_matrix = np.zeros((len(word_index) + 1, embedding_dimention))\n",
        "    for word, i in word_index.items():\n",
        "        embedding_vector = navec.get(word)\n",
        "        if embedding_vector is not None:\n",
        "            embedding_matrix[i] = embedding_vector\n",
        "    return embedding_matrix\n",
        "    \n",
        "embedding_matrix = embedding_matrix_creater(embedding_dim, word_index=word_index)"
      ],
      "execution_count": 14,
      "outputs": []
    },
    {
      "cell_type": "code",
      "metadata": {
        "id": "iqmTTWmfIjY1"
      },
      "source": [
        "label_encoder = LabelEncoder()\n",
        "integer_encoded = label_encoder.fit_transform(classes)\n",
        "\n",
        "onehot_encoder = OneHotEncoder(sparse=False)\n",
        "integer_encoded = integer_encoded.reshape(len(integer_encoded), 1)\n",
        "onehot_encoder.fit(integer_encoded)\n",
        "\n",
        "train_label_encoded = label_encoder.transform(train_label)\n",
        "train_label_encoded = train_label_encoded.reshape(len(train_label_encoded), 1)\n",
        "train_label = onehot_encoder.transform(train_label_encoded)\n",
        "\n",
        "test_labels_encoded = label_encoder.transform(test_labels)\n",
        "test_labels_encoded = test_labels_encoded.reshape(len(test_labels_encoded), 1)\n",
        "test_labels = onehot_encoder.transform(test_labels_encoded)"
      ],
      "execution_count": 15,
      "outputs": []
    },
    {
      "cell_type": "code",
      "metadata": {
        "id": "e-wDkuSOIsk0",
        "colab": {
          "base_uri": "https://localhost:8080/"
        },
        "outputId": "2c16a83e-1b14-45a0-cb93-d290a3459cd5"
      },
      "source": [
        "from keras.models import Sequential\n",
        "from keras.layers import Dense, Input, Dropout, LSTM, Activation, Bidirectional,Embedding\n",
        "\n",
        "model = Sequential()\n",
        "\n",
        "model.add(Embedding(num_words, 300, trainable=False, input_length=train_sequences.shape[1], weights=[embedding_matrix]))\n",
        "model.add(Bidirectional(LSTM(256, return_sequences=True, recurrent_dropout=0.1, dropout=0.1), 'concat'))\n",
        "model.add(Dropout(0.3))\n",
        "model.add(LSTM(256, return_sequences=False, recurrent_dropout=0.1, dropout=0.1))\n",
        "model.add(Dropout(0.3))\n",
        "model.add(Dense(50, activation='relu'))\n",
        "model.add(Dropout(0.3))\n",
        "model.add(Dense(classes.shape[0], activation='softmax'))\n",
        "model.summary()"
      ],
      "execution_count": 16,
      "outputs": [
        {
          "output_type": "stream",
          "text": [
            "WARNING:tensorflow:Layer lstm_2 will not use cuDNN kernel since it doesn't meet the cuDNN kernel criteria. It will use generic GPU kernel as fallback when running on GPU\n",
            "WARNING:tensorflow:Layer lstm_2 will not use cuDNN kernel since it doesn't meet the cuDNN kernel criteria. It will use generic GPU kernel as fallback when running on GPU\n",
            "WARNING:tensorflow:Layer lstm_2 will not use cuDNN kernel since it doesn't meet the cuDNN kernel criteria. It will use generic GPU kernel as fallback when running on GPU\n",
            "WARNING:tensorflow:Layer lstm_3 will not use cuDNN kernel since it doesn't meet the cuDNN kernel criteria. It will use generic GPU kernel as fallback when running on GPU\n",
            "Model: \"sequential_1\"\n",
            "_________________________________________________________________\n",
            "Layer (type)                 Output Shape              Param #   \n",
            "=================================================================\n",
            "embedding_1 (Embedding)      (None, 9, 300)            79200     \n",
            "_________________________________________________________________\n",
            "bidirectional_1 (Bidirection (None, 9, 512)            1140736   \n",
            "_________________________________________________________________\n",
            "dropout_3 (Dropout)          (None, 9, 512)            0         \n",
            "_________________________________________________________________\n",
            "lstm_3 (LSTM)                (None, 256)               787456    \n",
            "_________________________________________________________________\n",
            "dropout_4 (Dropout)          (None, 256)               0         \n",
            "_________________________________________________________________\n",
            "dense_2 (Dense)              (None, 50)                12850     \n",
            "_________________________________________________________________\n",
            "dropout_5 (Dropout)          (None, 50)                0         \n",
            "_________________________________________________________________\n",
            "dense_3 (Dense)              (None, 53)                2703      \n",
            "=================================================================\n",
            "Total params: 2,022,945\n",
            "Trainable params: 1,943,745\n",
            "Non-trainable params: 79,200\n",
            "_________________________________________________________________\n"
          ],
          "name": "stdout"
        }
      ]
    },
    {
      "cell_type": "code",
      "metadata": {
        "colab": {
          "base_uri": "https://localhost:8080/"
        },
        "id": "U3uAyTjqG2iz",
        "outputId": "b22c6ab0-b5f4-436f-982d-ba75771f5358"
      },
      "source": [
        "from keras.models import Sequential\r\n",
        "from keras.layers import Dense, Input, Dropout, LSTM, Activation, Bidirectional,Embedding\r\n",
        "\r\n",
        "model = Sequential()\r\n",
        "\r\n",
        "model.add(Embedding(num_words, 300, trainable=False, input_length=train_sequences.shape[1], weights=[embedding_matrix]))\r\n",
        "model.add(Bidirectional(LSTM(512, return_sequences=True, recurrent_dropout=0.2, dropout=0.1), 'concat'))\r\n",
        "model.add(Dropout(0.3))\r\n",
        "model.add(LSTM(512, return_sequences=False, recurrent_dropout=0.2, dropout=0.1))\r\n",
        "model.add(Dropout(0.3))\r\n",
        "model.add(Dense(50, activation='relu'))\r\n",
        "model.add(Dropout(0.3))\r\n",
        "model.add(Dense(classes.shape[0], activation='softmax'))\r\n",
        "model.summary()"
      ],
      "execution_count": null,
      "outputs": [
        {
          "output_type": "stream",
          "text": [
            "Model: \"sequential_6\"\n",
            "_________________________________________________________________\n",
            "Layer (type)                 Output Shape              Param #   \n",
            "=================================================================\n",
            "embedding_6 (Embedding)      (None, 7, 300)            79500     \n",
            "_________________________________________________________________\n",
            "bidirectional_6 (Bidirection (None, 7, 1024)           3330048   \n",
            "_________________________________________________________________\n",
            "dropout_15 (Dropout)         (None, 7, 1024)           0         \n",
            "_________________________________________________________________\n",
            "lstm_13 (LSTM)               (None, 512)               3147776   \n",
            "_________________________________________________________________\n",
            "dropout_16 (Dropout)         (None, 512)               0         \n",
            "_________________________________________________________________\n",
            "dense_12 (Dense)             (None, 50)                25650     \n",
            "_________________________________________________________________\n",
            "dropout_17 (Dropout)         (None, 50)                0         \n",
            "_________________________________________________________________\n",
            "dense_13 (Dense)             (None, 53)                2703      \n",
            "=================================================================\n",
            "Total params: 6,585,677\n",
            "Trainable params: 6,506,177\n",
            "Non-trainable params: 79,500\n",
            "_________________________________________________________________\n"
          ],
          "name": "stdout"
        }
      ]
    },
    {
      "cell_type": "code",
      "metadata": {
        "id": "Z6r-7UXRJJYV"
      },
      "source": [
        "model.compile(loss='categorical_crossentropy', \n",
        "              optimizer='adam', \n",
        "              metrics=['acc'])"
      ],
      "execution_count": 17,
      "outputs": []
    },
    {
      "cell_type": "code",
      "metadata": {
        "colab": {
          "base_uri": "https://localhost:8080/"
        },
        "id": "WWYzFK_Ya7Kl",
        "outputId": "8e44cae3-1f66-48a1-e21c-99dbb851e685"
      },
      "source": [
        "train_sequences[0]"
      ],
      "execution_count": 18,
      "outputs": [
        {
          "output_type": "execute_result",
          "data": {
            "text/plain": [
              "array([98, 99,  0,  0,  0,  0,  0,  0,  0], dtype=int32)"
            ]
          },
          "metadata": {
            "tags": []
          },
          "execution_count": 18
        }
      ]
    },
    {
      "cell_type": "code",
      "metadata": {
        "colab": {
          "base_uri": "https://localhost:8080/"
        },
        "id": "rvmtassSJL1b",
        "outputId": "c1c1d7fd-0e3d-492f-a295-191172ca3602"
      },
      "source": [
        "history = model.fit(train_sequences, train_label, epochs=20,\n",
        "          batch_size=10, shuffle=True,\n",
        "          validation_data=[test_sequences, test_labels])"
      ],
      "execution_count": 19,
      "outputs": [
        {
          "output_type": "stream",
          "text": [
            "Epoch 1/20\n",
            "31/31 [==============================] - 14s 176ms/step - loss: 3.9486 - acc: 0.0366 - val_loss: 0.0000e+00 - val_acc: 0.0000e+00\n",
            "Epoch 2/20\n",
            "31/31 [==============================] - 4s 144ms/step - loss: 3.5958 - acc: 0.1098 - val_loss: 0.0000e+00 - val_acc: 0.0000e+00\n",
            "Epoch 3/20\n",
            "31/31 [==============================] - 4s 133ms/step - loss: 2.7700 - acc: 0.3002 - val_loss: 0.0000e+00 - val_acc: 0.0000e+00\n",
            "Epoch 4/20\n",
            "31/31 [==============================] - 4s 144ms/step - loss: 2.2322 - acc: 0.3725 - val_loss: 0.0000e+00 - val_acc: 0.0000e+00\n",
            "Epoch 5/20\n",
            "31/31 [==============================] - 4s 132ms/step - loss: 1.6214 - acc: 0.5882 - val_loss: 0.0000e+00 - val_acc: 0.0000e+00\n",
            "Epoch 6/20\n",
            "31/31 [==============================] - 4s 139ms/step - loss: 1.1773 - acc: 0.6811 - val_loss: 0.0000e+00 - val_acc: 0.0000e+00\n",
            "Epoch 7/20\n",
            "31/31 [==============================] - 4s 135ms/step - loss: 1.0326 - acc: 0.7236 - val_loss: 0.0000e+00 - val_acc: 0.0000e+00\n",
            "Epoch 8/20\n",
            "31/31 [==============================] - 4s 134ms/step - loss: 0.7514 - acc: 0.8059 - val_loss: 0.0000e+00 - val_acc: 0.0000e+00\n",
            "Epoch 9/20\n",
            "31/31 [==============================] - 4s 143ms/step - loss: 0.7115 - acc: 0.7846 - val_loss: 0.0000e+00 - val_acc: 0.0000e+00\n",
            "Epoch 10/20\n",
            "31/31 [==============================] - 4s 145ms/step - loss: 0.6891 - acc: 0.8163 - val_loss: 0.0000e+00 - val_acc: 0.0000e+00\n",
            "Epoch 11/20\n",
            "31/31 [==============================] - 4s 129ms/step - loss: 0.4282 - acc: 0.9017 - val_loss: 0.0000e+00 - val_acc: 0.0000e+00\n",
            "Epoch 12/20\n",
            "31/31 [==============================] - 4s 144ms/step - loss: 0.3991 - acc: 0.9004 - val_loss: 0.0000e+00 - val_acc: 0.0000e+00\n",
            "Epoch 13/20\n",
            "31/31 [==============================] - 4s 144ms/step - loss: 0.2470 - acc: 0.9427 - val_loss: 0.0000e+00 - val_acc: 0.0000e+00\n",
            "Epoch 14/20\n",
            "31/31 [==============================] - 4s 133ms/step - loss: 0.2817 - acc: 0.9230 - val_loss: 0.0000e+00 - val_acc: 0.0000e+00\n",
            "Epoch 15/20\n",
            "31/31 [==============================] - 4s 143ms/step - loss: 0.1464 - acc: 0.9747 - val_loss: 0.0000e+00 - val_acc: 0.0000e+00\n",
            "Epoch 16/20\n",
            "31/31 [==============================] - 4s 137ms/step - loss: 0.1698 - acc: 0.9608 - val_loss: 0.0000e+00 - val_acc: 0.0000e+00\n",
            "Epoch 17/20\n",
            "31/31 [==============================] - 4s 143ms/step - loss: 0.1919 - acc: 0.9394 - val_loss: 0.0000e+00 - val_acc: 0.0000e+00\n",
            "Epoch 18/20\n",
            "31/31 [==============================] - 4s 140ms/step - loss: 0.1557 - acc: 0.9748 - val_loss: 0.0000e+00 - val_acc: 0.0000e+00\n",
            "Epoch 19/20\n",
            "31/31 [==============================] - 4s 143ms/step - loss: 0.1126 - acc: 0.9837 - val_loss: 0.0000e+00 - val_acc: 0.0000e+00\n",
            "Epoch 20/20\n",
            "31/31 [==============================] - 4s 136ms/step - loss: 0.1203 - acc: 0.9901 - val_loss: 0.0000e+00 - val_acc: 0.0000e+00\n"
          ],
          "name": "stdout"
        }
      ]
    },
    {
      "cell_type": "code",
      "metadata": {
        "colab": {
          "base_uri": "https://localhost:8080/",
          "height": 295
        },
        "id": "4jpsSjEsJVMV",
        "outputId": "803744c9-20b2-4849-82d3-3f05796b753d"
      },
      "source": [
        "import matplotlib.pyplot as plt\n",
        "%matplotlib inline\n",
        "plt.plot(history.history['acc'])\n",
        "plt.plot(history.history['val_acc'])\n",
        "plt.title('Model Accuracy')\n",
        "plt.ylabel('Accuracy')\n",
        "plt.xlabel('Epoch')\n",
        "plt.legend(['Train', 'Validation'], loc='upper left')\n",
        "plt.show()"
      ],
      "execution_count": 20,
      "outputs": [
        {
          "output_type": "display_data",
          "data": {
            "image/png": "[encoded data removed]",
            "text/plain": [
              "<Figure size 432x288 with 1 Axes>"
            ]
          },
          "metadata": {
            "tags": [],
            "needs_background": "light"
          }
        }
      ]
    },
    {
      "cell_type": "code",
      "metadata": {
        "colab": {
          "base_uri": "https://localhost:8080/",
          "height": 295
        },
        "id": "fWHiXoIKJZl5",
        "outputId": "a42f8d40-8a94-481e-85d5-eee6b27996e7"
      },
      "source": [
        "plt.plot(history.history['loss'])\n",
        "plt.plot(history.history['val_loss'])\n",
        "plt.title('Model Loss')\n",
        "plt.ylabel('Loss')\n",
        "plt.xlabel('Epoch')\n",
        "plt.legend(['Train', 'Validation'], loc='upper left')\n",
        "plt.show()"
      ],
      "execution_count": 21,
      "outputs": [
        {
          "output_type": "display_data",
          "data": {
            "image/png": "[encoded data removed]",
            "text/plain": [
              "<Figure size 432x288 with 1 Axes>"
            ]
          },
          "metadata": {
            "tags": [],
            "needs_background": "light"
          }
        }
      ]
    },
    {
      "cell_type": "code",
      "metadata": {
        "id": "1QTNVqDVJedv"
      },
      "source": [
        "model.save(drive_path + 'int_cl/intents.h5')\n",
        "\n",
        "with open(drive_path + 'int_cl/classes.pkl', 'wb') as file:\n",
        "   pickle.dump(classes, file)\n",
        "\n",
        "with open(drive_path + 'int_cl/tokenizer.pkl', 'wb') as file:\n",
        "   pickle.dump(tokenizer, file)\n",
        "\n",
        "with open(drive_path + 'int_cl/label_encoder.pkl', 'wb') as file:\n",
        "   pickle.dump(label_encoder, file)"
      ],
      "execution_count": 22,
      "outputs": []
    },
    {
      "cell_type": "code",
      "metadata": {
        "id": "XKPYT7EvJgOS"
      },
      "source": [
        "class IntentClassifier:\n",
        "    def __init__(self, classes, model, tokenizer, label_encoder):\n",
        "        self.classes = classes\n",
        "        self.classifier = model\n",
        "        self.tokenizer = tokenizer\n",
        "        self.label_encoder = label_encoder\n",
        "\n",
        "    def get_intent(self, text):\n",
        "        self.text = [text]\n",
        "        self.test_keras = self.tokenizer.texts_to_sequences(self.text)\n",
        "        self.test_keras_sequence = pad_sequences(self.test_keras, maxlen=7, padding='post')\n",
        "        self.pred = self.classifier.predict(self.test_keras_sequence)\n",
        "        print(self.pred[0])\n",
        "        result_index = np.argmax(self.pred,1)\n",
        "        print(self.pred[0][result_index])\n",
        "        return label_encoder.inverse_transform(np.argmax(self.pred,1))[0]\n",
        "\n",
        "    def get_intent_witout_print(self, text):\n",
        "        self.text = [text]\n",
        "        self.test_keras = self.tokenizer.texts_to_sequences(self.text)\n",
        "        self.test_keras_sequence = pad_sequences(self.test_keras, maxlen=7, padding='post')\n",
        "        self.pred = self.classifier.predict(self.test_keras_sequence)\n",
        "        result_index = np.argmax(self.pred,1)\n",
        "        return (label_encoder.inverse_transform(np.argmax(self.pred,1))[0], self.pred[0][result_index])"
      ],
      "execution_count": 23,
      "outputs": []
    },
    {
      "cell_type": "code",
      "metadata": {
        "id": "n04bxBPrJiGJ",
        "colab": {
          "base_uri": "https://localhost:8080/"
        },
        "outputId": "00987300-f0d3-4721-b7db-00b7dde452fd"
      },
      "source": [
        "import pickle\n",
        "\n",
        "from keras.models import load_model\n",
        "\n",
        "model = load_model(drive_path + 'int_cl/intents.h5')\n",
        "\n",
        "with open(drive_path + 'int_cl/classes.pkl', 'rb') as file:\n",
        "  classes = pickle.load(file)\n",
        "\n",
        "with open(drive_path + 'int_cl/tokenizer.pkl', 'rb') as file:\n",
        "  tokenizer = pickle.load(file)\n",
        "\n",
        "with open(drive_path + 'int_cl/label_encoder.pkl', 'rb') as file:\n",
        "  label_encoder = pickle.load(file)"
      ],
      "execution_count": 24,
      "outputs": [
        {
          "output_type": "stream",
          "text": [
            "WARNING:tensorflow:Layer lstm_2 will not use cuDNN kernel since it doesn't meet the cuDNN kernel criteria. It will use generic GPU kernel as fallback when running on GPU\n",
            "WARNING:tensorflow:Layer lstm_2 will not use cuDNN kernel since it doesn't meet the cuDNN kernel criteria. It will use generic GPU kernel as fallback when running on GPU\n",
            "WARNING:tensorflow:Layer lstm_2 will not use cuDNN kernel since it doesn't meet the cuDNN kernel criteria. It will use generic GPU kernel as fallback when running on GPU\n",
            "WARNING:tensorflow:Layer lstm_3 will not use cuDNN kernel since it doesn't meet the cuDNN kernel criteria. It will use generic GPU kernel as fallback when running on GPU\n"
          ],
          "name": "stdout"
        }
      ]
    },
    {
      "cell_type": "code",
      "metadata": {
        "id": "IU5h31VSJjym"
      },
      "source": [
        "nlu = IntentClassifier(classes, model, tokenizer, label_encoder)"
      ],
      "execution_count": 25,
      "outputs": []
    },
    {
      "cell_type": "code",
      "metadata": {
        "colab": {
          "base_uri": "https://localhost:8080/"
        },
        "id": "zC9iWkeRJn8u",
        "outputId": "b82ccdca-4b19-4743-c803-ed771438a705"
      },
      "source": [
        "q = ''\n",
        "while True:\n",
        "  q = str(input())\n",
        "  if q == 'q' or q == 'й':\n",
        "    break;\n",
        "  predicted_intent = nlu.get_intent(q)\n",
        "  print('intent name >> ' + predicted_intent)\n",
        "  response_add_info = get_answer(predicted_intent)\n",
        "  print(response_add_info[0] + ' ' + response_add_info[1])"
      ],
      "execution_count": null,
      "outputs": [
        {
          "output_type": "stream",
          "text": [
            "й\n"
          ],
          "name": "stdout"
        }
      ]
    },
    {
      "cell_type": "code",
      "metadata": {
        "colab": {
          "base_uri": "https://localhost:8080/",
          "height": 290
        },
        "id": "npuUnvOlJlV-",
        "outputId": "0c3d2195-51e8-409b-862e-d0a1d271676b"
      },
      "source": [
        "nlu.get_intent(\"Как тебя зовут\")"
      ],
      "execution_count": 31,
      "outputs": [
        {
          "output_type": "stream",
          "text": [
            "[2.03570642e-04 1.21239254e-05 7.68313371e-03 5.02472903e-05\n",
            " 8.39060522e-05 3.23851651e-04 9.38724213e-07 5.74148633e-03\n",
            " 3.28108445e-06 1.66828759e-04 1.59040087e-06 1.23599475e-05\n",
            " 6.67119697e-02 7.50090415e-03 2.20525526e-05 2.63591392e-05\n",
            " 4.61567993e-07 8.21754838e-07 1.10695955e-05 5.55888482e-06\n",
            " 4.22596349e-04 6.95810944e-04 2.64690316e-04 7.96540462e-07\n",
            " 3.89267689e-06 3.51945218e-03 1.01552042e-03 1.24147744e-03\n",
            " 7.44135978e-05 5.52978320e-03 1.50585556e-05 2.54923850e-03\n",
            " 1.49733562e-04 7.66885080e-07 1.12705294e-07 2.69251950e-06\n",
            " 8.92596364e-01 5.55916864e-04 1.05785176e-07 1.59708943e-05\n",
            " 1.23141042e-04 7.44044373e-05 1.49770758e-05 2.20018416e-03\n",
            " 1.09793189e-06 3.41783050e-07 5.89840056e-07 2.54153238e-05\n",
            " 9.21121682e-05 1.36210103e-04 1.08282817e-04 4.40850863e-06\n",
            " 1.94412837e-06]\n",
            "[0.89259636]\n"
          ],
          "name": "stdout"
        },
        {
          "output_type": "execute_result",
          "data": {
            "application/vnd.google.colaboratory.intrinsic+json": {
              "type": "string"
            },
            "text/plain": [
              "'name'"
            ]
          },
          "metadata": {
            "tags": []
          },
          "execution_count": 31
        }
      ]
    },
    {
      "cell_type": "code",
      "metadata": {
        "id": "IA2vTQbRRfyN"
      },
      "source": [
        "import random\r\n",
        "def testModel():\r\n",
        "  questions = df['text'].values\r\n",
        "  intents = df['label'].values\r\n",
        "  test_data = []\r\n",
        "  for idx, val in enumerate(questions):\r\n",
        "    test_data.append((val, labels[idx]))\r\n",
        "  test_data = random.sample(test_data, len(test_data))\r\n",
        "  with open(\"testResult.txt\", \"w\") as file:\r\n",
        "    file.write('TEXT \\t INTENT \\t\\t PREDICTED INTENT \\t RESPONSE \\t SCORE')\r\n",
        "    for data in test_data:\r\n",
        "      result = nlu.get_intent_witout_print(data[0])\r\n",
        "      response_add_info = get_answer(result[0])\r\n",
        "      file.write(str(data[0]) + '\\t' + data[1] + '\\t\\t' + str(result[0]) + '\\t' + str(response_add_info[0]) + ' ' + str(response_add_info[1]) + '\\t' + str(result[1]) + '\\n')\r\n",
        "\r\n",
        "testModel()"
      ],
      "execution_count": 27,
      "outputs": []
    },
    {
      "cell_type": "markdown",
      "metadata": {
        "id": "h3TGZEK9Xx2r"
      },
      "source": [
        "# Work-=-"
      ]
    },
    {
      "cell_type": "code",
      "metadata": {
        "colab": {
          "base_uri": "https://localhost:8080/"
        },
        "id": "6iH-qsvtYS_g",
        "outputId": "fa1a6ddd-f322-4a0b-9657-d78bba6e547e"
      },
      "source": [
        "group = 'ЗБ326'\n",
        "facult = 'СФ'\n",
        "\n",
        "with open(\"user4.csv\", \"r\") as f:\n",
        "  for i, line in enumerate(f):\n",
        "    lastname, firstname, login = line.split(',')\n",
        "    fin_str = login.rstrip() + '@esstu.onmicrosoft.com,' + firstname + ',' + lastname + ',' + firstname + ' ' + lastname + ' ' + group + ',Студент,' + facult + ',,,,,,,улан-удэ,,670000,Россия'\n",
        "    print(fin_str)"
      ],
      "execution_count": null,
      "outputs": [
        {
          "output_type": "stream",
          "text": [
            "s68132@esstu.onmicrosoft.com,Ая,Бороноева,Ая Бороноева ЗБ326,Студент,СФ,,,,,,,улан-удэ,,670000,Россия\n",
            "s68133@esstu.onmicrosoft.com,Жаргалма,Дамбаева,Жаргалма Дамбаева ЗБ326,Студент,СФ,,,,,,,улан-удэ,,670000,Россия\n",
            "s68135@esstu.onmicrosoft.com,Александр,Молчанов,Александр Молчанов ЗБ326,Студент,СФ,,,,,,,улан-удэ,,670000,Россия\n",
            "s68140@esstu.onmicrosoft.com,Денис,Бритов,Денис Бритов ЗБ326,Студент,СФ,,,,,,,улан-удэ,,670000,Россия\n",
            "s68126@esstu.onmicrosoft.com,Данила,Голиков,Данила Голиков ЗБ326,Студент,СФ,,,,,,,улан-удэ,,670000,Россия\n",
            "s68134@esstu.onmicrosoft.com,Антон,Губанов,Антон Губанов ЗБ326,Студент,СФ,,,,,,,улан-удэ,,670000,Россия\n",
            "s68124@esstu.onmicrosoft.com,Павел,Калашников,Павел Калашников ЗБ326,Студент,СФ,,,,,,,улан-удэ,,670000,Россия\n",
            "s68122@esstu.onmicrosoft.com,Константин,Корольков,Константин Корольков ЗБ326,Студент,СФ,,,,,,,улан-удэ,,670000,Россия\n",
            "s68137@esstu.onmicrosoft.com,Павел,Мартыненков,Павел Мартыненков ЗБ326,Студент,СФ,,,,,,,улан-удэ,,670000,Россия\n",
            "s68129@esstu.onmicrosoft.com,Ринчин,Нимаев,Ринчин Нимаев ЗБ326,Студент,СФ,,,,,,,улан-удэ,,670000,Россия\n",
            "s68123@esstu.onmicrosoft.com,Екатерина,Протасова,Екатерина Протасова ЗБ326,Студент,СФ,,,,,,,улан-удэ,,670000,Россия\n",
            "s68121@esstu.onmicrosoft.com,Максим,Рысев,Максим Рысев ЗБ326,Студент,СФ,,,,,,,улан-удэ,,670000,Россия\n",
            "s65074@esstu.onmicrosoft.com,Алексей,Таров,Алексей Таров ЗБ326,Студент,СФ,,,,,,,улан-удэ,,670000,Россия\n",
            "s68127@esstu.onmicrosoft.com,Туяна,Цыбикжапова,Туяна Цыбикжапова ЗБ326,Студент,СФ,,,,,,,улан-удэ,,670000,Россия\n",
            "s65131@esstu.onmicrosoft.com,Леонид,Алтаев,Леонид Алтаев ЗБ326,Студент,СФ,,,,,,,улан-удэ,,670000,Россия\n",
            "s68139@esstu.onmicrosoft.com,Константин,Матвеев,Константин Матвеев ЗБ326,Студент,СФ,,,,,,,улан-удэ,,670000,Россия\n",
            "s68128@esstu.onmicrosoft.com,Николай,Третьяков,Николай Третьяков ЗБ326,Студент,СФ,,,,,,,улан-удэ,,670000,Россия\n",
            "s68125@esstu.onmicrosoft.com,Иван,Халзагаров,Иван Халзагаров ЗБ326,Студент,СФ,,,,,,,улан-удэ,,670000,Россия\n",
            "s68138@esstu.onmicrosoft.com,Александр,Загузин,Александр Загузин ЗБ326,Студент,СФ,,,,,,,улан-удэ,,670000,Россия\n"
          ],
          "name": "stdout"
        }
      ]
    }
  ]
}