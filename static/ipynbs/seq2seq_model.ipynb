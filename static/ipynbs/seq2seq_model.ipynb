{
  "nbformat": 4,
  "nbformat_minor": 0,
  "metadata": {
    "colab": {
      "name": "seq2seq_model.ipynb",
      "provenance": [],
      "collapsed_sections": []
    },
    "kernelspec": {
      "name": "python3",
      "display_name": "Python 3"
    },
    "accelerator": "TPU"
  },
  "cells": [
    {
      "cell_type": "markdown",
      "metadata": {
        "id": "MgTRMdfDy__s"
      },
      "source": [
        "# Init"
      ]
    },
    {
      "cell_type": "code",
      "metadata": {
        "id": "J8Rh-5-ZA6-d",
        "colab": {
          "base_uri": "https://localhost:8080/"
        },
        "outputId": "f8e4a4dd-a271-4a81-9b88-6957a0b18baf"
      },
      "source": [
        "import glob\n",
        "from google.colab import drive\n",
        "drive.mount('/content/drive')\n",
        "!pip install navec"
      ],
      "execution_count": 1,
      "outputs": [
        {
          "output_type": "stream",
          "text": [
            "Drive already mounted at /content/drive; to attempt to forcibly remount, call drive.mount(\"/content/drive\", force_remount=True).\n",
            "Requirement already satisfied: navec in /usr/local/lib/python3.6/dist-packages (0.10.0)\n",
            "Requirement already satisfied: numpy in /usr/local/lib/python3.6/dist-packages (from navec) (1.19.5)\n"
          ],
          "name": "stdout"
        }
      ]
    },
    {
      "cell_type": "code",
      "metadata": {
        "id": "fzCqd7nMh8Sf"
      },
      "source": [
        "import numpy as np\n",
        "import pandas as pd\n",
        "import string\n",
        "import pickle\n",
        "import operator\n",
        "import matplotlib.pyplot as plt\n",
        "%matplotlib inline\n",
        "import re\n",
        "from navec import Navec\n",
        "import tensorflow as tf\n",
        "from IPython.display import SVG\n",
        "from keras.utils import model_to_dot\n",
        "import matplotlib.pyplot as plt \n",
        "import matplotlib.image as img\n",
        "\n",
        "MAX_LEN = 12\n",
        "EMBEDDING_DIMENTION = 300\n",
        "HIDDEN_DIM = 200"
      ],
      "execution_count": 2,
      "outputs": []
    },
    {
      "cell_type": "code",
      "metadata": {
        "colab": {
          "base_uri": "https://localhost:8080/"
        },
        "id": "kzDtt0359uTp",
        "outputId": "d3d0ecac-0ba5-420a-940a-91dccd399573"
      },
      "source": [
        "print(\"Version: \", tf.__version__)\r\n",
        "print(\"Eager mode: \", tf.executing_eagerly())\r\n",
        "print(\"GPU is\", \"available\" if tf.config.experimental.list_physical_devices(\"GPU\") else \"NOT AVAILABLE\")\r\n",
        "try:\r\n",
        "  tpu = tf.distribute.cluster_resolver.TPUClusterResolver()  # TPU detection\r\n",
        "  print('Running on TPU ', tpu.cluster_spec().as_dict()['worker'])\r\n",
        "except ValueError:\r\n",
        "  raise BaseException('ERROR: Not connected to a TPU runtime; please see the previous cell in this notebook for instructions!')\r\n",
        "\r\n",
        "tf.config.experimental_connect_to_cluster(tpu)\r\n",
        "tf.tpu.experimental.initialize_tpu_system(tpu)"
      ],
      "execution_count": 3,
      "outputs": [
        {
          "output_type": "stream",
          "text": [
            "Version:  2.4.1\n",
            "Eager mode:  True\n",
            "GPU is NOT AVAILABLE\n",
            "Running on TPU  ['10.97.54.210:8470']\n",
            "INFO:tensorflow:Initializing the TPU system: grpc://10.97.54.210:8470\n"
          ],
          "name": "stdout"
        },
        {
          "output_type": "stream",
          "text": [
            "INFO:tensorflow:Initializing the TPU system: grpc://10.97.54.210:8470\n"
          ],
          "name": "stderr"
        },
        {
          "output_type": "stream",
          "text": [
            "INFO:tensorflow:Clearing out eager caches\n"
          ],
          "name": "stdout"
        },
        {
          "output_type": "stream",
          "text": [
            "INFO:tensorflow:Clearing out eager caches\n"
          ],
          "name": "stderr"
        },
        {
          "output_type": "stream",
          "text": [
            "INFO:tensorflow:Finished initializing TPU system.\n"
          ],
          "name": "stdout"
        },
        {
          "output_type": "stream",
          "text": [
            "INFO:tensorflow:Finished initializing TPU system.\n"
          ],
          "name": "stderr"
        },
        {
          "output_type": "execute_result",
          "data": {
            "text/plain": [
              "<tensorflow.python.tpu.topology.Topology at 0x7fbf8ee27cf8>"
            ]
          },
          "metadata": {
            "tags": []
          },
          "execution_count": 3
        }
      ]
    },
    {
      "cell_type": "markdown",
      "metadata": {
        "id": "ydcs7-giHXmb"
      },
      "source": [
        "# Preprocessing text data"
      ]
    },
    {
      "cell_type": "code",
      "metadata": {
        "id": "1-KdUZsosFAy"
      },
      "source": [
        "import re\r\n",
        "import pandas as pd\r\n",
        "from keras.preprocessing.text import Tokenizer\r\n",
        "from keras.preprocessing.sequence import pad_sequences\r\n",
        "from keras.utils import to_categorical\r\n",
        "from keras.layers import Embedding\r\n",
        "from keras.layers import Input, Dense, LSTM, TimeDistributed\r\n",
        "from keras.models import Model\r\n",
        "from keras.utils import plot_model\r\n",
        "from keras.optimizers import RMSprop\r\n",
        "\r\n",
        "max_question_len = 500\r\n",
        "max_answer_len = 500\r\n",
        "\r\n",
        "path = '/content/drive/My Drive/diplom_data/'\r\n",
        "file1 = open(path + 'dialogues.txt', 'r') \r\n",
        "# file1 = open(path + 'conversations_ru.txt', 'r') \r\n",
        "lines = file1.readlines()\r\n",
        "questions = []\r\n",
        "answers = []\r\n",
        "for line in lines:\r\n",
        "  # print(line)\r\n",
        "  question, answer = line.split('%%')\r\n",
        "  questions.append(question.strip())\r\n",
        "  answers.append(answer.strip())"
      ],
      "execution_count": 4,
      "outputs": []
    },
    {
      "cell_type": "code",
      "metadata": {
        "id": "XlIcwP85s_Q8"
      },
      "source": [
        "def clean_text(text):\r\n",
        "    text = text.lower()\r\n",
        "    text = re.sub(r\"[-()\\\"#/@;:<>{}`+=~|.!?,]\", \"\", text)\r\n",
        "    return text"
      ],
      "execution_count": 5,
      "outputs": []
    },
    {
      "cell_type": "code",
      "metadata": {
        "id": "wZf90PZGtBKn"
      },
      "source": [
        "tidy_question = []\r\n",
        "for conve in questions:\r\n",
        "    text = clean_text(conve)\r\n",
        "    tidy_question.append(text)\r\n",
        "    \r\n",
        "tidy_aswer = []\r\n",
        "for conve in answers:\r\n",
        "    text = clean_text(conve)\r\n",
        "    tidy_aswer.append(text)"
      ],
      "execution_count": 6,
      "outputs": []
    },
    {
      "cell_type": "code",
      "metadata": {
        "id": "hgcdANZztGrx"
      },
      "source": [
        "start = \"<START> \"\r\n",
        "end = \" <END>\"\r\n",
        "final_target = [start + conve + end for conve in tidy_aswer] \r\n",
        "questions = tidy_question\r\n",
        "answers = final_target"
      ],
      "execution_count": 7,
      "outputs": []
    },
    {
      "cell_type": "markdown",
      "metadata": {
        "id": "ovgmZEB9Hfat"
      },
      "source": [
        "# Make vocabulary"
      ]
    },
    {
      "cell_type": "code",
      "metadata": {
        "colab": {
          "base_uri": "https://localhost:8080/"
        },
        "id": "R0wuvlPPtSbh",
        "outputId": "b0d9c678-8392-4184-cfd8-1185b9d55a7d"
      },
      "source": [
        "tokenizer = Tokenizer(num_words=None, oov_token='unknown')\r\n",
        "tokenizer.fit_on_texts(questions + answers) \r\n",
        "vocabulary = list(tokenizer.word_index.items()) # список с cодержимым словаря\r\n",
        "vocabulary_size = len(vocabulary) + 1 # размер словаря\r\n",
        "print( 'Фрагмент словаря : {}'.format(vocabulary[:100]))\r\n",
        "print( 'Размер словаря : {}'.format(vocabulary_size))"
      ],
      "execution_count": 8,
      "outputs": [
        {
          "output_type": "stream",
          "text": [
            "Фрагмент словаря : [('unknown', 1), ('start', 2), ('end', 3), ('не', 4), ('я', 5), ('ты', 6), ('и', 7), ('что', 8), ('а', 9), ('вы', 10), ('в', 11), ('нет', 12), ('это', 13), ('как', 14), ('на', 15), ('с', 16), ('мне', 17), ('у', 18), ('меня', 19), ('так', 20), ('же', 21), ('но', 22), ('да', 23), ('тебя', 24), ('все', 25), ('тебе', 26), ('ну', 27), ('мы', 28), ('вас', 29), ('он', 30), ('может', 31), ('знаю', 32), ('почему', 33), ('о', 34), ('бы', 35), ('еще', 36), ('вам', 37), ('за', 38), ('только', 39), ('чем', 40), ('ничего', 41), ('есть', 42), ('к', 43), ('или', 44), ('просто', 45), ('очень', 46), ('если', 47), ('хорошо', 48), ('будет', 49), ('конечно', 50), ('ведь', 51), ('уже', 52), ('быть', 53), ('тоже', 54), ('теперь', 55), ('лучше', 56), ('хочешь', 57), ('для', 58), ('кто', 59), ('надо', 60), ('вот', 61), ('от', 62), ('его', 63), ('тогда', 64), ('чтобы', 65), ('хочу', 66), ('сейчас', 67), ('было', 68), ('разве', 69), ('то', 70), ('нужно', 71), ('раз', 72), ('она', 73), ('по', 74), ('ли', 75), ('могу', 76), ('зачем', 77), ('здесь', 78), ('спасибо', 79), ('мой', 80), ('можно', 81), ('—', 82), ('где', 83), ('этом', 84), ('любишь', 85), ('значит', 86), ('когда', 87), ('был', 88), ('знаешь', 89), ('пока', 90), ('чего', 91), ('ее', 92), ('нас', 93), ('всетаки', 94), ('потом', 95), ('думаешь', 96), ('правда', 97), ('буду', 98), ('их', 99), ('сама', 100)]\n",
            "Размер словаря : 5180\n"
          ],
          "name": "stdout"
        }
      ]
    },
    {
      "cell_type": "code",
      "metadata": {
        "id": "Fld-09_atuO3"
      },
      "source": [
        "def prepareDataForNN(phrases, isQuestion = True):\r\n",
        "  tokenized_phrases = tokenizer.texts_to_sequences(phrases) \r\n",
        "  max_len_phrases = max([ len(x) for x in tokenized_phrases]) \r\n",
        "  padded_phrases = pad_sequences(tokenized_phrases, maxlen=max_len_phrases, padding='post')\r\n",
        "  encoded = np.array(padded_phrases)\r\n",
        "  phrase_type = \"вопрос\"\r\n",
        "  if not isQuestion:\r\n",
        "    phrase_type = \"ответ\"    \r\n",
        "  print('Пример оригинального ' + phrase_type + 'а на вход : {}'.format(phrases[100])) \r\n",
        "  print('Пример кодированного ' + phrase_type + 'а на вход : {}'.format(encoded[100])) \r\n",
        "  print('Размеры закодированного массива ' + phrase_type + 'ов на вход : {}'.format(encoded.shape)) \r\n",
        "  print('Установленная длина ' + phrase_type + 'ов на вход : {}'.format(max_len_phrases)) \r\n",
        "  return encoded, max_len_phrases"
      ],
      "execution_count": 9,
      "outputs": []
    },
    {
      "cell_type": "code",
      "metadata": {
        "colab": {
          "base_uri": "https://localhost:8080/"
        },
        "id": "LMmHT3MVtzdh",
        "outputId": "bfcd7f75-005f-46f0-c3dc-d9007be1844e"
      },
      "source": [
        "encoder_for_input, max_len_questions = prepareDataForNN(questions, True)\n",
        "print(\"======\")\n",
        "decoder_for_input, max_len_answers = prepareDataForNN(answers, False)"
      ],
      "execution_count": 10,
      "outputs": [
        {
          "output_type": "stream",
          "text": [
            "Пример оригинального вопроса на вход : какие языки ты знаешь\n",
            "Пример кодированного вопроса на вход : [210 632   6  89   0   0   0   0   0   0   0   0   0   0   0   0   0   0\n",
            "   0   0]\n",
            "Размеры закодированного массива вопросов на вход : (2376, 20)\n",
            "Установленная длина вопросов на вход : 20\n",
            "======\n",
            "Пример оригинального ответа на вход : <START> я знаю много языков шучу я могу говорить только на русском <END>\n",
            "Пример кодированного ответа на вход : [   2    5   32  146 1749  797    5   76  151   39   15 1081    3    0\n",
            "    0    0    0    0    0    0    0    0]\n",
            "Размеры закодированного массива ответов на вход : (2376, 22)\n",
            "Установленная длина ответов на вход : 22\n"
          ],
          "name": "stdout"
        }
      ]
    },
    {
      "cell_type": "markdown",
      "metadata": {
        "id": "zNU0JEm1Hn4d"
      },
      "source": [
        "# One-hot vectorizer"
      ]
    },
    {
      "cell_type": "code",
      "metadata": {
        "colab": {
          "base_uri": "https://localhost:8080/"
        },
        "id": "Oj9UGG_fuIKy",
        "outputId": "331bf2e3-9777-4c7d-f85b-ad922657203b"
      },
      "source": [
        "print(\"Answers:\", len(answers))\r\n",
        "tokenized_answers = tokenizer.texts_to_sequences(answers)\r\n",
        "print(\"tokenizedAnswers:\", len(tokenized_answers))\r\n",
        "for i in range(len(tokenized_answers)): \r\n",
        "  tokenized_answers[i] = tokenized_answers[i][1:] # очистка от тега <START>\r\n",
        "\r\n",
        "padded_answers = pad_sequences(tokenized_answers, maxlen=max_len_answers , padding='post')\r\n",
        "print(\"paddedAnswers:\", len(padded_answers))\r\n",
        "print(\"vocabularySize:\", vocabulary_size)\r\n",
        "one_hot_answers = to_categorical(padded_answers, vocabulary_size) # в one hot vector\r\n",
        "decoder_for_output = np.array(one_hot_answers)"
      ],
      "execution_count": 13,
      "outputs": [
        {
          "output_type": "stream",
          "text": [
            "Answers: 2376\n",
            "tokenizedAnswers: 2376\n",
            "paddedAnswers: 2376\n",
            "vocabularySize: 5180\n"
          ],
          "name": "stdout"
        }
      ]
    },
    {
      "cell_type": "markdown",
      "metadata": {
        "id": "P1ckh_FyHvks"
      },
      "source": [
        "# Word2Vec"
      ]
    },
    {
      "cell_type": "code",
      "metadata": {
        "id": "1mrqDtVS67O9",
        "colab": {
          "base_uri": "https://localhost:8080/"
        },
        "outputId": "43629859-4475-41cf-dc81-385073a2c66b"
      },
      "source": [
        "!wget https://storage.yandexcloud.net/natasha-navec/packs/navec_hudlit_v1_12B_500K_300d_100q.tar"
      ],
      "execution_count": 14,
      "outputs": [
        {
          "output_type": "stream",
          "text": [
            "--2021-02-02 15:22:07--  https://storage.yandexcloud.net/natasha-navec/packs/navec_hudlit_v1_12B_500K_300d_100q.tar\n",
            "Resolving storage.yandexcloud.net (storage.yandexcloud.net)... 213.180.193.243, 2a02:6b8::1d9\n",
            "Connecting to storage.yandexcloud.net (storage.yandexcloud.net)|213.180.193.243|:443... connected.\n",
            "HTTP request sent, awaiting response... 200 OK\n",
            "Length: 53012480 (51M) [application/x-tar]\n",
            "Saving to: ‘navec_hudlit_v1_12B_500K_300d_100q.tar.1’\n",
            "\n",
            "navec_hudlit_v1_12B 100%[===================>]  50.56M  16.3MB/s    in 3.6s    \n",
            "\n",
            "2021-02-02 15:22:12 (14.1 MB/s) - ‘navec_hudlit_v1_12B_500K_300d_100q.tar.1’ saved [53012480/53012480]\n",
            "\n"
          ],
          "name": "stdout"
        }
      ]
    },
    {
      "cell_type": "code",
      "metadata": {
        "id": "uZgNZdNXH2aD"
      },
      "source": [
        "navec_path = 'navec_hudlit_v1_12B_500K_300d_100q.tar'\n",
        "navec = Navec.load(navec_path)"
      ],
      "execution_count": 15,
      "outputs": []
    },
    {
      "cell_type": "code",
      "metadata": {
        "id": "l6ESwYGhBOL9"
      },
      "source": [
        "def embedding_matrix_creater(embedding_dimention):\n",
        "    embedding_matrix = np.zeros((len(vocabulary) + 1, embedding_dimention))\n",
        "    for idx, word in enumerate(vocabulary):\n",
        "      embedding_vector = navec.get(word[0])\n",
        "      if embedding_vector is not None:\n",
        "          # words not found in embedding index will be all-zeros.\n",
        "            embedding_matrix[idx] = embedding_vector\n",
        "    return embedding_matrix"
      ],
      "execution_count": 16,
      "outputs": []
    },
    {
      "cell_type": "code",
      "metadata": {
        "id": "yTOG0xwnBQ1Y"
      },
      "source": [
        "embedding_matrix = embedding_matrix_creater(EMBEDDING_DIMENTION)"
      ],
      "execution_count": 17,
      "outputs": []
    },
    {
      "cell_type": "code",
      "metadata": {
        "id": "4U0230tABtmP"
      },
      "source": [
        "embed_layer = Embedding(input_dim=vocabulary_size, output_dim=EMBEDDING_DIMENTION, trainable=True,)\n",
        "embed_layer.build((None,))\n",
        "embed_layer.set_weights([embedding_matrix])"
      ],
      "execution_count": 18,
      "outputs": []
    },
    {
      "cell_type": "markdown",
      "metadata": {
        "id": "fYgAhth3Hsba"
      },
      "source": [
        "# Seq2Seq Model"
      ]
    },
    {
      "cell_type": "code",
      "metadata": {
        "id": "MbM2NxShug12"
      },
      "source": [
        "encoder_inputs = Input(shape=(None , ), name = \"EncoderForInput\")  \r\n",
        "encoder_embedding = Embedding(vocabulary_size, EMBEDDING_DIMENTION , mask_zero=True, name = \"Encoder_Embedding\") (encoder_inputs)\r\n",
        "# encoder_embedding = embed_layer(encoder_inputs)\r\n",
        "encoder_outputs, state_h , state_c = LSTM(HIDDEN_DIM, return_state=True, name = \"Encoder_LSTM\")(encoder_embedding)\r\n",
        "encoder_states = [state_h, state_c]\r\n",
        "\r\n",
        "decoder_inputs = Input(shape=(None, ), name = \"DecoderForInput\") # размеры на входе сетки (здесь будет decoderForInput)\r\n",
        "decoder_embedding = Embedding(vocabulary_size, EMBEDDING_DIMENTION, mask_zero=True, name = \"Decoder_Embedding\") (decoder_inputs) \r\n",
        "# decoder_embedding =  embed_layer(decoder_inputs)\r\n",
        "decoder_LSTM = LSTM(HIDDEN_DIM, return_state=True, return_sequences=True, name = \"Decoder_LSTM\")\r\n",
        "decoder_outputs , _ , _ = decoder_LSTM (decoder_embedding, initial_state=encoder_states)\r\n",
        "decoder_dense = Dense(vocabulary_size, activation='softmax') \r\n",
        "output = decoder_dense(decoder_outputs)"
      ],
      "execution_count": 19,
      "outputs": []
    },
    {
      "cell_type": "code",
      "metadata": {
        "colab": {
          "base_uri": "https://localhost:8080/",
          "height": 874
        },
        "id": "bgI4LgUfu0La",
        "outputId": "415c2542-bacb-4e35-a354-e70b97add9d0"
      },
      "source": [
        "model = Model([encoder_inputs, decoder_inputs], output)\r\n",
        "model.compile(optimizer=RMSprop(), loss='categorical_crossentropy', metrics = ['accuracy'], sample_weight_mode='temporal')\r\n",
        "model.summary()\r\n",
        "plot_model(model, to_file='model.png')"
      ],
      "execution_count": 20,
      "outputs": [
        {
          "output_type": "stream",
          "text": [
            "Model: \"model\"\n",
            "__________________________________________________________________________________________________\n",
            "Layer (type)                    Output Shape         Param #     Connected to                     \n",
            "==================================================================================================\n",
            "EncoderForInput (InputLayer)    [(None, None)]       0                                            \n",
            "__________________________________________________________________________________________________\n",
            "DecoderForInput (InputLayer)    [(None, None)]       0                                            \n",
            "__________________________________________________________________________________________________\n",
            "Encoder_Embedding (Embedding)   (None, None, 300)    1554000     EncoderForInput[0][0]            \n",
            "__________________________________________________________________________________________________\n",
            "Decoder_Embedding (Embedding)   (None, None, 300)    1554000     DecoderForInput[0][0]            \n",
            "__________________________________________________________________________________________________\n",
            "Encoder_LSTM (LSTM)             [(None, 200), (None, 400800      Encoder_Embedding[0][0]          \n",
            "__________________________________________________________________________________________________\n",
            "Decoder_LSTM (LSTM)             [(None, None, 200),  400800      Decoder_Embedding[0][0]          \n",
            "                                                                 Encoder_LSTM[0][1]               \n",
            "                                                                 Encoder_LSTM[0][2]               \n",
            "__________________________________________________________________________________________________\n",
            "dense (Dense)                   (None, None, 5180)   1041180     Decoder_LSTM[0][0]               \n",
            "==================================================================================================\n",
            "Total params: 4,950,780\n",
            "Trainable params: 4,950,780\n",
            "Non-trainable params: 0\n",
            "__________________________________________________________________________________________________\n"
          ],
          "name": "stdout"
        },
        {
          "output_type": "execute_result",
          "data": {
            "image/png": "[encoded data removed]",
            "text/plain": [
              "<IPython.core.display.Image object>"
            ]
          },
          "metadata": {
            "tags": []
          },
          "execution_count": 20
        }
      ]
    },
    {
      "cell_type": "markdown",
      "metadata": {
        "id": "a4YWkcsnH6AL"
      },
      "source": [
        "# Training model"
      ]
    },
    {
      "cell_type": "code",
      "metadata": {
        "id": "mU7qf_zSve6k",
        "colab": {
          "base_uri": "https://localhost:8080/"
        },
        "outputId": "c5eb76e3-1c11-4341-8cd3-911ec888de89"
      },
      "source": [
        "# model.fit([encoderForInput , decoderForInput], decoderForOutput, batch_size=50, epochs=50, \r\n",
        "#           callbacks=[MyCallback(), reduce_lr]) \r\n",
        "import time\r\n",
        "start_time = time.time()\r\n",
        "history = model.fit([encoder_for_input , decoder_for_input], decoder_for_output, batch_size=30, epochs=70)\r\n",
        "print(\"--- %s seconds ---\" % (time.time() - start_time))\r\n"
      ],
      "execution_count": 21,
      "outputs": [
        {
          "output_type": "stream",
          "text": [
            "Epoch 1/70\n",
            "80/80 [==============================] - 13s 77ms/step - loss: 2.0470 - accuracy: 0.1967\n",
            "Epoch 2/70\n",
            "80/80 [==============================] - 6s 77ms/step - loss: 1.5005 - accuracy: 0.3101\n",
            "Epoch 3/70\n",
            "80/80 [==============================] - 6s 76ms/step - loss: 1.5089 - accuracy: 0.3047\n",
            "Epoch 4/70\n",
            "80/80 [==============================] - 6s 76ms/step - loss: 1.4423 - accuracy: 0.3112\n",
            "Epoch 5/70\n",
            "80/80 [==============================] - 6s 77ms/step - loss: 1.3839 - accuracy: 0.3174\n",
            "Epoch 6/70\n",
            "80/80 [==============================] - 6s 78ms/step - loss: 1.3877 - accuracy: 0.3175\n",
            "Epoch 7/70\n",
            "80/80 [==============================] - 6s 78ms/step - loss: 1.3545 - accuracy: 0.3196\n",
            "Epoch 8/70\n",
            "80/80 [==============================] - 6s 77ms/step - loss: 1.2887 - accuracy: 0.3315\n",
            "Epoch 9/70\n",
            "80/80 [==============================] - 6s 78ms/step - loss: 1.2665 - accuracy: 0.3364\n",
            "Epoch 10/70\n",
            "80/80 [==============================] - 6s 77ms/step - loss: 1.2325 - accuracy: 0.3392\n",
            "Epoch 11/70\n",
            "80/80 [==============================] - 6s 77ms/step - loss: 1.1988 - accuracy: 0.3434\n",
            "Epoch 12/70\n",
            "80/80 [==============================] - 6s 77ms/step - loss: 1.1734 - accuracy: 0.3499\n",
            "Epoch 13/70\n",
            "80/80 [==============================] - 6s 77ms/step - loss: 1.1424 - accuracy: 0.3564\n",
            "Epoch 14/70\n",
            "80/80 [==============================] - 6s 79ms/step - loss: 1.1280 - accuracy: 0.3616\n",
            "Epoch 15/70\n",
            "80/80 [==============================] - 6s 79ms/step - loss: 1.0803 - accuracy: 0.3692\n",
            "Epoch 16/70\n",
            "80/80 [==============================] - 6s 77ms/step - loss: 1.0391 - accuracy: 0.3844\n",
            "Epoch 17/70\n",
            "80/80 [==============================] - 6s 76ms/step - loss: 0.9863 - accuracy: 0.3978\n",
            "Epoch 18/70\n",
            "80/80 [==============================] - 6s 77ms/step - loss: 0.9996 - accuracy: 0.4021\n",
            "Epoch 19/70\n",
            "80/80 [==============================] - 6s 76ms/step - loss: 0.9490 - accuracy: 0.4178\n",
            "Epoch 20/70\n",
            "80/80 [==============================] - 6s 77ms/step - loss: 0.9379 - accuracy: 0.4249\n",
            "Epoch 21/70\n",
            "80/80 [==============================] - 6s 78ms/step - loss: 0.8898 - accuracy: 0.4429\n",
            "Epoch 22/70\n",
            "80/80 [==============================] - 6s 78ms/step - loss: 0.8433 - accuracy: 0.4654\n",
            "Epoch 23/70\n",
            "80/80 [==============================] - 6s 77ms/step - loss: 0.8170 - accuracy: 0.4805\n",
            "Epoch 24/70\n",
            "80/80 [==============================] - 6s 78ms/step - loss: 0.7821 - accuracy: 0.5032\n",
            "Epoch 25/70\n",
            "80/80 [==============================] - 6s 78ms/step - loss: 0.7761 - accuracy: 0.5183\n",
            "Epoch 26/70\n",
            "80/80 [==============================] - 6s 78ms/step - loss: 0.7327 - accuracy: 0.5403\n",
            "Epoch 27/70\n",
            "80/80 [==============================] - 6s 77ms/step - loss: 0.6873 - accuracy: 0.5651\n",
            "Epoch 28/70\n",
            "80/80 [==============================] - 6s 78ms/step - loss: 0.6702 - accuracy: 0.5835\n",
            "Epoch 29/70\n",
            "80/80 [==============================] - 6s 77ms/step - loss: 0.6350 - accuracy: 0.6057\n",
            "Epoch 30/70\n",
            "80/80 [==============================] - 6s 79ms/step - loss: 0.5996 - accuracy: 0.6364\n",
            "Epoch 31/70\n",
            "80/80 [==============================] - 6s 78ms/step - loss: 0.5604 - accuracy: 0.6632\n",
            "Epoch 32/70\n",
            "80/80 [==============================] - 6s 77ms/step - loss: 0.5457 - accuracy: 0.6748\n",
            "Epoch 33/70\n",
            "80/80 [==============================] - 6s 77ms/step - loss: 0.5244 - accuracy: 0.7013\n",
            "Epoch 34/70\n",
            "80/80 [==============================] - 6s 77ms/step - loss: 0.4956 - accuracy: 0.7189\n",
            "Epoch 35/70\n",
            "80/80 [==============================] - 6s 77ms/step - loss: 0.4628 - accuracy: 0.7434\n",
            "Epoch 36/70\n",
            "80/80 [==============================] - 6s 78ms/step - loss: 0.4492 - accuracy: 0.7604\n",
            "Epoch 37/70\n",
            "80/80 [==============================] - 6s 77ms/step - loss: 0.4098 - accuracy: 0.7863\n",
            "Epoch 38/70\n",
            "80/80 [==============================] - 6s 77ms/step - loss: 0.3924 - accuracy: 0.8054\n",
            "Epoch 39/70\n",
            "80/80 [==============================] - 6s 77ms/step - loss: 0.3622 - accuracy: 0.8288\n",
            "Epoch 40/70\n",
            "80/80 [==============================] - 6s 77ms/step - loss: 0.3293 - accuracy: 0.8455\n",
            "Epoch 41/70\n",
            "80/80 [==============================] - 6s 78ms/step - loss: 0.3194 - accuracy: 0.8646\n",
            "Epoch 42/70\n",
            "80/80 [==============================] - 6s 77ms/step - loss: 0.2876 - accuracy: 0.8753\n",
            "Epoch 43/70\n",
            "80/80 [==============================] - 6s 77ms/step - loss: 0.2584 - accuracy: 0.8916\n",
            "Epoch 44/70\n",
            "80/80 [==============================] - 6s 76ms/step - loss: 0.2569 - accuracy: 0.9056\n",
            "Epoch 45/70\n",
            "80/80 [==============================] - 6s 77ms/step - loss: 0.2291 - accuracy: 0.9154\n",
            "Epoch 46/70\n",
            "80/80 [==============================] - 6s 77ms/step - loss: 0.2124 - accuracy: 0.9307\n",
            "Epoch 47/70\n",
            "80/80 [==============================] - 6s 77ms/step - loss: 0.1915 - accuracy: 0.9405\n",
            "Epoch 48/70\n",
            "80/80 [==============================] - 6s 77ms/step - loss: 0.1822 - accuracy: 0.9512\n",
            "Epoch 49/70\n",
            "80/80 [==============================] - 6s 77ms/step - loss: 0.1646 - accuracy: 0.9551\n",
            "Epoch 50/70\n",
            "80/80 [==============================] - 6s 77ms/step - loss: 0.1519 - accuracy: 0.9639\n",
            "Epoch 51/70\n",
            "80/80 [==============================] - 6s 77ms/step - loss: 0.1334 - accuracy: 0.9704\n",
            "Epoch 52/70\n",
            "80/80 [==============================] - 6s 78ms/step - loss: 0.1263 - accuracy: 0.9727\n",
            "Epoch 53/70\n",
            "80/80 [==============================] - 6s 76ms/step - loss: 0.1142 - accuracy: 0.9771\n",
            "Epoch 54/70\n",
            "80/80 [==============================] - 6s 76ms/step - loss: 0.1037 - accuracy: 0.9813\n",
            "Epoch 55/70\n",
            "80/80 [==============================] - 6s 77ms/step - loss: 0.0916 - accuracy: 0.9846\n",
            "Epoch 56/70\n",
            "80/80 [==============================] - 6s 76ms/step - loss: 0.0833 - accuracy: 0.9871\n",
            "Epoch 57/70\n",
            "80/80 [==============================] - 6s 77ms/step - loss: 0.0749 - accuracy: 0.9883\n",
            "Epoch 58/70\n",
            "80/80 [==============================] - 6s 77ms/step - loss: 0.0677 - accuracy: 0.9911\n",
            "Epoch 59/70\n",
            "80/80 [==============================] - 6s 78ms/step - loss: 0.0618 - accuracy: 0.9902\n",
            "Epoch 60/70\n",
            "80/80 [==============================] - 6s 78ms/step - loss: 0.0570 - accuracy: 0.9917\n",
            "Epoch 61/70\n",
            "80/80 [==============================] - 6s 78ms/step - loss: 0.0495 - accuracy: 0.9940\n",
            "Epoch 62/70\n",
            "80/80 [==============================] - 6s 78ms/step - loss: 0.0435 - accuracy: 0.9938\n",
            "Epoch 63/70\n",
            "80/80 [==============================] - 6s 78ms/step - loss: 0.0385 - accuracy: 0.9943\n",
            "Epoch 64/70\n",
            "80/80 [==============================] - 6s 79ms/step - loss: 0.0354 - accuracy: 0.9954\n",
            "Epoch 65/70\n",
            "80/80 [==============================] - 6s 80ms/step - loss: 0.0318 - accuracy: 0.9955\n",
            "Epoch 66/70\n",
            "80/80 [==============================] - 6s 78ms/step - loss: 0.0283 - accuracy: 0.9952\n",
            "Epoch 67/70\n",
            "80/80 [==============================] - 6s 78ms/step - loss: 0.0251 - accuracy: 0.9957\n",
            "Epoch 68/70\n",
            "80/80 [==============================] - 6s 78ms/step - loss: 0.0231 - accuracy: 0.9952\n",
            "Epoch 69/70\n",
            "80/80 [==============================] - 6s 77ms/step - loss: 0.0213 - accuracy: 0.9952\n",
            "Epoch 70/70\n",
            "80/80 [==============================] - 6s 77ms/step - loss: 0.0180 - accuracy: 0.9960\n",
            "--- 453.9300844669342 seconds ---\n"
          ],
          "name": "stdout"
        }
      ]
    },
    {
      "cell_type": "code",
      "metadata": {
        "id": "vNU_-BIkAnQH"
      },
      "source": [
        "# save data\n",
        "\n",
        "with open(path + 'seq2seq/seq2seq_tokenizer.pkl', 'wb') as file:\n",
        "   pickle.dump(tokenizer, file)\n",
        "\n",
        "model.save(path + 'seq2seq/seq2seq_training_model.h5')"
      ],
      "execution_count": 22,
      "outputs": []
    },
    {
      "cell_type": "markdown",
      "metadata": {
        "id": "Oa1URvQ4IFcT"
      },
      "source": [
        "# Visualize Learning History"
      ]
    },
    {
      "cell_type": "code",
      "metadata": {
        "colab": {
          "base_uri": "https://localhost:8080/",
          "height": 404
        },
        "id": "mFZTusv5DgSW",
        "outputId": "c1343f98-53b5-4025-8fc0-ee70d21c88d2"
      },
      "source": [
        "import matplotlib.pyplot as plt\r\n",
        "%matplotlib inline\r\n",
        "#accuracy\r\n",
        "plt.figure(figsize=(10, 6))\r\n",
        "plt.plot(history.history['accuracy'])\r\n",
        "plt.title('model accuracy')\r\n",
        "plt.ylabel('accuracy')\r\n",
        "plt.xlabel('epoch')\r\n",
        "plt.show()"
      ],
      "execution_count": 23,
      "outputs": [
        {
          "output_type": "display_data",
          "data": {
            "image/png": "[encoded data removed]",
            "text/plain": [
              "<Figure size 720x432 with 1 Axes>"
            ]
          },
          "metadata": {
            "tags": [],
            "needs_background": "light"
          }
        }
      ]
    },
    {
      "cell_type": "code",
      "metadata": {
        "colab": {
          "base_uri": "https://localhost:8080/",
          "height": 404
        },
        "id": "Gult4ld6DhzB",
        "outputId": "c86b076b-6e79-44d4-fed3-dfc9cbff57b9"
      },
      "source": [
        "plt.figure(figsize=(10, 6))\r\n",
        "plt.plot(history.history['loss'])\r\n",
        "plt.title('model loss')\r\n",
        "plt.ylabel('loss')\r\n",
        "plt.xlabel('epoch')\r\n",
        "plt.show()"
      ],
      "execution_count": 24,
      "outputs": [
        {
          "output_type": "display_data",
          "data": {
            "image/png": "[encoded data removed]",
            "text/plain": [
              "<Figure size 720x432 with 1 Axes>"
            ]
          },
          "metadata": {
            "tags": [],
            "needs_background": "light"
          }
        }
      ]
    },
    {
      "cell_type": "markdown",
      "metadata": {
        "id": "H-sBBj0IIK0a"
      },
      "source": [
        "# Chatting"
      ]
    },
    {
      "cell_type": "code",
      "metadata": {
        "id": "RFwahi6SwFPi"
      },
      "source": [
        "def makeInferenceModels():\r\n",
        "    encoder_model = Model(encoder_inputs, encoder_states)\r\n",
        "    decoder_state_input_h = Input(shape=(200,), name='decoderStateInput_h')\r\n",
        "    decoder_state_input_c = Input(shape=(200,), name='decoderStateInput_c')\r\n",
        "    decoder_states_inputs = [decoder_state_input_h, decoder_state_input_c]\r\n",
        "\r\n",
        "    decoder_outputs, state_h, state_c = decoder_LSTM(decoder_embedding, initial_state=decoder_states_inputs)\r\n",
        "    decoder_states = [state_h, state_c]\r\n",
        "    decoder_outputs = decoder_dense(decoder_outputs)\r\n",
        "    decoder_model = Model([decoder_inputs] + decoder_states_inputs, [decoder_outputs] + decoder_states)\r\n",
        "\r\n",
        "    return encoder_model, decoder_model"
      ],
      "execution_count": 25,
      "outputs": []
    },
    {
      "cell_type": "code",
      "metadata": {
        "id": "UceIm_3FxEik"
      },
      "source": [
        "def strToTokens(sentence: str): \r\n",
        "  words = clean_text(sentence).lower().split()\r\n",
        "  tokensList = list()\r\n",
        "  return pad_sequences(tokenizer.texts_to_sequences([sentence]), maxlen=max_len_questions , padding='post')"
      ],
      "execution_count": 26,
      "outputs": []
    },
    {
      "cell_type": "code",
      "metadata": {
        "id": "zFXWIWqCxI3K",
        "colab": {
          "base_uri": "https://localhost:8080/"
        },
        "outputId": "73ceda4d-4edc-4ef4-df66-4abee4ba3d26"
      },
      "source": [
        "enc_model, dec_model = makeInferenceModels()\r\n",
        "while True:\r\n",
        "    question = input('Задайте вопрос: ')\r\n",
        "    if question == 'q' or question == 'й':\r\n",
        "        break\r\n",
        "    states_values = enc_model.predict(strToTokens(question))\r\n",
        "\r\n",
        "    empty_target_seq = np.zeros((1, 1))\r\n",
        "    empty_target_seq[0, 0] = tokenizer.word_index['start']\r\n",
        "    stop_condition = False\r\n",
        "    decoded_translation = ''\r\n",
        "    while not stop_condition:\r\n",
        "        dec_outputs, h, c = dec_model.predict([empty_target_seq] + states_values)\r\n",
        "\r\n",
        "        sampled_word_index = np.argmax(dec_outputs[0, 0, :])\r\n",
        "        sampled_word = None\r\n",
        "        for word, index in tokenizer.word_index.items():\r\n",
        "            if sampled_word == 'end' or len(decoded_translation.split()) > maxLenAnswers:\r\n",
        "                stop_condition = True\r\n",
        "            if sampled_word_index == index and stop_condition != True:\r\n",
        "                decoded_translation += ' {}'.format(word)\r\n",
        "                sampled_word = word\r\n",
        "\r\n",
        "        empty_target_seq = np.zeros((1, 1))\r\n",
        "        empty_target_seq[0, 0] = sampled_word_index\r\n",
        "        states_values = [h, c]\r\n",
        "\r\n",
        "    print(decoded_translation)"
      ],
      "execution_count": 27,
      "outputs": [
        {
          "output_type": "stream",
          "text": [
            "Задайте вопрос: q\n"
          ],
          "name": "stdout"
        }
      ]
    },
    {
      "cell_type": "markdown",
      "metadata": {
        "id": "eAlCmWaFAG03"
      },
      "source": [
        "# Seq2Seq Class"
      ]
    },
    {
      "cell_type": "code",
      "metadata": {
        "id": "JGQ5oF2aAO82"
      },
      "source": [
        "from keras.models import Model\n",
        "\n",
        "class Seq2SeqModel:\n",
        "    def __init__(self, model, tokenizer, max_len_questions):\n",
        "        self._model = model\n",
        "        self._tokenizer = tokenizer\n",
        "        self._max_len_questions = max_len_questions\n",
        "        self._encoder_model, self._decoder_model = self._make_inference_models()\n",
        "\n",
        "    def _str_to_tokens(self, sentence: str):\n",
        "        words = self._clean_text(sentence).lower().split()\n",
        "        return pad_sequences(self._tokenizer.texts_to_sequences([words]), maxlen=self._max_len_questions,\n",
        "                             padding='post')\n",
        "\n",
        "    def _clean_text(self, sentence: str):\n",
        "        sentence = sentence.lower()\n",
        "        sentence = re.sub(r\"[-()\\\"#/@;:<>{}`+=~|.!?,]\", \"\", sentence)\n",
        "        return sentence\n",
        "\n",
        "    def _make_inference_models(self):\n",
        "        encoder_inputs = self._model.input[0]\n",
        "        encoder_embedding = self._model.layers[2](encoder_inputs)\n",
        "        encoder_outputs, state_h_enc, state_c_enc = self._model.layers[4](encoder_embedding)\n",
        "        encoder_states = [state_h_enc, state_c_enc]\n",
        "\n",
        "        encoder_model = Model(encoder_inputs, encoder_states)\n",
        "\n",
        "        decoder_inputs = self._model.input[1]\n",
        "        decoder_state_input_h = Input(shape=(200,), name='decoderStateInput_h')\n",
        "        decoder_state_input_c = Input(shape=(200,), name='decoderStateInput_c')\n",
        "\n",
        "        decoder_states_inputs = [decoder_state_input_h, decoder_state_input_c]\n",
        "        decoder_embedding = self._model.layers[3](decoder_inputs)\n",
        "        decoder_LSTM = self._model.layers[5]\n",
        "        decoder_outputs, state_h_dec, state_c_dec = decoder_LSTM(decoder_embedding, initial_state=decoder_states_inputs)\n",
        "        decoder_states = [state_h_dec, state_c_dec]\n",
        "        decoder_dense = self._model.layers[6]\n",
        "        decoder_outputs = decoder_dense(decoder_outputs)\n",
        "\n",
        "        decoder_model = Model([decoder_inputs] + decoder_states_inputs, [decoder_outputs] + decoder_states)\n",
        "\n",
        "        return encoder_model, decoder_model\n",
        "\n",
        "    def get_answer(self, sentence: str):\n",
        "        states_values = self._encoder_model.predict(self._str_to_tokens(sentence))\n",
        "        empty_target_seq = np.zeros((1, 1))\n",
        "        empty_target_seq[0, 0] = self._tokenizer.word_index['start']\n",
        "        stop_condition = False\n",
        "        decoded_translation = ''\n",
        "        while not stop_condition:\n",
        "            dec_outputs, h, c = self._decoder_model.predict([empty_target_seq] + states_values)\n",
        "            sampled_word_index = np.argmax(dec_outputs[0, 0, :])\n",
        "            \n",
        "            word = self._tokenizer.index_word[sampled_word_index]\n",
        "            if word == 'end' or len(decoded_translation.split()) > 21:\n",
        "                stop_condition = True\n",
        "            else:\n",
        "                decoded_translation += ' {}'.format(word)\n",
        "\n",
        "            empty_target_seq = np.zeros((1, 1))\n",
        "            empty_target_seq[0, 0] = sampled_word_index\n",
        "            states_values = [h, c]\n",
        "        decoded_translation = decoded_translation.strip().capitalize()\n",
        "        return decoded_translation\n"
      ],
      "execution_count": 28,
      "outputs": []
    },
    {
      "cell_type": "code",
      "metadata": {
        "id": "PxhzRie6BOYt"
      },
      "source": [
        "import pickle\n",
        "from keras.models import load_model\n",
        "\n",
        "model = load_model(path + 'seq2seq/seq2seq_training_model.h5')\n",
        "\n",
        "with open(path + 'seq2seq/seq2seq_tokenizer.pkl', 'rb') as file:\n",
        "  tokenizer = pickle.load(file)\n"
      ],
      "execution_count": 29,
      "outputs": []
    },
    {
      "cell_type": "code",
      "metadata": {
        "id": "RzqUy8pqBLL7"
      },
      "source": [
        "seq2seq = Seq2SeqModel(model, tokenizer, 15)"
      ],
      "execution_count": 30,
      "outputs": []
    },
    {
      "cell_type": "code",
      "metadata": {
        "colab": {
          "base_uri": "https://localhost:8080/"
        },
        "id": "kU30v9bIRURR",
        "outputId": "3c7b5722-7b94-4c7d-be3c-8a76f9831dc1"
      },
      "source": [
        "print(seq2seq.get_answer(\"Ты милый\"))"
      ],
      "execution_count": 31,
      "outputs": [
        {
          "output_type": "stream",
          "text": [
            "Я считаю тебя красивой\n"
          ],
          "name": "stdout"
        }
      ]
    },
    {
      "cell_type": "code",
      "metadata": {
        "id": "DoSUYNYSB9MI",
        "colab": {
          "base_uri": "https://localhost:8080/",
          "height": 545
        },
        "outputId": "d3f2749c-7d89-445e-b2a1-0237df6fdbde"
      },
      "source": [
        "while True:\n",
        "  question = input('Задайте вопрос: ')\n",
        "  if question == 'q' or question == 'й':\n",
        "    break\n",
        "  seq2seq.get_answer(question)"
      ],
      "execution_count": 32,
      "outputs": [
        {
          "output_type": "stream",
          "text": [
            "Задайте вопрос: ты такой милый\n"
          ],
          "name": "stdout"
        },
        {
          "output_type": "error",
          "ename": "KeyboardInterrupt",
          "evalue": "ignored",
          "traceback": [
            "\u001b[0;31m---------------------------------------------------------------------------\u001b[0m",
            "\u001b[0;31mKeyboardInterrupt\u001b[0m                         Traceback (most recent call last)",
            "\u001b[0;32m/usr/local/lib/python3.6/dist-packages/ipykernel/kernelbase.py\u001b[0m in \u001b[0;36m_input_request\u001b[0;34m(self, prompt, ident, parent, password)\u001b[0m\n\u001b[1;32m    728\u001b[0m             \u001b[0;32mtry\u001b[0m\u001b[0;34m:\u001b[0m\u001b[0;34m\u001b[0m\u001b[0;34m\u001b[0m\u001b[0m\n\u001b[0;32m--> 729\u001b[0;31m                 \u001b[0mident\u001b[0m\u001b[0;34m,\u001b[0m \u001b[0mreply\u001b[0m \u001b[0;34m=\u001b[0m \u001b[0mself\u001b[0m\u001b[0;34m.\u001b[0m\u001b[0msession\u001b[0m\u001b[0;34m.\u001b[0m\u001b[0mrecv\u001b[0m\u001b[0;34m(\u001b[0m\u001b[0mself\u001b[0m\u001b[0;34m.\u001b[0m\u001b[0mstdin_socket\u001b[0m\u001b[0;34m,\u001b[0m \u001b[0;36m0\u001b[0m\u001b[0;34m)\u001b[0m\u001b[0;34m\u001b[0m\u001b[0;34m\u001b[0m\u001b[0m\n\u001b[0m\u001b[1;32m    730\u001b[0m             \u001b[0;32mexcept\u001b[0m \u001b[0mException\u001b[0m\u001b[0;34m:\u001b[0m\u001b[0;34m\u001b[0m\u001b[0;34m\u001b[0m\u001b[0m\n",
            "\u001b[0;32m/usr/local/lib/python3.6/dist-packages/jupyter_client/session.py\u001b[0m in \u001b[0;36mrecv\u001b[0;34m(self, socket, mode, content, copy)\u001b[0m\n\u001b[1;32m    802\u001b[0m         \u001b[0;32mtry\u001b[0m\u001b[0;34m:\u001b[0m\u001b[0;34m\u001b[0m\u001b[0;34m\u001b[0m\u001b[0m\n\u001b[0;32m--> 803\u001b[0;31m             \u001b[0mmsg_list\u001b[0m \u001b[0;34m=\u001b[0m \u001b[0msocket\u001b[0m\u001b[0;34m.\u001b[0m\u001b[0mrecv_multipart\u001b[0m\u001b[0;34m(\u001b[0m\u001b[0mmode\u001b[0m\u001b[0;34m,\u001b[0m \u001b[0mcopy\u001b[0m\u001b[0;34m=\u001b[0m\u001b[0mcopy\u001b[0m\u001b[0;34m)\u001b[0m\u001b[0;34m\u001b[0m\u001b[0;34m\u001b[0m\u001b[0m\n\u001b[0m\u001b[1;32m    804\u001b[0m         \u001b[0;32mexcept\u001b[0m \u001b[0mzmq\u001b[0m\u001b[0;34m.\u001b[0m\u001b[0mZMQError\u001b[0m \u001b[0;32mas\u001b[0m \u001b[0me\u001b[0m\u001b[0;34m:\u001b[0m\u001b[0;34m\u001b[0m\u001b[0;34m\u001b[0m\u001b[0m\n",
            "\u001b[0;32m/usr/local/lib/python3.6/dist-packages/zmq/sugar/socket.py\u001b[0m in \u001b[0;36mrecv_multipart\u001b[0;34m(self, flags, copy, track)\u001b[0m\n\u001b[1;32m    582\u001b[0m         \"\"\"\n\u001b[0;32m--> 583\u001b[0;31m         \u001b[0mparts\u001b[0m \u001b[0;34m=\u001b[0m \u001b[0;34m[\u001b[0m\u001b[0mself\u001b[0m\u001b[0;34m.\u001b[0m\u001b[0mrecv\u001b[0m\u001b[0;34m(\u001b[0m\u001b[0mflags\u001b[0m\u001b[0;34m,\u001b[0m \u001b[0mcopy\u001b[0m\u001b[0;34m=\u001b[0m\u001b[0mcopy\u001b[0m\u001b[0;34m,\u001b[0m \u001b[0mtrack\u001b[0m\u001b[0;34m=\u001b[0m\u001b[0mtrack\u001b[0m\u001b[0;34m)\u001b[0m\u001b[0;34m]\u001b[0m\u001b[0;34m\u001b[0m\u001b[0;34m\u001b[0m\u001b[0m\n\u001b[0m\u001b[1;32m    584\u001b[0m         \u001b[0;31m# have first part already, only loop while more to receive\u001b[0m\u001b[0;34m\u001b[0m\u001b[0;34m\u001b[0m\u001b[0;34m\u001b[0m\u001b[0m\n",
            "\u001b[0;32mzmq/backend/cython/socket.pyx\u001b[0m in \u001b[0;36mzmq.backend.cython.socket.Socket.recv\u001b[0;34m()\u001b[0m\n",
            "\u001b[0;32mzmq/backend/cython/socket.pyx\u001b[0m in \u001b[0;36mzmq.backend.cython.socket.Socket.recv\u001b[0;34m()\u001b[0m\n",
            "\u001b[0;32mzmq/backend/cython/socket.pyx\u001b[0m in \u001b[0;36mzmq.backend.cython.socket._recv_copy\u001b[0;34m()\u001b[0m\n",
            "\u001b[0;32m/usr/local/lib/python3.6/dist-packages/zmq/backend/cython/checkrc.pxd\u001b[0m in \u001b[0;36mzmq.backend.cython.checkrc._check_rc\u001b[0;34m()\u001b[0m\n",
            "\u001b[0;31mKeyboardInterrupt\u001b[0m: ",
            "\nDuring handling of the above exception, another exception occurred:\n",
            "\u001b[0;31mKeyboardInterrupt\u001b[0m                         Traceback (most recent call last)",
            "\u001b[0;32m<ipython-input-32-d5a1a1523c80>\u001b[0m in \u001b[0;36m<module>\u001b[0;34m()\u001b[0m\n\u001b[1;32m      1\u001b[0m \u001b[0;32mwhile\u001b[0m \u001b[0;32mTrue\u001b[0m\u001b[0;34m:\u001b[0m\u001b[0;34m\u001b[0m\u001b[0;34m\u001b[0m\u001b[0m\n\u001b[0;32m----> 2\u001b[0;31m   \u001b[0mquestion\u001b[0m \u001b[0;34m=\u001b[0m \u001b[0minput\u001b[0m\u001b[0;34m(\u001b[0m\u001b[0;34m'Задайте вопрос: '\u001b[0m\u001b[0;34m)\u001b[0m\u001b[0;34m\u001b[0m\u001b[0;34m\u001b[0m\u001b[0m\n\u001b[0m\u001b[1;32m      3\u001b[0m   \u001b[0;32mif\u001b[0m \u001b[0mquestion\u001b[0m \u001b[0;34m==\u001b[0m \u001b[0;34m'q'\u001b[0m \u001b[0;32mor\u001b[0m \u001b[0mquestion\u001b[0m \u001b[0;34m==\u001b[0m \u001b[0;34m'й'\u001b[0m\u001b[0;34m:\u001b[0m\u001b[0;34m\u001b[0m\u001b[0;34m\u001b[0m\u001b[0m\n\u001b[1;32m      4\u001b[0m     \u001b[0;32mbreak\u001b[0m\u001b[0;34m\u001b[0m\u001b[0;34m\u001b[0m\u001b[0m\n\u001b[1;32m      5\u001b[0m   \u001b[0mseq2seq\u001b[0m\u001b[0;34m.\u001b[0m\u001b[0mget_answer\u001b[0m\u001b[0;34m(\u001b[0m\u001b[0mquestion\u001b[0m\u001b[0;34m)\u001b[0m\u001b[0;34m\u001b[0m\u001b[0;34m\u001b[0m\u001b[0m\n",
            "\u001b[0;32m/usr/local/lib/python3.6/dist-packages/ipykernel/kernelbase.py\u001b[0m in \u001b[0;36mraw_input\u001b[0;34m(self, prompt)\u001b[0m\n\u001b[1;32m    702\u001b[0m             \u001b[0mself\u001b[0m\u001b[0;34m.\u001b[0m\u001b[0m_parent_ident\u001b[0m\u001b[0;34m,\u001b[0m\u001b[0;34m\u001b[0m\u001b[0;34m\u001b[0m\u001b[0m\n\u001b[1;32m    703\u001b[0m             \u001b[0mself\u001b[0m\u001b[0;34m.\u001b[0m\u001b[0m_parent_header\u001b[0m\u001b[0;34m,\u001b[0m\u001b[0;34m\u001b[0m\u001b[0;34m\u001b[0m\u001b[0m\n\u001b[0;32m--> 704\u001b[0;31m             \u001b[0mpassword\u001b[0m\u001b[0;34m=\u001b[0m\u001b[0;32mFalse\u001b[0m\u001b[0;34m,\u001b[0m\u001b[0;34m\u001b[0m\u001b[0;34m\u001b[0m\u001b[0m\n\u001b[0m\u001b[1;32m    705\u001b[0m         )\n\u001b[1;32m    706\u001b[0m \u001b[0;34m\u001b[0m\u001b[0m\n",
            "\u001b[0;32m/usr/local/lib/python3.6/dist-packages/ipykernel/kernelbase.py\u001b[0m in \u001b[0;36m_input_request\u001b[0;34m(self, prompt, ident, parent, password)\u001b[0m\n\u001b[1;32m    732\u001b[0m             \u001b[0;32mexcept\u001b[0m \u001b[0mKeyboardInterrupt\u001b[0m\u001b[0;34m:\u001b[0m\u001b[0;34m\u001b[0m\u001b[0;34m\u001b[0m\u001b[0m\n\u001b[1;32m    733\u001b[0m                 \u001b[0;31m# re-raise KeyboardInterrupt, to truncate traceback\u001b[0m\u001b[0;34m\u001b[0m\u001b[0;34m\u001b[0m\u001b[0;34m\u001b[0m\u001b[0m\n\u001b[0;32m--> 734\u001b[0;31m                 \u001b[0;32mraise\u001b[0m \u001b[0mKeyboardInterrupt\u001b[0m\u001b[0;34m\u001b[0m\u001b[0;34m\u001b[0m\u001b[0m\n\u001b[0m\u001b[1;32m    735\u001b[0m             \u001b[0;32melse\u001b[0m\u001b[0;34m:\u001b[0m\u001b[0;34m\u001b[0m\u001b[0;34m\u001b[0m\u001b[0m\n\u001b[1;32m    736\u001b[0m                 \u001b[0;32mbreak\u001b[0m\u001b[0;34m\u001b[0m\u001b[0;34m\u001b[0m\u001b[0m\n",
            "\u001b[0;31mKeyboardInterrupt\u001b[0m: "
          ]
        }
      ]
    }
  ]
}